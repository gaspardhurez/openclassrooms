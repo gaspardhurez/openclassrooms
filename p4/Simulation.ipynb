{
 "cells": [
  {
   "cell_type": "markdown",
   "metadata": {},
   "source": [
    "## <a name=\"C4\">0. Importation et fonctions</a>"
   ]
  },
  {
   "cell_type": "markdown",
   "metadata": {},
   "source": [
    "### 0.1 Importation des librairies"
   ]
  },
  {
   "cell_type": "code",
   "execution_count": 83,
   "metadata": {},
   "outputs": [],
   "source": [
    "import warnings\n",
    "warnings.filterwarnings('ignore')\n",
    "\n",
    "import sqlite3\n",
    "import pandas as pd\n",
    "import numpy as np\n",
    "from pandasql import sqldf\n",
    "\n",
    "import plotly.express as px\n",
    "from plotly.subplots import make_subplots\n",
    "import plotly.graph_objects as go\n",
    "import plotly.io as pio\n",
    "\n",
    "# Feature Engineering\n",
    "from sklearn import model_selection, preprocessing\n",
    "from feature_engine import selection, imputation, encoding, discretisation, transformation, outliers, pipeline\n",
    "\n",
    "# Clustering\n",
    "from sklearn.preprocessing import StandardScaler, OneHotEncoder\n",
    "from sklearn.decomposition import PCA\n",
    "from sklearn.pipeline import Pipeline\n",
    "from sklearn.compose import ColumnTransformer\n",
    "from sklearn.cluster import KMeans, AgglomerativeClustering, DBSCAN\n",
    "from sklearn import metrics\n",
    "from scipy.cluster.hierarchy import dendrogram, linkage\n"
   ]
  },
  {
   "cell_type": "markdown",
   "metadata": {},
   "source": [
    "### 0.2 Définition des fonctions"
   ]
  },
  {
   "cell_type": "code",
   "execution_count": 84,
   "metadata": {},
   "outputs": [],
   "source": [
    "def plot_histograms(data, vars, categorical=False, h=False, top=None):\n",
    "    num_vars = len(vars)\n",
    "    num_cols = min(3, num_vars)\n",
    "    num_rows = (num_vars + num_cols - 1) // num_cols\n",
    "    \n",
    "    fig = make_subplots(rows=num_rows, cols=num_cols)\n",
    "    \n",
    "    for i, var in enumerate(vars):\n",
    "        row = (i // num_cols) + 1\n",
    "        col = (i % num_cols) + 1\n",
    "\n",
    "        if categorical:\n",
    "            hist_data = data[var].value_counts().reset_index()\n",
    "            if top:\n",
    "                hist_data = hist_data[0:top]\n",
    "                \n",
    "            if h:\n",
    "                trace = go.Bar(x=hist_data['count'], y=hist_data[var], orientation='h')\n",
    "            else:\n",
    "                trace = go.Bar(x=hist_data[var], y=hist_data['count'], name=var)\n",
    "                \n",
    "            fig.add_trace(trace, row=row, col=col)\n",
    "                \n",
    "        else:\n",
    "            fig.add_trace(go.Histogram(x=data[var], nbinsx=50, name=var), row=row, col=col)\n",
    "            \n",
    "        fig.update_xaxes(title_text=var, row=row, col=col)\n",
    "        fig.update_layout(height=len(vars)*150)\n",
    "    \n",
    "    fig.show()"
   ]
  },
  {
   "cell_type": "code",
   "execution_count": 85,
   "metadata": {},
   "outputs": [],
   "source": [
    "def inspect_null_values(data):\n",
    "    n_rows = data.shape[0]\n",
    "\n",
    "    for var in data.columns:\n",
    "        null_values = data[var].isnull().sum()\n",
    "        null_values_share = round(null_values / n_rows * 100)\n",
    "        print(f\"{var} null values: {null_values}, share: {null_values_share}%\")"
   ]
  },
  {
   "cell_type": "code",
   "execution_count": 86,
   "metadata": {},
   "outputs": [],
   "source": [
    "def get_df_from_array(pipe, X_train, X_test=None):\n",
    "    cols = pipe.get_feature_names_out()\n",
    "    X_train = pd.DataFrame(X_train, columns=cols)\n",
    "    if X_test:\n",
    "        X_test = pd.DataFrame(X_test, columns=cols)\n",
    "        return X_train, X_test\n",
    "    else:\n",
    "        return X_train"
   ]
  },
  {
   "cell_type": "markdown",
   "metadata": {},
   "source": [
    "### 0.3 Importation des données"
   ]
  },
  {
   "cell_type": "code",
   "execution_count": 87,
   "metadata": {},
   "outputs": [],
   "source": [
    "df = pd.read_csv('data/simulation_dataset.csv')"
   ]
  },
  {
   "cell_type": "markdown",
   "metadata": {},
   "source": [
    "## 1. Préparation des données"
   ]
  },
  {
   "cell_type": "markdown",
   "metadata": {},
   "source": [
    "1. Je filtre les colonnes\n",
    "2. Je crée les datasets par temporalité (An 1, An 1 + 1 mois, An 1 + 2 mois etc)\n",
    "2. J'extrais les clients du dataset initial\n",
    "3. Je filtre les subsets pour ne garder que ces clients et enlever les nouveaux\n",
    "4. Je recalcule la récence\n",
    "4. Je group by customer unique id\n",
    "5. Je fais l'ARI"
   ]
  },
  {
   "cell_type": "markdown",
   "metadata": {},
   "source": [
    "Pour tester la pertinence du clustering dans le temps, je décide de réaliser une simulation et d'évaluer l'évolution de la qualité des clusters mois après mois grâce à l'ARI (Adjusted Rand Index)."
   ]
  },
  {
   "cell_type": "code",
   "execution_count": 88,
   "metadata": {},
   "outputs": [
    {
     "data": {
      "text/html": [
       "<div>\n",
       "<style scoped>\n",
       "    .dataframe tbody tr th:only-of-type {\n",
       "        vertical-align: middle;\n",
       "    }\n",
       "\n",
       "    .dataframe tbody tr th {\n",
       "        vertical-align: top;\n",
       "    }\n",
       "\n",
       "    .dataframe thead th {\n",
       "        text-align: right;\n",
       "    }\n",
       "</style>\n",
       "<table border=\"1\" class=\"dataframe\">\n",
       "  <thead>\n",
       "    <tr style=\"text-align: right;\">\n",
       "      <th></th>\n",
       "      <th>Unnamed: 0</th>\n",
       "      <th>customer_unique_id</th>\n",
       "      <th>customer_id</th>\n",
       "      <th>zip_code</th>\n",
       "      <th>city</th>\n",
       "      <th>state</th>\n",
       "      <th>nb_orders</th>\n",
       "      <th>average_payment_value</th>\n",
       "      <th>average_payment_installments</th>\n",
       "      <th>average_review_score</th>\n",
       "      <th>average_delay</th>\n",
       "      <th>last_order_recency</th>\n",
       "      <th>average_quantity_per_order</th>\n",
       "      <th>average_product_price_per_order</th>\n",
       "      <th>favorite_product_category</th>\n",
       "      <th>order_date</th>\n",
       "    </tr>\n",
       "  </thead>\n",
       "  <tbody>\n",
       "    <tr>\n",
       "      <th>0</th>\n",
       "      <td>0</td>\n",
       "      <td>861eff4711a542e4b93843c6dd7febb0</td>\n",
       "      <td>06b8999e2fba1a1fbc88172c00ba8bc7</td>\n",
       "      <td>14409</td>\n",
       "      <td>franca</td>\n",
       "      <td>SP</td>\n",
       "      <td>1</td>\n",
       "      <td>146.87</td>\n",
       "      <td>2.0</td>\n",
       "      <td>4.0</td>\n",
       "      <td>NaN</td>\n",
       "      <td>519</td>\n",
       "      <td>1.0</td>\n",
       "      <td>124.99</td>\n",
       "      <td>moveis_escritorio</td>\n",
       "      <td>2017-05-16 15:05:35</td>\n",
       "    </tr>\n",
       "    <tr>\n",
       "      <th>1</th>\n",
       "      <td>1</td>\n",
       "      <td>290c77bc529b7ac935b93aa66c333dc3</td>\n",
       "      <td>18955e83d337fd6b2def6b18a428ac77</td>\n",
       "      <td>9790</td>\n",
       "      <td>sao bernardo do campo</td>\n",
       "      <td>SP</td>\n",
       "      <td>1</td>\n",
       "      <td>335.48</td>\n",
       "      <td>8.0</td>\n",
       "      <td>5.0</td>\n",
       "      <td>NaN</td>\n",
       "      <td>277</td>\n",
       "      <td>1.0</td>\n",
       "      <td>289.00</td>\n",
       "      <td>utilidades_domesticas</td>\n",
       "      <td>2018-01-12 20:48:24</td>\n",
       "    </tr>\n",
       "    <tr>\n",
       "      <th>2</th>\n",
       "      <td>2</td>\n",
       "      <td>060e732b5b29e8181a18229c7b0b2b5e</td>\n",
       "      <td>4e7b3e00288586ebd08712fdd0374a03</td>\n",
       "      <td>1151</td>\n",
       "      <td>sao paulo</td>\n",
       "      <td>SP</td>\n",
       "      <td>1</td>\n",
       "      <td>157.73</td>\n",
       "      <td>7.0</td>\n",
       "      <td>5.0</td>\n",
       "      <td>NaN</td>\n",
       "      <td>151</td>\n",
       "      <td>1.0</td>\n",
       "      <td>139.94</td>\n",
       "      <td>moveis_escritorio</td>\n",
       "      <td>2018-05-19 16:07:45</td>\n",
       "    </tr>\n",
       "    <tr>\n",
       "      <th>3</th>\n",
       "      <td>3</td>\n",
       "      <td>259dac757896d24d7702b9acbbff3f3c</td>\n",
       "      <td>b2b6027bc5c5109e529d4dc6358b12c3</td>\n",
       "      <td>8775</td>\n",
       "      <td>mogi das cruzes</td>\n",
       "      <td>SP</td>\n",
       "      <td>1</td>\n",
       "      <td>173.30</td>\n",
       "      <td>1.0</td>\n",
       "      <td>5.0</td>\n",
       "      <td>NaN</td>\n",
       "      <td>218</td>\n",
       "      <td>1.0</td>\n",
       "      <td>149.94</td>\n",
       "      <td>moveis_escritorio</td>\n",
       "      <td>2018-03-13 16:06:38</td>\n",
       "    </tr>\n",
       "    <tr>\n",
       "      <th>4</th>\n",
       "      <td>4</td>\n",
       "      <td>345ecd01c38d18a9036ed96c73b8d066</td>\n",
       "      <td>4f2d8ab171c80ec8364f7c12e35b23ad</td>\n",
       "      <td>13056</td>\n",
       "      <td>campinas</td>\n",
       "      <td>SP</td>\n",
       "      <td>1</td>\n",
       "      <td>252.25</td>\n",
       "      <td>8.0</td>\n",
       "      <td>5.0</td>\n",
       "      <td>NaN</td>\n",
       "      <td>80</td>\n",
       "      <td>1.0</td>\n",
       "      <td>230.00</td>\n",
       "      <td>casa_conforto</td>\n",
       "      <td>2018-07-29 09:51:30</td>\n",
       "    </tr>\n",
       "  </tbody>\n",
       "</table>\n",
       "</div>"
      ],
      "text/plain": [
       "   Unnamed: 0                customer_unique_id  \\\n",
       "0           0  861eff4711a542e4b93843c6dd7febb0   \n",
       "1           1  290c77bc529b7ac935b93aa66c333dc3   \n",
       "2           2  060e732b5b29e8181a18229c7b0b2b5e   \n",
       "3           3  259dac757896d24d7702b9acbbff3f3c   \n",
       "4           4  345ecd01c38d18a9036ed96c73b8d066   \n",
       "\n",
       "                        customer_id  zip_code                   city state  \\\n",
       "0  06b8999e2fba1a1fbc88172c00ba8bc7     14409                 franca    SP   \n",
       "1  18955e83d337fd6b2def6b18a428ac77      9790  sao bernardo do campo    SP   \n",
       "2  4e7b3e00288586ebd08712fdd0374a03      1151              sao paulo    SP   \n",
       "3  b2b6027bc5c5109e529d4dc6358b12c3      8775        mogi das cruzes    SP   \n",
       "4  4f2d8ab171c80ec8364f7c12e35b23ad     13056               campinas    SP   \n",
       "\n",
       "   nb_orders  average_payment_value  average_payment_installments  \\\n",
       "0          1                 146.87                           2.0   \n",
       "1          1                 335.48                           8.0   \n",
       "2          1                 157.73                           7.0   \n",
       "3          1                 173.30                           1.0   \n",
       "4          1                 252.25                           8.0   \n",
       "\n",
       "   average_review_score  average_delay  last_order_recency  \\\n",
       "0                   4.0            NaN                 519   \n",
       "1                   5.0            NaN                 277   \n",
       "2                   5.0            NaN                 151   \n",
       "3                   5.0            NaN                 218   \n",
       "4                   5.0            NaN                  80   \n",
       "\n",
       "   average_quantity_per_order  average_product_price_per_order  \\\n",
       "0                         1.0                           124.99   \n",
       "1                         1.0                           289.00   \n",
       "2                         1.0                           139.94   \n",
       "3                         1.0                           149.94   \n",
       "4                         1.0                           230.00   \n",
       "\n",
       "  favorite_product_category           order_date  \n",
       "0         moveis_escritorio  2017-05-16 15:05:35  \n",
       "1     utilidades_domesticas  2018-01-12 20:48:24  \n",
       "2         moveis_escritorio  2018-05-19 16:07:45  \n",
       "3         moveis_escritorio  2018-03-13 16:06:38  \n",
       "4             casa_conforto  2018-07-29 09:51:30  "
      ]
     },
     "execution_count": 88,
     "metadata": {},
     "output_type": "execute_result"
    }
   ],
   "source": [
    "df.head()"
   ]
  },
  {
   "cell_type": "code",
   "execution_count": 89,
   "metadata": {},
   "outputs": [],
   "source": [
    "df = df.drop(columns='Unnamed: 0')"
   ]
  },
  {
   "cell_type": "code",
   "execution_count": 90,
   "metadata": {},
   "outputs": [],
   "source": [
    "df = df[['average_payment_value', 'average_payment_installments', 'average_review_score', 'last_order_recency', 'customer_unique_id', 'order_date']]"
   ]
  },
  {
   "cell_type": "code",
   "execution_count": 91,
   "metadata": {},
   "outputs": [
    {
     "data": {
      "text/html": [
       "<div>\n",
       "<style scoped>\n",
       "    .dataframe tbody tr th:only-of-type {\n",
       "        vertical-align: middle;\n",
       "    }\n",
       "\n",
       "    .dataframe tbody tr th {\n",
       "        vertical-align: top;\n",
       "    }\n",
       "\n",
       "    .dataframe thead th {\n",
       "        text-align: right;\n",
       "    }\n",
       "</style>\n",
       "<table border=\"1\" class=\"dataframe\">\n",
       "  <thead>\n",
       "    <tr style=\"text-align: right;\">\n",
       "      <th></th>\n",
       "      <th>average_payment_value</th>\n",
       "      <th>average_payment_installments</th>\n",
       "      <th>average_review_score</th>\n",
       "      <th>last_order_recency</th>\n",
       "      <th>customer_unique_id</th>\n",
       "      <th>order_date</th>\n",
       "    </tr>\n",
       "  </thead>\n",
       "  <tbody>\n",
       "    <tr>\n",
       "      <th>0</th>\n",
       "      <td>146.87</td>\n",
       "      <td>2.0</td>\n",
       "      <td>4.0</td>\n",
       "      <td>519</td>\n",
       "      <td>861eff4711a542e4b93843c6dd7febb0</td>\n",
       "      <td>2017-05-16 15:05:35</td>\n",
       "    </tr>\n",
       "    <tr>\n",
       "      <th>1</th>\n",
       "      <td>335.48</td>\n",
       "      <td>8.0</td>\n",
       "      <td>5.0</td>\n",
       "      <td>277</td>\n",
       "      <td>290c77bc529b7ac935b93aa66c333dc3</td>\n",
       "      <td>2018-01-12 20:48:24</td>\n",
       "    </tr>\n",
       "    <tr>\n",
       "      <th>2</th>\n",
       "      <td>157.73</td>\n",
       "      <td>7.0</td>\n",
       "      <td>5.0</td>\n",
       "      <td>151</td>\n",
       "      <td>060e732b5b29e8181a18229c7b0b2b5e</td>\n",
       "      <td>2018-05-19 16:07:45</td>\n",
       "    </tr>\n",
       "    <tr>\n",
       "      <th>3</th>\n",
       "      <td>173.30</td>\n",
       "      <td>1.0</td>\n",
       "      <td>5.0</td>\n",
       "      <td>218</td>\n",
       "      <td>259dac757896d24d7702b9acbbff3f3c</td>\n",
       "      <td>2018-03-13 16:06:38</td>\n",
       "    </tr>\n",
       "    <tr>\n",
       "      <th>4</th>\n",
       "      <td>252.25</td>\n",
       "      <td>8.0</td>\n",
       "      <td>5.0</td>\n",
       "      <td>80</td>\n",
       "      <td>345ecd01c38d18a9036ed96c73b8d066</td>\n",
       "      <td>2018-07-29 09:51:30</td>\n",
       "    </tr>\n",
       "  </tbody>\n",
       "</table>\n",
       "</div>"
      ],
      "text/plain": [
       "   average_payment_value  average_payment_installments  average_review_score  \\\n",
       "0                 146.87                           2.0                   4.0   \n",
       "1                 335.48                           8.0                   5.0   \n",
       "2                 157.73                           7.0                   5.0   \n",
       "3                 173.30                           1.0                   5.0   \n",
       "4                 252.25                           8.0                   5.0   \n",
       "\n",
       "   last_order_recency                customer_unique_id           order_date  \n",
       "0                 519  861eff4711a542e4b93843c6dd7febb0  2017-05-16 15:05:35  \n",
       "1                 277  290c77bc529b7ac935b93aa66c333dc3  2018-01-12 20:48:24  \n",
       "2                 151  060e732b5b29e8181a18229c7b0b2b5e  2018-05-19 16:07:45  \n",
       "3                 218  259dac757896d24d7702b9acbbff3f3c  2018-03-13 16:06:38  \n",
       "4                  80  345ecd01c38d18a9036ed96c73b8d066  2018-07-29 09:51:30  "
      ]
     },
     "execution_count": 91,
     "metadata": {},
     "output_type": "execute_result"
    }
   ],
   "source": [
    "df.head()"
   ]
  },
  {
   "cell_type": "markdown",
   "metadata": {},
   "source": [
    "Je sépare maintenant le jeu de données en plusieurs périodes:\n",
    "- Le dataset initial, qui comporte les données des 12 premiers mois\n",
    "- Les subsets, qui contiendront à chaque fois un mois de plus (13 mois, puis 14 mois, puis 15 mois...)\n",
    "\n",
    "Cela me permettra de comparer la stabilité des clusters dans le temps."
   ]
  },
  {
   "cell_type": "code",
   "execution_count": 92,
   "metadata": {},
   "outputs": [],
   "source": [
    "df.order_date = df.order_date.astype('datetime64[ns]')"
   ]
  },
  {
   "cell_type": "code",
   "execution_count": 93,
   "metadata": {},
   "outputs": [
    {
     "data": {
      "text/plain": [
       "[Period('2016-09', 'M'),\n",
       " Period('2016-10', 'M'),\n",
       " Period('2016-12', 'M'),\n",
       " Period('2017-01', 'M'),\n",
       " Period('2017-02', 'M'),\n",
       " Period('2017-03', 'M'),\n",
       " Period('2017-04', 'M'),\n",
       " Period('2017-05', 'M'),\n",
       " Period('2017-06', 'M'),\n",
       " Period('2017-07', 'M'),\n",
       " Period('2017-08', 'M'),\n",
       " Period('2017-09', 'M')]"
      ]
     },
     "execution_count": 93,
     "metadata": {},
     "output_type": "execute_result"
    }
   ],
   "source": [
    "unique_months = sorted(df['order_date'].dt.to_period('M').unique())\n",
    "initial_period = unique_months[0:12]\n",
    "initial_period"
   ]
  },
  {
   "cell_type": "markdown",
   "metadata": {},
   "source": [
    "Je répartis maintenant les jeux de données."
   ]
  },
  {
   "cell_type": "code",
   "execution_count": 94,
   "metadata": {},
   "outputs": [
    {
     "data": {
      "text/html": [
       "<div>\n",
       "<style scoped>\n",
       "    .dataframe tbody tr th:only-of-type {\n",
       "        vertical-align: middle;\n",
       "    }\n",
       "\n",
       "    .dataframe tbody tr th {\n",
       "        vertical-align: top;\n",
       "    }\n",
       "\n",
       "    .dataframe thead th {\n",
       "        text-align: right;\n",
       "    }\n",
       "</style>\n",
       "<table border=\"1\" class=\"dataframe\">\n",
       "  <thead>\n",
       "    <tr style=\"text-align: right;\">\n",
       "      <th></th>\n",
       "      <th>average_payment_value</th>\n",
       "      <th>average_payment_installments</th>\n",
       "      <th>average_review_score</th>\n",
       "      <th>last_order_recency</th>\n",
       "      <th>customer_unique_id</th>\n",
       "      <th>order_date</th>\n",
       "    </tr>\n",
       "  </thead>\n",
       "  <tbody>\n",
       "    <tr>\n",
       "      <th>0</th>\n",
       "      <td>146.87</td>\n",
       "      <td>2.0</td>\n",
       "      <td>4.0</td>\n",
       "      <td>519</td>\n",
       "      <td>861eff4711a542e4b93843c6dd7febb0</td>\n",
       "      <td>2017-05-16 15:05:35</td>\n",
       "    </tr>\n",
       "    <tr>\n",
       "      <th>5</th>\n",
       "      <td>282.94</td>\n",
       "      <td>1.0</td>\n",
       "      <td>5.0</td>\n",
       "      <td>367</td>\n",
       "      <td>4c93744516667ad3b8f1fb645a3116a4</td>\n",
       "      <td>2017-09-14 18:14:31</td>\n",
       "    </tr>\n",
       "    <tr>\n",
       "      <th>12</th>\n",
       "      <td>117.31</td>\n",
       "      <td>1.0</td>\n",
       "      <td>4.0</td>\n",
       "      <td>403</td>\n",
       "      <td>918dc87cd72cd9f6ed4bd442ed785235</td>\n",
       "      <td>2017-09-09 09:54:57</td>\n",
       "    </tr>\n",
       "    <tr>\n",
       "      <th>18</th>\n",
       "      <td>102.03</td>\n",
       "      <td>1.0</td>\n",
       "      <td>NaN</td>\n",
       "      <td>524</td>\n",
       "      <td>7f3a72e8f988c6e735ba118d54f47458</td>\n",
       "      <td>2017-05-11 13:48:47</td>\n",
       "    </tr>\n",
       "    <tr>\n",
       "      <th>20</th>\n",
       "      <td>123.00</td>\n",
       "      <td>1.0</td>\n",
       "      <td>5.0</td>\n",
       "      <td>430</td>\n",
       "      <td>e607ede0e63436308660236f5a52da5e</td>\n",
       "      <td>2017-08-13 10:03:36</td>\n",
       "    </tr>\n",
       "  </tbody>\n",
       "</table>\n",
       "</div>"
      ],
      "text/plain": [
       "    average_payment_value  average_payment_installments  average_review_score  \\\n",
       "0                  146.87                           2.0                   4.0   \n",
       "5                  282.94                           1.0                   5.0   \n",
       "12                 117.31                           1.0                   4.0   \n",
       "18                 102.03                           1.0                   NaN   \n",
       "20                 123.00                           1.0                   5.0   \n",
       "\n",
       "    last_order_recency                customer_unique_id          order_date  \n",
       "0                  519  861eff4711a542e4b93843c6dd7febb0 2017-05-16 15:05:35  \n",
       "5                  367  4c93744516667ad3b8f1fb645a3116a4 2017-09-14 18:14:31  \n",
       "12                 403  918dc87cd72cd9f6ed4bd442ed785235 2017-09-09 09:54:57  \n",
       "18                 524  7f3a72e8f988c6e735ba118d54f47458 2017-05-11 13:48:47  \n",
       "20                 430  e607ede0e63436308660236f5a52da5e 2017-08-13 10:03:36  "
      ]
     },
     "execution_count": 94,
     "metadata": {},
     "output_type": "execute_result"
    }
   ],
   "source": [
    "first_12_months_df = df[df['order_date'].dt.to_period('M').isin(initial_period)]\n",
    "first_12_months_df.head()"
   ]
  },
  {
   "cell_type": "code",
   "execution_count": 95,
   "metadata": {},
   "outputs": [
    {
     "data": {
      "text/plain": [
       "(27582, 6)"
      ]
     },
     "execution_count": 95,
     "metadata": {},
     "output_type": "execute_result"
    }
   ],
   "source": [
    "first_12_months_df.shape"
   ]
  },
  {
   "cell_type": "code",
   "execution_count": 96,
   "metadata": {},
   "outputs": [],
   "source": [
    "subsets = []\n",
    "for i in range(12, len(unique_months)):\n",
    "    current_subset_months = unique_months[:i + 1]\n",
    "    current_subset = df[df['order_date'].dt.to_period('M').isin(current_subset_months)]\n",
    "    subsets.append(current_subset)"
   ]
  },
  {
   "cell_type": "code",
   "execution_count": 97,
   "metadata": {},
   "outputs": [
    {
     "data": {
      "text/plain": [
       "13"
      ]
     },
     "execution_count": 97,
     "metadata": {},
     "output_type": "execute_result"
    }
   ],
   "source": [
    "len(subsets)"
   ]
  },
  {
   "cell_type": "markdown",
   "metadata": {},
   "source": [
    "Je dois maintenant filtrer les subsets pour ne garder que les clients présents dans le dataset initial."
   ]
  },
  {
   "cell_type": "code",
   "execution_count": 98,
   "metadata": {},
   "outputs": [],
   "source": [
    "initial_clients = first_12_months_df.customer_unique_id.unique()\n",
    "for i in range(len(subsets)):\n",
    "    subsets[i] = subsets[i][subsets[i]['customer_unique_id'].isin(initial_clients)]"
   ]
  },
  {
   "cell_type": "markdown",
   "metadata": {},
   "source": [
    "Il faut maintenant que je groupe les subsets à la granularité client."
   ]
  },
  {
   "cell_type": "code",
   "execution_count": 99,
   "metadata": {},
   "outputs": [
    {
     "data": {
      "text/html": [
       "<div>\n",
       "<style scoped>\n",
       "    .dataframe tbody tr th:only-of-type {\n",
       "        vertical-align: middle;\n",
       "    }\n",
       "\n",
       "    .dataframe tbody tr th {\n",
       "        vertical-align: top;\n",
       "    }\n",
       "\n",
       "    .dataframe thead th {\n",
       "        text-align: right;\n",
       "    }\n",
       "</style>\n",
       "<table border=\"1\" class=\"dataframe\">\n",
       "  <thead>\n",
       "    <tr style=\"text-align: right;\">\n",
       "      <th></th>\n",
       "      <th>average_payment_value</th>\n",
       "      <th>average_payment_installments</th>\n",
       "      <th>average_review_score</th>\n",
       "      <th>last_order_recency</th>\n",
       "      <th>customer_unique_id</th>\n",
       "      <th>order_date</th>\n",
       "    </tr>\n",
       "  </thead>\n",
       "  <tbody>\n",
       "    <tr>\n",
       "      <th>0</th>\n",
       "      <td>146.87</td>\n",
       "      <td>2.0</td>\n",
       "      <td>4.0</td>\n",
       "      <td>519</td>\n",
       "      <td>861eff4711a542e4b93843c6dd7febb0</td>\n",
       "      <td>2017-05-16 15:05:35</td>\n",
       "    </tr>\n",
       "    <tr>\n",
       "      <th>5</th>\n",
       "      <td>282.94</td>\n",
       "      <td>1.0</td>\n",
       "      <td>5.0</td>\n",
       "      <td>367</td>\n",
       "      <td>4c93744516667ad3b8f1fb645a3116a4</td>\n",
       "      <td>2017-09-14 18:14:31</td>\n",
       "    </tr>\n",
       "    <tr>\n",
       "      <th>12</th>\n",
       "      <td>117.31</td>\n",
       "      <td>1.0</td>\n",
       "      <td>4.0</td>\n",
       "      <td>403</td>\n",
       "      <td>918dc87cd72cd9f6ed4bd442ed785235</td>\n",
       "      <td>2017-09-09 09:54:57</td>\n",
       "    </tr>\n",
       "    <tr>\n",
       "      <th>18</th>\n",
       "      <td>102.03</td>\n",
       "      <td>1.0</td>\n",
       "      <td>NaN</td>\n",
       "      <td>524</td>\n",
       "      <td>7f3a72e8f988c6e735ba118d54f47458</td>\n",
       "      <td>2017-05-11 13:48:47</td>\n",
       "    </tr>\n",
       "    <tr>\n",
       "      <th>20</th>\n",
       "      <td>123.00</td>\n",
       "      <td>1.0</td>\n",
       "      <td>5.0</td>\n",
       "      <td>430</td>\n",
       "      <td>e607ede0e63436308660236f5a52da5e</td>\n",
       "      <td>2017-08-13 10:03:36</td>\n",
       "    </tr>\n",
       "    <tr>\n",
       "      <th>...</th>\n",
       "      <td>...</td>\n",
       "      <td>...</td>\n",
       "      <td>...</td>\n",
       "      <td>...</td>\n",
       "      <td>...</td>\n",
       "      <td>...</td>\n",
       "    </tr>\n",
       "    <tr>\n",
       "      <th>99420</th>\n",
       "      <td>64.42</td>\n",
       "      <td>1.0</td>\n",
       "      <td>1.0</td>\n",
       "      <td>630</td>\n",
       "      <td>1c137fe37df712015f6488edafe8ece4</td>\n",
       "      <td>2017-01-25 16:51:27</td>\n",
       "    </tr>\n",
       "    <tr>\n",
       "      <th>99424</th>\n",
       "      <td>102.03</td>\n",
       "      <td>1.0</td>\n",
       "      <td>1.0</td>\n",
       "      <td>519</td>\n",
       "      <td>206e64e8af2633a2ebe158a7fcb860db</td>\n",
       "      <td>2017-05-15 17:42:38</td>\n",
       "    </tr>\n",
       "    <tr>\n",
       "      <th>99428</th>\n",
       "      <td>130.85</td>\n",
       "      <td>1.0</td>\n",
       "      <td>4.0</td>\n",
       "      <td>569</td>\n",
       "      <td>874c93d867b18eb09a5e2f071ee89458</td>\n",
       "      <td>2017-03-27 16:26:18</td>\n",
       "    </tr>\n",
       "    <tr>\n",
       "      <th>99430</th>\n",
       "      <td>102.03</td>\n",
       "      <td>1.0</td>\n",
       "      <td>5.0</td>\n",
       "      <td>511</td>\n",
       "      <td>277490f0d435b602fe4475d4b89e9181</td>\n",
       "      <td>2017-05-24 11:54:31</td>\n",
       "    </tr>\n",
       "    <tr>\n",
       "      <th>99433</th>\n",
       "      <td>84.32</td>\n",
       "      <td>1.0</td>\n",
       "      <td>3.0</td>\n",
       "      <td>580</td>\n",
       "      <td>e7f8760e2bbd2f1986bebd99596c088e</td>\n",
       "      <td>2017-03-15 21:04:08</td>\n",
       "    </tr>\n",
       "  </tbody>\n",
       "</table>\n",
       "<p>27582 rows × 6 columns</p>\n",
       "</div>"
      ],
      "text/plain": [
       "       average_payment_value  average_payment_installments  \\\n",
       "0                     146.87                           2.0   \n",
       "5                     282.94                           1.0   \n",
       "12                    117.31                           1.0   \n",
       "18                    102.03                           1.0   \n",
       "20                    123.00                           1.0   \n",
       "...                      ...                           ...   \n",
       "99420                  64.42                           1.0   \n",
       "99424                 102.03                           1.0   \n",
       "99428                 130.85                           1.0   \n",
       "99430                 102.03                           1.0   \n",
       "99433                  84.32                           1.0   \n",
       "\n",
       "       average_review_score  last_order_recency  \\\n",
       "0                       4.0                 519   \n",
       "5                       5.0                 367   \n",
       "12                      4.0                 403   \n",
       "18                      NaN                 524   \n",
       "20                      5.0                 430   \n",
       "...                     ...                 ...   \n",
       "99420                   1.0                 630   \n",
       "99424                   1.0                 519   \n",
       "99428                   4.0                 569   \n",
       "99430                   5.0                 511   \n",
       "99433                   3.0                 580   \n",
       "\n",
       "                     customer_unique_id          order_date  \n",
       "0      861eff4711a542e4b93843c6dd7febb0 2017-05-16 15:05:35  \n",
       "5      4c93744516667ad3b8f1fb645a3116a4 2017-09-14 18:14:31  \n",
       "12     918dc87cd72cd9f6ed4bd442ed785235 2017-09-09 09:54:57  \n",
       "18     7f3a72e8f988c6e735ba118d54f47458 2017-05-11 13:48:47  \n",
       "20     e607ede0e63436308660236f5a52da5e 2017-08-13 10:03:36  \n",
       "...                                 ...                 ...  \n",
       "99420  1c137fe37df712015f6488edafe8ece4 2017-01-25 16:51:27  \n",
       "99424  206e64e8af2633a2ebe158a7fcb860db 2017-05-15 17:42:38  \n",
       "99428  874c93d867b18eb09a5e2f071ee89458 2017-03-27 16:26:18  \n",
       "99430  277490f0d435b602fe4475d4b89e9181 2017-05-24 11:54:31  \n",
       "99433  e7f8760e2bbd2f1986bebd99596c088e 2017-03-15 21:04:08  \n",
       "\n",
       "[27582 rows x 6 columns]"
      ]
     },
     "execution_count": 99,
     "metadata": {},
     "output_type": "execute_result"
    }
   ],
   "source": [
    "first_12_months_df"
   ]
  },
  {
   "cell_type": "code",
   "execution_count": 100,
   "metadata": {},
   "outputs": [],
   "source": [
    "first_12_months_df = first_12_months_df.groupby('customer_unique_id').agg(\n",
    "    {'average_payment_value': 'mean',\n",
    "    #  'average_payment_installments': 'mean',\n",
    "     'average_review_score': 'mean',\n",
    "     'order_date': 'max'}\n",
    ")\n",
    "\n",
    "for i in range(len(subsets)):\n",
    "    subsets[i] = subsets[i].groupby('customer_unique_id').agg(\n",
    "    {'average_payment_value': 'mean',\n",
    "    #  'average_payment_installments': 'mean',\n",
    "     'average_review_score': 'mean',\n",
    "     'order_date': 'max'}\n",
    "    )"
   ]
  },
  {
   "cell_type": "markdown",
   "metadata": {},
   "source": [
    "Il faut maintenant que j'adapte la valeur de *last_order_recency*, qui doit se baser sur le dernier jour du dernier mois de chaque jeu de données."
   ]
  },
  {
   "cell_type": "code",
   "execution_count": 101,
   "metadata": {},
   "outputs": [],
   "source": [
    "for i in range(len(subsets)):\n",
    "    last_date = subsets[i]['order_date'].max()\n",
    "    subsets[i]['last_order_recency'] = (last_date - subsets[i]['order_date']).dt.days\n",
    "    subsets[i] = subsets[i].drop(columns=['order_date'])\n",
    "\n",
    "last_date = first_12_months_df['order_date'].max()\n",
    "first_12_months_df['last_order_recency'] = (last_date - first_12_months_df['order_date']).dt.days\n",
    "first_12_months_df = first_12_months_df.drop(columns=['order_date'])\n"
   ]
  },
  {
   "cell_type": "markdown",
   "metadata": {},
   "source": [
    "Le jeu de données est maintenant prêt à passer au feature engineering, puis au clustering."
   ]
  },
  {
   "cell_type": "markdown",
   "metadata": {},
   "source": [
    "## 2. Feature Engineering"
   ]
  },
  {
   "cell_type": "markdown",
   "metadata": {},
   "source": [
    "Je passe maintenant tous les subsets dans la même pipeline de données que lors de la phase de modélisation."
   ]
  },
  {
   "cell_type": "code",
   "execution_count": 102,
   "metadata": {},
   "outputs": [],
   "source": [
    "pipe = pipeline.Pipeline(\n",
    "    [\n",
    "        ('numerical_imputation', imputation.MeanMedianImputer(imputation_method='median')),\n",
    "        ('scaler', preprocessing.StandardScaler()),\n",
    "        ('distribution_transformation', transformation.YeoJohnsonTransformer())\n",
    "\n",
    "    ]\n",
    ")"
   ]
  },
  {
   "cell_type": "code",
   "execution_count": 103,
   "metadata": {},
   "outputs": [],
   "source": [
    "pipe.fit(first_12_months_df)\n",
    "first_12_months_df = pipe.transform(first_12_months_df)\n"
   ]
  },
  {
   "cell_type": "code",
   "execution_count": 104,
   "metadata": {},
   "outputs": [],
   "source": [
    "cols = pipe.get_feature_names_out()\n",
    "first_12_months_df.columns = cols"
   ]
  },
  {
   "cell_type": "code",
   "execution_count": 105,
   "metadata": {},
   "outputs": [],
   "source": [
    "for i in range(len(subsets)):\n",
    "    subsets[i] = pipe.fit_transform(subsets[i])\n",
    "    subsets[i].columns = cols"
   ]
  },
  {
   "cell_type": "markdown",
   "metadata": {},
   "source": [
    "## 3. ARI"
   ]
  },
  {
   "cell_type": "code",
   "execution_count": 106,
   "metadata": {},
   "outputs": [],
   "source": [
    "def perform_clustering(data, num_clusters):\n",
    "    kmeans = KMeans(n_clusters=num_clusters, random_state=0).fit(data)\n",
    "    return kmeans.labels_\n",
    "\n",
    "num_clusters = 7\n",
    "\n",
    "for i in range(len(subsets)):\n",
    "    cluster_labels = perform_clustering(subsets[i], num_clusters)\n",
    "    subsets[i]['cluster_labels'] = cluster_labels"
   ]
  },
  {
   "cell_type": "code",
   "execution_count": 107,
   "metadata": {},
   "outputs": [],
   "source": [
    "cluster_labels = perform_clustering(first_12_months_df, num_clusters)\n",
    "first_12_months_df['cluster_labels'] = cluster_labels"
   ]
  },
  {
   "cell_type": "code",
   "execution_count": 108,
   "metadata": {},
   "outputs": [],
   "source": [
    "def calculate_ari(initial_labels, subsets):\n",
    "    ari_scores = []\n",
    "    for i in range(len(subsets)):\n",
    "        monthly_labels = subsets[i]['cluster_labels']\n",
    "        ari_score = metrics.adjusted_rand_score(initial_labels, monthly_labels)\n",
    "        ari_scores.append(ari_score)\n",
    "    return ari_scores\n",
    "\n",
    "initial_labels = first_12_months_df['cluster_labels']\n",
    "ari_scores = calculate_ari(initial_labels, subsets)"
   ]
  },
  {
   "cell_type": "code",
   "execution_count": 109,
   "metadata": {},
   "outputs": [
    {
     "data": {
      "application/vnd.plotly.v1+json": {
       "config": {
        "plotlyServerURL": "https://plot.ly"
       },
       "data": [
        {
         "type": "scatter",
         "y": [
          0.5901943783714105,
          0.6251968521580609,
          0.6043654932645026,
          0.6328412250526008,
          0.8981554186616436,
          0.6760821401152974,
          0.6713850652213654,
          0.7199944979003341,
          0.6394072141497207,
          0.5820600791996129,
          0.48008877947442785,
          0.48008877947442785,
          0.48008877947442785
         ]
        }
       ],
       "layout": {
        "template": {
         "data": {
          "bar": [
           {
            "error_x": {
             "color": "#2a3f5f"
            },
            "error_y": {
             "color": "#2a3f5f"
            },
            "marker": {
             "line": {
              "color": "#E5ECF6",
              "width": 0.5
             },
             "pattern": {
              "fillmode": "overlay",
              "size": 10,
              "solidity": 0.2
             }
            },
            "type": "bar"
           }
          ],
          "barpolar": [
           {
            "marker": {
             "line": {
              "color": "#E5ECF6",
              "width": 0.5
             },
             "pattern": {
              "fillmode": "overlay",
              "size": 10,
              "solidity": 0.2
             }
            },
            "type": "barpolar"
           }
          ],
          "carpet": [
           {
            "aaxis": {
             "endlinecolor": "#2a3f5f",
             "gridcolor": "white",
             "linecolor": "white",
             "minorgridcolor": "white",
             "startlinecolor": "#2a3f5f"
            },
            "baxis": {
             "endlinecolor": "#2a3f5f",
             "gridcolor": "white",
             "linecolor": "white",
             "minorgridcolor": "white",
             "startlinecolor": "#2a3f5f"
            },
            "type": "carpet"
           }
          ],
          "choropleth": [
           {
            "colorbar": {
             "outlinewidth": 0,
             "ticks": ""
            },
            "type": "choropleth"
           }
          ],
          "contour": [
           {
            "colorbar": {
             "outlinewidth": 0,
             "ticks": ""
            },
            "colorscale": [
             [
              0,
              "#0d0887"
             ],
             [
              0.1111111111111111,
              "#46039f"
             ],
             [
              0.2222222222222222,
              "#7201a8"
             ],
             [
              0.3333333333333333,
              "#9c179e"
             ],
             [
              0.4444444444444444,
              "#bd3786"
             ],
             [
              0.5555555555555556,
              "#d8576b"
             ],
             [
              0.6666666666666666,
              "#ed7953"
             ],
             [
              0.7777777777777778,
              "#fb9f3a"
             ],
             [
              0.8888888888888888,
              "#fdca26"
             ],
             [
              1,
              "#f0f921"
             ]
            ],
            "type": "contour"
           }
          ],
          "contourcarpet": [
           {
            "colorbar": {
             "outlinewidth": 0,
             "ticks": ""
            },
            "type": "contourcarpet"
           }
          ],
          "heatmap": [
           {
            "colorbar": {
             "outlinewidth": 0,
             "ticks": ""
            },
            "colorscale": [
             [
              0,
              "#0d0887"
             ],
             [
              0.1111111111111111,
              "#46039f"
             ],
             [
              0.2222222222222222,
              "#7201a8"
             ],
             [
              0.3333333333333333,
              "#9c179e"
             ],
             [
              0.4444444444444444,
              "#bd3786"
             ],
             [
              0.5555555555555556,
              "#d8576b"
             ],
             [
              0.6666666666666666,
              "#ed7953"
             ],
             [
              0.7777777777777778,
              "#fb9f3a"
             ],
             [
              0.8888888888888888,
              "#fdca26"
             ],
             [
              1,
              "#f0f921"
             ]
            ],
            "type": "heatmap"
           }
          ],
          "heatmapgl": [
           {
            "colorbar": {
             "outlinewidth": 0,
             "ticks": ""
            },
            "colorscale": [
             [
              0,
              "#0d0887"
             ],
             [
              0.1111111111111111,
              "#46039f"
             ],
             [
              0.2222222222222222,
              "#7201a8"
             ],
             [
              0.3333333333333333,
              "#9c179e"
             ],
             [
              0.4444444444444444,
              "#bd3786"
             ],
             [
              0.5555555555555556,
              "#d8576b"
             ],
             [
              0.6666666666666666,
              "#ed7953"
             ],
             [
              0.7777777777777778,
              "#fb9f3a"
             ],
             [
              0.8888888888888888,
              "#fdca26"
             ],
             [
              1,
              "#f0f921"
             ]
            ],
            "type": "heatmapgl"
           }
          ],
          "histogram": [
           {
            "marker": {
             "pattern": {
              "fillmode": "overlay",
              "size": 10,
              "solidity": 0.2
             }
            },
            "type": "histogram"
           }
          ],
          "histogram2d": [
           {
            "colorbar": {
             "outlinewidth": 0,
             "ticks": ""
            },
            "colorscale": [
             [
              0,
              "#0d0887"
             ],
             [
              0.1111111111111111,
              "#46039f"
             ],
             [
              0.2222222222222222,
              "#7201a8"
             ],
             [
              0.3333333333333333,
              "#9c179e"
             ],
             [
              0.4444444444444444,
              "#bd3786"
             ],
             [
              0.5555555555555556,
              "#d8576b"
             ],
             [
              0.6666666666666666,
              "#ed7953"
             ],
             [
              0.7777777777777778,
              "#fb9f3a"
             ],
             [
              0.8888888888888888,
              "#fdca26"
             ],
             [
              1,
              "#f0f921"
             ]
            ],
            "type": "histogram2d"
           }
          ],
          "histogram2dcontour": [
           {
            "colorbar": {
             "outlinewidth": 0,
             "ticks": ""
            },
            "colorscale": [
             [
              0,
              "#0d0887"
             ],
             [
              0.1111111111111111,
              "#46039f"
             ],
             [
              0.2222222222222222,
              "#7201a8"
             ],
             [
              0.3333333333333333,
              "#9c179e"
             ],
             [
              0.4444444444444444,
              "#bd3786"
             ],
             [
              0.5555555555555556,
              "#d8576b"
             ],
             [
              0.6666666666666666,
              "#ed7953"
             ],
             [
              0.7777777777777778,
              "#fb9f3a"
             ],
             [
              0.8888888888888888,
              "#fdca26"
             ],
             [
              1,
              "#f0f921"
             ]
            ],
            "type": "histogram2dcontour"
           }
          ],
          "mesh3d": [
           {
            "colorbar": {
             "outlinewidth": 0,
             "ticks": ""
            },
            "type": "mesh3d"
           }
          ],
          "parcoords": [
           {
            "line": {
             "colorbar": {
              "outlinewidth": 0,
              "ticks": ""
             }
            },
            "type": "parcoords"
           }
          ],
          "pie": [
           {
            "automargin": true,
            "type": "pie"
           }
          ],
          "scatter": [
           {
            "fillpattern": {
             "fillmode": "overlay",
             "size": 10,
             "solidity": 0.2
            },
            "type": "scatter"
           }
          ],
          "scatter3d": [
           {
            "line": {
             "colorbar": {
              "outlinewidth": 0,
              "ticks": ""
             }
            },
            "marker": {
             "colorbar": {
              "outlinewidth": 0,
              "ticks": ""
             }
            },
            "type": "scatter3d"
           }
          ],
          "scattercarpet": [
           {
            "marker": {
             "colorbar": {
              "outlinewidth": 0,
              "ticks": ""
             }
            },
            "type": "scattercarpet"
           }
          ],
          "scattergeo": [
           {
            "marker": {
             "colorbar": {
              "outlinewidth": 0,
              "ticks": ""
             }
            },
            "type": "scattergeo"
           }
          ],
          "scattergl": [
           {
            "marker": {
             "colorbar": {
              "outlinewidth": 0,
              "ticks": ""
             }
            },
            "type": "scattergl"
           }
          ],
          "scattermapbox": [
           {
            "marker": {
             "colorbar": {
              "outlinewidth": 0,
              "ticks": ""
             }
            },
            "type": "scattermapbox"
           }
          ],
          "scatterpolar": [
           {
            "marker": {
             "colorbar": {
              "outlinewidth": 0,
              "ticks": ""
             }
            },
            "type": "scatterpolar"
           }
          ],
          "scatterpolargl": [
           {
            "marker": {
             "colorbar": {
              "outlinewidth": 0,
              "ticks": ""
             }
            },
            "type": "scatterpolargl"
           }
          ],
          "scatterternary": [
           {
            "marker": {
             "colorbar": {
              "outlinewidth": 0,
              "ticks": ""
             }
            },
            "type": "scatterternary"
           }
          ],
          "surface": [
           {
            "colorbar": {
             "outlinewidth": 0,
             "ticks": ""
            },
            "colorscale": [
             [
              0,
              "#0d0887"
             ],
             [
              0.1111111111111111,
              "#46039f"
             ],
             [
              0.2222222222222222,
              "#7201a8"
             ],
             [
              0.3333333333333333,
              "#9c179e"
             ],
             [
              0.4444444444444444,
              "#bd3786"
             ],
             [
              0.5555555555555556,
              "#d8576b"
             ],
             [
              0.6666666666666666,
              "#ed7953"
             ],
             [
              0.7777777777777778,
              "#fb9f3a"
             ],
             [
              0.8888888888888888,
              "#fdca26"
             ],
             [
              1,
              "#f0f921"
             ]
            ],
            "type": "surface"
           }
          ],
          "table": [
           {
            "cells": {
             "fill": {
              "color": "#EBF0F8"
             },
             "line": {
              "color": "white"
             }
            },
            "header": {
             "fill": {
              "color": "#C8D4E3"
             },
             "line": {
              "color": "white"
             }
            },
            "type": "table"
           }
          ]
         },
         "layout": {
          "annotationdefaults": {
           "arrowcolor": "#2a3f5f",
           "arrowhead": 0,
           "arrowwidth": 1
          },
          "autotypenumbers": "strict",
          "coloraxis": {
           "colorbar": {
            "outlinewidth": 0,
            "ticks": ""
           }
          },
          "colorscale": {
           "diverging": [
            [
             0,
             "#8e0152"
            ],
            [
             0.1,
             "#c51b7d"
            ],
            [
             0.2,
             "#de77ae"
            ],
            [
             0.3,
             "#f1b6da"
            ],
            [
             0.4,
             "#fde0ef"
            ],
            [
             0.5,
             "#f7f7f7"
            ],
            [
             0.6,
             "#e6f5d0"
            ],
            [
             0.7,
             "#b8e186"
            ],
            [
             0.8,
             "#7fbc41"
            ],
            [
             0.9,
             "#4d9221"
            ],
            [
             1,
             "#276419"
            ]
           ],
           "sequential": [
            [
             0,
             "#0d0887"
            ],
            [
             0.1111111111111111,
             "#46039f"
            ],
            [
             0.2222222222222222,
             "#7201a8"
            ],
            [
             0.3333333333333333,
             "#9c179e"
            ],
            [
             0.4444444444444444,
             "#bd3786"
            ],
            [
             0.5555555555555556,
             "#d8576b"
            ],
            [
             0.6666666666666666,
             "#ed7953"
            ],
            [
             0.7777777777777778,
             "#fb9f3a"
            ],
            [
             0.8888888888888888,
             "#fdca26"
            ],
            [
             1,
             "#f0f921"
            ]
           ],
           "sequentialminus": [
            [
             0,
             "#0d0887"
            ],
            [
             0.1111111111111111,
             "#46039f"
            ],
            [
             0.2222222222222222,
             "#7201a8"
            ],
            [
             0.3333333333333333,
             "#9c179e"
            ],
            [
             0.4444444444444444,
             "#bd3786"
            ],
            [
             0.5555555555555556,
             "#d8576b"
            ],
            [
             0.6666666666666666,
             "#ed7953"
            ],
            [
             0.7777777777777778,
             "#fb9f3a"
            ],
            [
             0.8888888888888888,
             "#fdca26"
            ],
            [
             1,
             "#f0f921"
            ]
           ]
          },
          "colorway": [
           "#636efa",
           "#EF553B",
           "#00cc96",
           "#ab63fa",
           "#FFA15A",
           "#19d3f3",
           "#FF6692",
           "#B6E880",
           "#FF97FF",
           "#FECB52"
          ],
          "font": {
           "color": "#2a3f5f"
          },
          "geo": {
           "bgcolor": "white",
           "lakecolor": "white",
           "landcolor": "#E5ECF6",
           "showlakes": true,
           "showland": true,
           "subunitcolor": "white"
          },
          "hoverlabel": {
           "align": "left"
          },
          "hovermode": "closest",
          "mapbox": {
           "style": "light"
          },
          "paper_bgcolor": "white",
          "plot_bgcolor": "#E5ECF6",
          "polar": {
           "angularaxis": {
            "gridcolor": "white",
            "linecolor": "white",
            "ticks": ""
           },
           "bgcolor": "#E5ECF6",
           "radialaxis": {
            "gridcolor": "white",
            "linecolor": "white",
            "ticks": ""
           }
          },
          "scene": {
           "xaxis": {
            "backgroundcolor": "#E5ECF6",
            "gridcolor": "white",
            "gridwidth": 2,
            "linecolor": "white",
            "showbackground": true,
            "ticks": "",
            "zerolinecolor": "white"
           },
           "yaxis": {
            "backgroundcolor": "#E5ECF6",
            "gridcolor": "white",
            "gridwidth": 2,
            "linecolor": "white",
            "showbackground": true,
            "ticks": "",
            "zerolinecolor": "white"
           },
           "zaxis": {
            "backgroundcolor": "#E5ECF6",
            "gridcolor": "white",
            "gridwidth": 2,
            "linecolor": "white",
            "showbackground": true,
            "ticks": "",
            "zerolinecolor": "white"
           }
          },
          "shapedefaults": {
           "line": {
            "color": "#2a3f5f"
           }
          },
          "ternary": {
           "aaxis": {
            "gridcolor": "white",
            "linecolor": "white",
            "ticks": ""
           },
           "baxis": {
            "gridcolor": "white",
            "linecolor": "white",
            "ticks": ""
           },
           "bgcolor": "#E5ECF6",
           "caxis": {
            "gridcolor": "white",
            "linecolor": "white",
            "ticks": ""
           }
          },
          "title": {
           "x": 0.05
          },
          "xaxis": {
           "automargin": true,
           "gridcolor": "white",
           "linecolor": "white",
           "ticks": "",
           "title": {
            "standoff": 15
           },
           "zerolinecolor": "white",
           "zerolinewidth": 2
          },
          "yaxis": {
           "automargin": true,
           "gridcolor": "white",
           "linecolor": "white",
           "ticks": "",
           "title": {
            "standoff": 15
           },
           "zerolinecolor": "white",
           "zerolinewidth": 2
          }
         }
        },
        "title": {
         "text": "ARI Scores Over Time"
        },
        "xaxis": {
         "title": {
          "text": "Months"
         }
        },
        "yaxis": {
         "title": {
          "text": "ARI Score"
         }
        }
       }
      }
     },
     "metadata": {},
     "output_type": "display_data"
    }
   ],
   "source": [
    "import plotly.graph_objects as go\n",
    "\n",
    "fig = go.Figure(data=go.Scatter(y=ari_scores))\n",
    "fig.update_layout(title='ARI Scores Over Time', xaxis_title='Months', yaxis_title='ARI Score')\n",
    "\n",
    "fig.show()"
   ]
  },
  {
   "cell_type": "markdown",
   "metadata": {},
   "source": [
    "On observe une qualité de segmentation qui décroît au fil des mois. Cependant, on voit que le score commence à décroitre plus rapidement aux alentours des 6 mois, ce qui peut constituer une bonne recommendation de maintenance."
   ]
  }
 ],
 "metadata": {
  "kernelspec": {
   "display_name": ".venv",
   "language": "python",
   "name": "python3"
  },
  "language_info": {
   "codemirror_mode": {
    "name": "ipython",
    "version": 3
   },
   "file_extension": ".py",
   "mimetype": "text/x-python",
   "name": "python",
   "nbconvert_exporter": "python",
   "pygments_lexer": "ipython3",
   "version": "3.11.5"
  }
 },
 "nbformat": 4,
 "nbformat_minor": 2
}
