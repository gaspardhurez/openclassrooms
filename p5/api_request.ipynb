{
 "cells": [
  {
   "cell_type": "code",
   "execution_count": 1,
   "metadata": {},
   "outputs": [],
   "source": [
    "import stackapi"
   ]
  },
  {
   "cell_type": "code",
   "execution_count": 47,
   "metadata": {},
   "outputs": [],
   "source": [
    "wrapper = stackapi.StackAPI('stackoverflow')\n",
    "questions = wrapper.fetch(endpoint='questions', tagged='python', sort='votes', min='50', fromdate='2010-01-01', todate='2024-01-01')['items']"
   ]
  },
  {
   "cell_type": "code",
   "execution_count": 48,
   "metadata": {},
   "outputs": [
    {
     "data": {
      "text/plain": [
       "{'tags': ['python', 'dictionary'],\n",
       " 'owner': {'account_id': 276485,\n",
       "  'reputation': 45123,\n",
       "  'user_id': 1212392,\n",
       "  'user_type': 'registered',\n",
       "  'accept_rate': 84,\n",
       "  'profile_image': 'https://www.gravatar.com/avatar/2d2462f1533adf1f46730674902713df?s=256&d=identicon&r=PG',\n",
       "  'display_name': 'TopChef',\n",
       "  'link': 'https://stackoverflow.com/users/1212392/topchef'},\n",
       " 'is_answered': True,\n",
       " 'view_count': 5891007,\n",
       " 'protected_date': 1476361893,\n",
       " 'accepted_answer_id': 3294899,\n",
       " 'answer_count': 17,\n",
       " 'score': 4340,\n",
       " 'last_activity_date': 1693508107,\n",
       " 'creation_date': 1279664862,\n",
       " 'last_edit_date': 1686981594,\n",
       " 'question_id': 3294889,\n",
       " 'content_license': 'CC BY-SA 4.0',\n",
       " 'link': 'https://stackoverflow.com/questions/3294889/iterating-over-dictionaries-using-for-loops',\n",
       " 'title': 'Iterating over dictionaries using &#39;for&#39; loops'}"
      ]
     },
     "execution_count": 48,
     "metadata": {},
     "output_type": "execute_result"
    }
   ],
   "source": [
    "questions[0]"
   ]
  },
  {
   "cell_type": "code",
   "execution_count": 49,
   "metadata": {},
   "outputs": [],
   "source": [
    "questions_list = []\n",
    "for question in questions:\n",
    "    questions_list.append({\n",
    "        'date': question['creation_date'],\n",
    "        'score': question['score'],\n",
    "        'title': question['title'],\n",
    "        'tags': question['tags'] \n",
    "    })"
   ]
  },
  {
   "cell_type": "code",
   "execution_count": 50,
   "metadata": {},
   "outputs": [
    {
     "data": {
      "text/html": [
       "<div>\n",
       "<style scoped>\n",
       "    .dataframe tbody tr th:only-of-type {\n",
       "        vertical-align: middle;\n",
       "    }\n",
       "\n",
       "    .dataframe tbody tr th {\n",
       "        vertical-align: top;\n",
       "    }\n",
       "\n",
       "    .dataframe thead th {\n",
       "        text-align: right;\n",
       "    }\n",
       "</style>\n",
       "<table border=\"1\" class=\"dataframe\">\n",
       "  <thead>\n",
       "    <tr style=\"text-align: right;\">\n",
       "      <th></th>\n",
       "      <th>date</th>\n",
       "      <th>score</th>\n",
       "      <th>title</th>\n",
       "      <th>tags</th>\n",
       "    </tr>\n",
       "  </thead>\n",
       "  <tbody>\n",
       "    <tr>\n",
       "      <th>0</th>\n",
       "      <td>1279664862</td>\n",
       "      <td>4340</td>\n",
       "      <td>Iterating over dictionaries using &amp;#39;for&amp;#39...</td>\n",
       "      <td>[python, dictionary]</td>\n",
       "    </tr>\n",
       "    <tr>\n",
       "      <th>1</th>\n",
       "      <td>1368169489</td>\n",
       "      <td>4142</td>\n",
       "      <td>How can I iterate over rows in a Pandas DataFr...</td>\n",
       "      <td>[python, pandas, dataframe, loops]</td>\n",
       "    </tr>\n",
       "    <tr>\n",
       "      <th>2</th>\n",
       "      <td>1308930908</td>\n",
       "      <td>3871</td>\n",
       "      <td>How to catch multiple exceptions in one line? ...</td>\n",
       "      <td>[python, exception]</td>\n",
       "    </tr>\n",
       "    <tr>\n",
       "      <th>3</th>\n",
       "      <td>1281322370</td>\n",
       "      <td>3586</td>\n",
       "      <td>Does Python have a string &amp;#39;contains&amp;#39; s...</td>\n",
       "      <td>[python, string, substring, contains]</td>\n",
       "    </tr>\n",
       "    <tr>\n",
       "      <th>4</th>\n",
       "      <td>1371058925</td>\n",
       "      <td>3552</td>\n",
       "      <td>How do I select rows from a DataFrame based on...</td>\n",
       "      <td>[python, pandas, dataframe]</td>\n",
       "    </tr>\n",
       "    <tr>\n",
       "      <th>...</th>\n",
       "      <td>...</td>\n",
       "      <td>...</td>\n",
       "      <td>...</td>\n",
       "      <td>...</td>\n",
       "    </tr>\n",
       "    <tr>\n",
       "      <th>495</th>\n",
       "      <td>1347125582</td>\n",
       "      <td>512</td>\n",
       "      <td>How can I Install a Python module within code?</td>\n",
       "      <td>[python, pip, python-module, pypi]</td>\n",
       "    </tr>\n",
       "    <tr>\n",
       "      <th>496</th>\n",
       "      <td>1302009821</td>\n",
       "      <td>511</td>\n",
       "      <td>UnicodeDecodeError, invalid continuation byte</td>\n",
       "      <td>[python, unicode, decode]</td>\n",
       "    </tr>\n",
       "    <tr>\n",
       "      <th>497</th>\n",
       "      <td>1384518919</td>\n",
       "      <td>511</td>\n",
       "      <td>How to get POSTed JSON in Flask?</td>\n",
       "      <td>[python, json, post, flask]</td>\n",
       "    </tr>\n",
       "    <tr>\n",
       "      <th>498</th>\n",
       "      <td>1411715545</td>\n",
       "      <td>510</td>\n",
       "      <td>setup script exited with error: command &amp;#39;x...</td>\n",
       "      <td>[python, gcc, pip, odoo]</td>\n",
       "    </tr>\n",
       "    <tr>\n",
       "      <th>499</th>\n",
       "      <td>1326985305</td>\n",
       "      <td>510</td>\n",
       "      <td>Convert base-2 binary number string to int</td>\n",
       "      <td>[python]</td>\n",
       "    </tr>\n",
       "  </tbody>\n",
       "</table>\n",
       "<p>500 rows × 4 columns</p>\n",
       "</div>"
      ],
      "text/plain": [
       "           date  ...                                   tags\n",
       "0    1279664862  ...                   [python, dictionary]\n",
       "1    1368169489  ...     [python, pandas, dataframe, loops]\n",
       "2    1308930908  ...                    [python, exception]\n",
       "3    1281322370  ...  [python, string, substring, contains]\n",
       "4    1371058925  ...            [python, pandas, dataframe]\n",
       "..          ...  ...                                    ...\n",
       "495  1347125582  ...     [python, pip, python-module, pypi]\n",
       "496  1302009821  ...              [python, unicode, decode]\n",
       "497  1384518919  ...            [python, json, post, flask]\n",
       "498  1411715545  ...               [python, gcc, pip, odoo]\n",
       "499  1326985305  ...                               [python]\n",
       "\n",
       "[500 rows x 4 columns]"
      ]
     },
     "execution_count": 50,
     "metadata": {},
     "output_type": "execute_result"
    }
   ],
   "source": [
    "import pandas as pd\n",
    "pd.DataFrame(questions_list)"
   ]
  }
 ],
 "metadata": {
  "kernelspec": {
   "display_name": ".venv",
   "language": "python",
   "name": "python3"
  },
  "language_info": {
   "codemirror_mode": {
    "name": "ipython",
    "version": 3
   },
   "file_extension": ".py",
   "mimetype": "text/x-python",
   "name": "python",
   "nbconvert_exporter": "python",
   "pygments_lexer": "ipython3",
   "version": "3.11.5"
  }
 },
 "nbformat": 4,
 "nbformat_minor": 2
}
