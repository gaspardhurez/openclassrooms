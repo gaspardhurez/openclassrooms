{
 "cells": [
  {
   "cell_type": "markdown",
   "id": "1d2ad96c-6b5d-4f6c-be4e-069c25b2f428",
   "metadata": {},
   "source": [
    "## Cleaning"
   ]
  },
  {
   "cell_type": "markdown",
   "id": "04b4333a-de2b-4cfb-80ee-6cd1f95c4ef3",
   "metadata": {},
   "source": [
    "### 1. Data preparation"
   ]
  },
  {
   "cell_type": "markdown",
   "id": "9661eb68-061f-414b-8b1d-007efd8bfdef",
   "metadata": {
    "jp-MarkdownHeadingCollapsed": true
   },
   "source": [
    "##### A. Libraries import"
   ]
  },
  {
   "cell_type": "code",
   "execution_count": 99,
   "id": "cd73ce09-580d-4b2a-a95b-f2a6061b1c35",
   "metadata": {},
   "outputs": [],
   "source": [
    "import pandas as pd\n",
    "import plotly.express as px"
   ]
  },
  {
   "cell_type": "markdown",
   "id": "855679b1-0f8d-4d60-a510-0fa64e7f4327",
   "metadata": {},
   "source": [
    "##### B. Data loading"
   ]
  },
  {
   "cell_type": "code",
   "execution_count": 100,
   "id": "93d56577-6081-4d26-bfdf-e7bbc2af26c2",
   "metadata": {},
   "outputs": [],
   "source": [
    "raw_df = pd.read_csv('data/csv/fr.openfoodfacts.org.products.csv', sep='\\t', low_memory=False)"
   ]
  },
  {
   "cell_type": "markdown",
   "id": "f2aca810-48b3-4db6-bdcf-5e751cf9d532",
   "metadata": {
    "jp-MarkdownHeadingCollapsed": true
   },
   "source": [
    "#### C. Unification and aggregation"
   ]
  },
  {
   "cell_type": "markdown",
   "id": "8ac35849-878c-4951-83d7-47ef9cbcf8fd",
   "metadata": {
    "jp-MarkdownHeadingCollapsed": true
   },
   "source": [
    "#### D. Anonymization"
   ]
  },
  {
   "cell_type": "markdown",
   "id": "ad7faefd-be7c-484c-a849-c76bca0542b7",
   "metadata": {},
   "source": [
    "#### E. Data review & variable selection"
   ]
  },
  {
   "cell_type": "code",
   "execution_count": 101,
   "id": "8a94438e-1f09-4777-9c15-a7b3330c42b8",
   "metadata": {},
   "outputs": [
    {
     "name": "stdout",
     "output_type": "stream",
     "text": [
      "(320772, 162)\n"
     ]
    }
   ],
   "source": [
    "print(raw_df.shape)"
   ]
  },
  {
   "cell_type": "code",
   "execution_count": 102,
   "id": "2f1873b0-e102-4a47-b4a2-d9d7bffb7373",
   "metadata": {},
   "outputs": [
    {
     "data": {
      "text/plain": [
       "['code',\n",
       " 'url',\n",
       " 'creator',\n",
       " 'created_t',\n",
       " 'created_datetime',\n",
       " 'last_modified_t',\n",
       " 'last_modified_datetime',\n",
       " 'product_name',\n",
       " 'generic_name',\n",
       " 'quantity',\n",
       " 'packaging',\n",
       " 'packaging_tags',\n",
       " 'brands',\n",
       " 'brands_tags',\n",
       " 'categories',\n",
       " 'categories_tags',\n",
       " 'categories_fr',\n",
       " 'origins',\n",
       " 'origins_tags',\n",
       " 'manufacturing_places',\n",
       " 'manufacturing_places_tags',\n",
       " 'labels',\n",
       " 'labels_tags',\n",
       " 'labels_fr',\n",
       " 'emb_codes',\n",
       " 'emb_codes_tags',\n",
       " 'first_packaging_code_geo',\n",
       " 'cities',\n",
       " 'cities_tags',\n",
       " 'purchase_places',\n",
       " 'stores',\n",
       " 'countries',\n",
       " 'countries_tags',\n",
       " 'countries_fr',\n",
       " 'ingredients_text',\n",
       " 'allergens',\n",
       " 'allergens_fr',\n",
       " 'traces',\n",
       " 'traces_tags',\n",
       " 'traces_fr',\n",
       " 'serving_size',\n",
       " 'no_nutriments',\n",
       " 'additives_n',\n",
       " 'additives',\n",
       " 'additives_tags',\n",
       " 'additives_fr',\n",
       " 'ingredients_from_palm_oil_n',\n",
       " 'ingredients_from_palm_oil',\n",
       " 'ingredients_from_palm_oil_tags',\n",
       " 'ingredients_that_may_be_from_palm_oil_n',\n",
       " 'ingredients_that_may_be_from_palm_oil',\n",
       " 'ingredients_that_may_be_from_palm_oil_tags',\n",
       " 'nutrition_grade_uk',\n",
       " 'nutrition_grade_fr',\n",
       " 'pnns_groups_1',\n",
       " 'pnns_groups_2',\n",
       " 'states',\n",
       " 'states_tags',\n",
       " 'states_fr',\n",
       " 'main_category',\n",
       " 'main_category_fr',\n",
       " 'image_url',\n",
       " 'image_small_url',\n",
       " 'energy_100g',\n",
       " 'energy-from-fat_100g',\n",
       " 'fat_100g',\n",
       " 'saturated-fat_100g',\n",
       " 'butyric-acid_100g',\n",
       " 'caproic-acid_100g',\n",
       " 'caprylic-acid_100g',\n",
       " 'capric-acid_100g',\n",
       " 'lauric-acid_100g',\n",
       " 'myristic-acid_100g',\n",
       " 'palmitic-acid_100g',\n",
       " 'stearic-acid_100g',\n",
       " 'arachidic-acid_100g',\n",
       " 'behenic-acid_100g',\n",
       " 'lignoceric-acid_100g',\n",
       " 'cerotic-acid_100g',\n",
       " 'montanic-acid_100g',\n",
       " 'melissic-acid_100g',\n",
       " 'monounsaturated-fat_100g',\n",
       " 'polyunsaturated-fat_100g',\n",
       " 'omega-3-fat_100g',\n",
       " 'alpha-linolenic-acid_100g',\n",
       " 'eicosapentaenoic-acid_100g',\n",
       " 'docosahexaenoic-acid_100g',\n",
       " 'omega-6-fat_100g',\n",
       " 'linoleic-acid_100g',\n",
       " 'arachidonic-acid_100g',\n",
       " 'gamma-linolenic-acid_100g',\n",
       " 'dihomo-gamma-linolenic-acid_100g',\n",
       " 'omega-9-fat_100g',\n",
       " 'oleic-acid_100g',\n",
       " 'elaidic-acid_100g',\n",
       " 'gondoic-acid_100g',\n",
       " 'mead-acid_100g',\n",
       " 'erucic-acid_100g',\n",
       " 'nervonic-acid_100g',\n",
       " 'trans-fat_100g',\n",
       " 'cholesterol_100g',\n",
       " 'carbohydrates_100g',\n",
       " 'sugars_100g',\n",
       " 'sucrose_100g',\n",
       " 'glucose_100g',\n",
       " 'fructose_100g',\n",
       " 'lactose_100g',\n",
       " 'maltose_100g',\n",
       " 'maltodextrins_100g',\n",
       " 'starch_100g',\n",
       " 'polyols_100g',\n",
       " 'fiber_100g',\n",
       " 'proteins_100g',\n",
       " 'casein_100g',\n",
       " 'serum-proteins_100g',\n",
       " 'nucleotides_100g',\n",
       " 'salt_100g',\n",
       " 'sodium_100g',\n",
       " 'alcohol_100g',\n",
       " 'vitamin-a_100g',\n",
       " 'beta-carotene_100g',\n",
       " 'vitamin-d_100g',\n",
       " 'vitamin-e_100g',\n",
       " 'vitamin-k_100g',\n",
       " 'vitamin-c_100g',\n",
       " 'vitamin-b1_100g',\n",
       " 'vitamin-b2_100g',\n",
       " 'vitamin-pp_100g',\n",
       " 'vitamin-b6_100g',\n",
       " 'vitamin-b9_100g',\n",
       " 'folates_100g',\n",
       " 'vitamin-b12_100g',\n",
       " 'biotin_100g',\n",
       " 'pantothenic-acid_100g',\n",
       " 'silica_100g',\n",
       " 'bicarbonate_100g',\n",
       " 'potassium_100g',\n",
       " 'chloride_100g',\n",
       " 'calcium_100g',\n",
       " 'phosphorus_100g',\n",
       " 'iron_100g',\n",
       " 'magnesium_100g',\n",
       " 'zinc_100g',\n",
       " 'copper_100g',\n",
       " 'manganese_100g',\n",
       " 'fluoride_100g',\n",
       " 'selenium_100g',\n",
       " 'chromium_100g',\n",
       " 'molybdenum_100g',\n",
       " 'iodine_100g',\n",
       " 'caffeine_100g',\n",
       " 'taurine_100g',\n",
       " 'ph_100g',\n",
       " 'fruits-vegetables-nuts_100g',\n",
       " 'collagen-meat-protein-ratio_100g',\n",
       " 'cocoa_100g',\n",
       " 'chlorophyl_100g',\n",
       " 'carbon-footprint_100g',\n",
       " 'nutrition-score-fr_100g',\n",
       " 'nutrition-score-uk_100g',\n",
       " 'glycemic-index_100g',\n",
       " 'water-hardness_100g']"
      ]
     },
     "execution_count": 102,
     "metadata": {},
     "output_type": "execute_result"
    }
   ],
   "source": [
    "list(raw_df.columns)"
   ]
  },
  {
   "cell_type": "code",
   "execution_count": 103,
   "id": "b3d551b4-58cf-48e4-a585-1d2d565d6c8a",
   "metadata": {},
   "outputs": [],
   "source": [
    "missing_values = raw_df.isnull().sum().sort_values(ascending=False)\n",
    "missing_values_pct = missing_values / 320772 * 100\n",
    "variables_80pct_null = (80 > missing_values_pct)"
   ]
  },
  {
   "cell_type": "code",
   "execution_count": 104,
   "id": "eece06ef-2203-49f0-b9dd-92c508f74a33",
   "metadata": {
    "scrolled": true
   },
   "outputs": [
    {
     "data": {
      "text/plain": [
       "['code',\n",
       " 'url',\n",
       " 'creator',\n",
       " 'created_t',\n",
       " 'created_datetime',\n",
       " 'last_modified_t',\n",
       " 'last_modified_datetime',\n",
       " 'product_name',\n",
       " 'quantity',\n",
       " 'packaging',\n",
       " 'packaging_tags',\n",
       " 'brands',\n",
       " 'brands_tags',\n",
       " 'categories',\n",
       " 'categories_tags',\n",
       " 'categories_fr',\n",
       " 'countries',\n",
       " 'countries_tags',\n",
       " 'countries_fr',\n",
       " 'ingredients_text',\n",
       " 'serving_size',\n",
       " 'additives_n',\n",
       " 'additives',\n",
       " 'additives_tags',\n",
       " 'additives_fr',\n",
       " 'ingredients_from_palm_oil_n',\n",
       " 'ingredients_that_may_be_from_palm_oil_n',\n",
       " 'nutrition_grade_fr',\n",
       " 'pnns_groups_1',\n",
       " 'pnns_groups_2',\n",
       " 'states',\n",
       " 'states_tags',\n",
       " 'states_fr',\n",
       " 'main_category',\n",
       " 'main_category_fr',\n",
       " 'image_url',\n",
       " 'image_small_url',\n",
       " 'energy_100g',\n",
       " 'fat_100g',\n",
       " 'saturated-fat_100g',\n",
       " 'trans-fat_100g',\n",
       " 'cholesterol_100g',\n",
       " 'carbohydrates_100g',\n",
       " 'sugars_100g',\n",
       " 'fiber_100g',\n",
       " 'proteins_100g',\n",
       " 'salt_100g',\n",
       " 'sodium_100g',\n",
       " 'vitamin-a_100g',\n",
       " 'vitamin-c_100g',\n",
       " 'calcium_100g',\n",
       " 'iron_100g',\n",
       " 'nutrition-score-fr_100g',\n",
       " 'nutrition-score-uk_100g']"
      ]
     },
     "execution_count": 104,
     "metadata": {},
     "output_type": "execute_result"
    }
   ],
   "source": [
    "df = raw_df.loc[:, variables_80pct_null]\n",
    "list(df.columns)"
   ]
  },
  {
   "cell_type": "code",
   "execution_count": 105,
   "id": "139513a4-7a74-4acf-9c01-60adfdb93b47",
   "metadata": {},
   "outputs": [
    {
     "name": "stdout",
     "output_type": "stream",
     "text": [
      "(320772, 54)\n"
     ]
    }
   ],
   "source": [
    "print(df.shape)"
   ]
  },
  {
   "cell_type": "code",
   "execution_count": 106,
   "id": "621a8935-f1f3-4df5-96b7-2f9a880376c9",
   "metadata": {},
   "outputs": [],
   "source": [
    "columns_to_drop = ['code',\n",
    "                   'url',\n",
    "                   'creator',\n",
    "                   'created_t',\n",
    "                   'created_datetime',\n",
    "                   'last_modified_t',\n",
    "                   'last_modified_datetime',\n",
    "                   'image_url',\n",
    "                   'image_small_url',\n",
    "                   'tags'\n",
    "                  ]\n",
    "\n",
    "columns_to_drop = '|'.join(columns_to_drop)\n",
    "columns_to_drop = df.filter(regex=columns_to_drop, axis=1)\n",
    "df = df.drop(columns_to_drop.columns, axis=1)                         "
   ]
  },
  {
   "cell_type": "code",
   "execution_count": 107,
   "id": "1eec8fc5-1c78-4106-96b9-886aef45f1dd",
   "metadata": {
    "scrolled": true
   },
   "outputs": [
    {
     "data": {
      "text/plain": [
       "(320772, 39)"
      ]
     },
     "execution_count": 107,
     "metadata": {},
     "output_type": "execute_result"
    }
   ],
   "source": [
    "df.shape"
   ]
  },
  {
   "cell_type": "code",
   "execution_count": 108,
   "id": "f86a1297-a3d0-4d7d-82be-a73573ce4aa7",
   "metadata": {
    "scrolled": true
   },
   "outputs": [
    {
     "data": {
      "application/vnd.plotly.v1+json": {
       "config": {
        "plotlyServerURL": "https://plot.ly"
       },
       "data": [
        {
         "coloraxis": "coloraxis",
         "hovertemplate": "x: %{x}<br>y: %{y}<br>color: %{z}<extra></extra>",
         "name": "0",
         "type": "heatmap",
         "x": [
          "energy_100g",
          "fat_100g",
          "saturated-fat_100g",
          "trans-fat_100g",
          "cholesterol_100g",
          "carbohydrates_100g",
          "sugars_100g",
          "fiber_100g",
          "proteins_100g",
          "salt_100g",
          "sodium_100g",
          "vitamin-a_100g",
          "vitamin-c_100g",
          "calcium_100g",
          "iron_100g",
          "nutrition-score-fr_100g",
          "nutrition-score-uk_100g"
         ],
         "xaxis": "x",
         "y": [
          "energy_100g",
          "fat_100g",
          "saturated-fat_100g",
          "trans-fat_100g",
          "cholesterol_100g",
          "carbohydrates_100g",
          "sugars_100g",
          "fiber_100g",
          "proteins_100g",
          "salt_100g",
          "sodium_100g",
          "vitamin-a_100g",
          "vitamin-c_100g",
          "calcium_100g",
          "iron_100g",
          "nutrition-score-fr_100g",
          "nutrition-score-uk_100g"
         ],
         "yaxis": "y",
         "z": [
          [
           1,
           0.0944056434962674,
           0.07374794495494615,
           0.02161834367604083,
           0.005168004252897594,
           0.06108841304895129,
           0.056877144753540845,
           0.07745826766820836,
           0.04482542263247438,
           -0.0005794616626366506,
           -0.000579678177309438,
           0.0005525909470351873,
           -0.004290298291431168,
           0.007234811084420141,
           0.003874332499533461,
           0.06776502063641807,
           0.07029009915905975
          ],
          [
           0.0944056434962674,
           1,
           0.6890511019773606,
           0.024889903430062386,
           0.021901740371348153,
           -0.08780176636852598,
           -0.04738284124590789,
           0.13631314420683086,
           0.229888855811973,
           -0.004341102572107487,
           -0.004342455906809418,
           0.0022380829313394025,
           -0.009281162080332294,
           0.009835751478399025,
           -0.002610137434533744,
           0.5677268366255596,
           0.5918110241926873
          ],
          [
           0.07374794495494615,
           0.6890511019773606,
           1,
           0.013187067945468756,
           0.04400839441351984,
           -0.05109913404776511,
           0.15657737722072426,
           0.15464423142385264,
           0.16644880297523704,
           -0.00220624597286361,
           -0.0022073273007140815,
           0.0059106319264608555,
           -0.009718439613191627,
           0.020671009305405975,
           -0.003902173202611039,
           0.6242223972247074,
           0.6408108868754868
          ],
          [
           0.02161834367604083,
           0.024889903430062386,
           0.013187067945468756,
           1,
           -0.0004626918943967348,
           0.006583838106259534,
           0.0036243913530791282,
           -0.0008532765310590026,
           -0.010085439760927396,
           -0.00014455155952262239,
           -0.00014455089848136167,
           -0.0019596335104083134,
           -0.0016975205465821726,
           -0.0007423879646070007,
           0.002611546996196664,
           0.02210097447404471,
           0.022186910418490982
          ],
          [
           0.005168004252897594,
           0.021901740371348153,
           0.04400839441351984,
           -0.0004626918943967348,
           1,
           -0.03644391057207223,
           -0.01665697835042872,
           -0.02385798935030226,
           0.04734386712917178,
           0.11265249449488501,
           0.11265247720240248,
           0.0035105501341202742,
           -0.0007270552324543619,
           0.004672787419150131,
           -0.0001461061684989218,
           0.030883862449858426,
           0.03090345618693808
          ],
          [
           0.06108841304895129,
           -0.08780176636852598,
           -0.05109913404776511,
           0.006583838106259534,
           -0.03644391057207223,
           1,
           0.6608253517262859,
           0.2811235830634358,
           -0.08777653304271998,
           -0.0009926835790156025,
           -0.000994637174067432,
           -0.003953360677700745,
           0.003814991730231251,
           -0.010289666414164872,
           0.008855717094070795,
           0.26353906133439947,
           0.2628344725581651
          ],
          [
           0.056877144753540845,
           -0.04738284124590789,
           0.15657737722072426,
           0.0036243913530791282,
           -0.01665697835042872,
           0.6608253517262859,
           1,
           0.34459628739730935,
           -0.21076600444307209,
           0.00044109547161671337,
           0.0004401185549558116,
           -0.014406824448108747,
           0.0026694112131842936,
           -0.0042829580020747335,
           0.007795325179764175,
           0.44153712738048423,
           0.4317081706290227
          ],
          [
           0.07745826766820836,
           0.13631314420683086,
           0.15464423142385264,
           -0.0008532765310590026,
           -0.02385798935030226,
           0.2811235830634358,
           0.34459628739730935,
           1,
           0.19225902819372861,
           -6.597678394665833e-05,
           -6.84388243965729e-05,
           0.056382797574801094,
           0.008326030497612347,
           0.001166661594890814,
           0.011038649999093826,
           -0.04698863843024976,
           -0.045250145984237544
          ],
          [
           0.04482542263247438,
           0.229888855811973,
           0.16644880297523704,
           -0.010085439760927396,
           0.04734386712917178,
           -0.08777653304271998,
           -0.21076600444307209,
           0.19225902819372861,
           1,
           -0.0023057046831720706,
           -0.0023066399027746446,
           0.004302833668230512,
           -0.006976191226244681,
           0.04241988704790782,
           0.004022834857532494,
           0.10841399825791712,
           0.1312454790610799
          ],
          [
           -0.0005794616626366506,
           -0.004341102572107487,
           -0.00220624597286361,
           -0.00014455155952262239,
           0.11265249449488501,
           -0.0009926835790156025,
           0.00044109547161671337,
           -6.597678394665833e-05,
           -0.0023057046831720706,
           1,
           0.9999999999452343,
           0.000473579746125237,
           0.0029358251602975513,
           0.0013680970112180603,
           0.0012881541621240493,
           0.007295212889761761,
           0.007388072670444775
          ],
          [
           -0.000579678177309438,
           -0.004342455906809418,
           -0.0022073273007140815,
           -0.00014455089848136167,
           0.11265247720240248,
           -0.000994637174067432,
           0.0004401185549558116,
           -6.84388243965729e-05,
           -0.0023066399027746446,
           0.9999999999452343,
           1,
           0.00047390415163654434,
           0.002935814297401924,
           0.001368088410258093,
           0.0012881229908613906,
           0.007295210977534888,
           0.007388070929788885
          ],
          [
           0.0005525909470351873,
           0.0022380829313394025,
           0.0059106319264608555,
           -0.0019596335104083134,
           0.0035105501341202742,
           -0.003953360677700745,
           -0.014406824448108747,
           0.056382797574801094,
           0.004302833668230512,
           0.000473579746125237,
           0.00047390415163654434,
           1,
           0.0035041452457267937,
           0.08612355222905822,
           0.0036760336855944935,
           -0.006444815737018508,
           -0.00467251916542382
          ],
          [
           -0.004290298291431168,
           -0.009281162080332294,
           -0.009718439613191627,
           -0.0016975205465821726,
           -0.0007270552324543619,
           0.003814991730231251,
           0.0026694112131842936,
           0.008326030497612347,
           -0.006976191226244681,
           0.0029358251602975513,
           0.002935814297401924,
           0.0035041452457267937,
           1,
           0.012216540679947954,
           0.08368485814333447,
           -0.010115041700992186,
           -0.01027249897971088
          ],
          [
           0.007234811084420141,
           0.009835751478399025,
           0.020671009305405975,
           -0.0007423879646070007,
           0.004672787419150131,
           -0.010289666414164872,
           -0.0042829580020747335,
           0.001166661594890814,
           0.04241988704790782,
           0.0013680970112180603,
           0.001368088410258093,
           0.08612355222905822,
           0.012216540679947954,
           1,
           0.0814685360240773,
           0.01733225238090628,
           0.017324807645524864
          ],
          [
           0.003874332499533461,
           -0.002610137434533744,
           -0.003902173202611039,
           0.002611546996196664,
           -0.0001461061684989218,
           0.008855717094070795,
           0.007795325179764175,
           0.011038649999093826,
           0.004022834857532494,
           0.0012881541621240493,
           0.0012881229908613906,
           0.0036760336855944935,
           0.08368485814333447,
           0.0814685360240773,
           1,
           -0.0013643808282725023,
           -0.001360458481534391
          ],
          [
           0.06776502063641807,
           0.5677268366255596,
           0.6242223972247074,
           0.02210097447404471,
           0.030883862449858426,
           0.26353906133439947,
           0.44153712738048423,
           -0.04698863843024976,
           0.10841399825791712,
           0.007295212889761761,
           0.007295210977534888,
           -0.006444815737018508,
           -0.010115041700992186,
           0.01733225238090628,
           -0.0013643808282725023,
           1,
           0.9862203956462817
          ],
          [
           0.07029009915905975,
           0.5918110241926873,
           0.6408108868754868,
           0.022186910418490982,
           0.03090345618693808,
           0.2628344725581651,
           0.4317081706290227,
           -0.045250145984237544,
           0.1312454790610799,
           0.007388072670444775,
           0.007388070929788885,
           -0.00467251916542382,
           -0.01027249897971088,
           0.017324807645524864,
           -0.001360458481534391,
           0.9862203956462817,
           1
          ]
         ]
        }
       ],
       "layout": {
        "autosize": true,
        "coloraxis": {
         "colorscale": [
          [
           0,
           "#0d0887"
          ],
          [
           0.1111111111111111,
           "#46039f"
          ],
          [
           0.2222222222222222,
           "#7201a8"
          ],
          [
           0.3333333333333333,
           "#9c179e"
          ],
          [
           0.4444444444444444,
           "#bd3786"
          ],
          [
           0.5555555555555556,
           "#d8576b"
          ],
          [
           0.6666666666666666,
           "#ed7953"
          ],
          [
           0.7777777777777778,
           "#fb9f3a"
          ],
          [
           0.8888888888888888,
           "#fdca26"
          ],
          [
           1,
           "#f0f921"
          ]
         ]
        },
        "margin": {
         "t": 60
        },
        "template": {
         "data": {
          "bar": [
           {
            "error_x": {
             "color": "#2a3f5f"
            },
            "error_y": {
             "color": "#2a3f5f"
            },
            "marker": {
             "line": {
              "color": "#E5ECF6",
              "width": 0.5
             },
             "pattern": {
              "fillmode": "overlay",
              "size": 10,
              "solidity": 0.2
             }
            },
            "type": "bar"
           }
          ],
          "barpolar": [
           {
            "marker": {
             "line": {
              "color": "#E5ECF6",
              "width": 0.5
             },
             "pattern": {
              "fillmode": "overlay",
              "size": 10,
              "solidity": 0.2
             }
            },
            "type": "barpolar"
           }
          ],
          "carpet": [
           {
            "aaxis": {
             "endlinecolor": "#2a3f5f",
             "gridcolor": "white",
             "linecolor": "white",
             "minorgridcolor": "white",
             "startlinecolor": "#2a3f5f"
            },
            "baxis": {
             "endlinecolor": "#2a3f5f",
             "gridcolor": "white",
             "linecolor": "white",
             "minorgridcolor": "white",
             "startlinecolor": "#2a3f5f"
            },
            "type": "carpet"
           }
          ],
          "choropleth": [
           {
            "colorbar": {
             "outlinewidth": 0,
             "ticks": ""
            },
            "type": "choropleth"
           }
          ],
          "contour": [
           {
            "colorbar": {
             "outlinewidth": 0,
             "ticks": ""
            },
            "colorscale": [
             [
              0,
              "#0d0887"
             ],
             [
              0.1111111111111111,
              "#46039f"
             ],
             [
              0.2222222222222222,
              "#7201a8"
             ],
             [
              0.3333333333333333,
              "#9c179e"
             ],
             [
              0.4444444444444444,
              "#bd3786"
             ],
             [
              0.5555555555555556,
              "#d8576b"
             ],
             [
              0.6666666666666666,
              "#ed7953"
             ],
             [
              0.7777777777777778,
              "#fb9f3a"
             ],
             [
              0.8888888888888888,
              "#fdca26"
             ],
             [
              1,
              "#f0f921"
             ]
            ],
            "type": "contour"
           }
          ],
          "contourcarpet": [
           {
            "colorbar": {
             "outlinewidth": 0,
             "ticks": ""
            },
            "type": "contourcarpet"
           }
          ],
          "heatmap": [
           {
            "colorbar": {
             "outlinewidth": 0,
             "ticks": ""
            },
            "colorscale": [
             [
              0,
              "#0d0887"
             ],
             [
              0.1111111111111111,
              "#46039f"
             ],
             [
              0.2222222222222222,
              "#7201a8"
             ],
             [
              0.3333333333333333,
              "#9c179e"
             ],
             [
              0.4444444444444444,
              "#bd3786"
             ],
             [
              0.5555555555555556,
              "#d8576b"
             ],
             [
              0.6666666666666666,
              "#ed7953"
             ],
             [
              0.7777777777777778,
              "#fb9f3a"
             ],
             [
              0.8888888888888888,
              "#fdca26"
             ],
             [
              1,
              "#f0f921"
             ]
            ],
            "type": "heatmap"
           }
          ],
          "heatmapgl": [
           {
            "colorbar": {
             "outlinewidth": 0,
             "ticks": ""
            },
            "colorscale": [
             [
              0,
              "#0d0887"
             ],
             [
              0.1111111111111111,
              "#46039f"
             ],
             [
              0.2222222222222222,
              "#7201a8"
             ],
             [
              0.3333333333333333,
              "#9c179e"
             ],
             [
              0.4444444444444444,
              "#bd3786"
             ],
             [
              0.5555555555555556,
              "#d8576b"
             ],
             [
              0.6666666666666666,
              "#ed7953"
             ],
             [
              0.7777777777777778,
              "#fb9f3a"
             ],
             [
              0.8888888888888888,
              "#fdca26"
             ],
             [
              1,
              "#f0f921"
             ]
            ],
            "type": "heatmapgl"
           }
          ],
          "histogram": [
           {
            "marker": {
             "pattern": {
              "fillmode": "overlay",
              "size": 10,
              "solidity": 0.2
             }
            },
            "type": "histogram"
           }
          ],
          "histogram2d": [
           {
            "colorbar": {
             "outlinewidth": 0,
             "ticks": ""
            },
            "colorscale": [
             [
              0,
              "#0d0887"
             ],
             [
              0.1111111111111111,
              "#46039f"
             ],
             [
              0.2222222222222222,
              "#7201a8"
             ],
             [
              0.3333333333333333,
              "#9c179e"
             ],
             [
              0.4444444444444444,
              "#bd3786"
             ],
             [
              0.5555555555555556,
              "#d8576b"
             ],
             [
              0.6666666666666666,
              "#ed7953"
             ],
             [
              0.7777777777777778,
              "#fb9f3a"
             ],
             [
              0.8888888888888888,
              "#fdca26"
             ],
             [
              1,
              "#f0f921"
             ]
            ],
            "type": "histogram2d"
           }
          ],
          "histogram2dcontour": [
           {
            "colorbar": {
             "outlinewidth": 0,
             "ticks": ""
            },
            "colorscale": [
             [
              0,
              "#0d0887"
             ],
             [
              0.1111111111111111,
              "#46039f"
             ],
             [
              0.2222222222222222,
              "#7201a8"
             ],
             [
              0.3333333333333333,
              "#9c179e"
             ],
             [
              0.4444444444444444,
              "#bd3786"
             ],
             [
              0.5555555555555556,
              "#d8576b"
             ],
             [
              0.6666666666666666,
              "#ed7953"
             ],
             [
              0.7777777777777778,
              "#fb9f3a"
             ],
             [
              0.8888888888888888,
              "#fdca26"
             ],
             [
              1,
              "#f0f921"
             ]
            ],
            "type": "histogram2dcontour"
           }
          ],
          "mesh3d": [
           {
            "colorbar": {
             "outlinewidth": 0,
             "ticks": ""
            },
            "type": "mesh3d"
           }
          ],
          "parcoords": [
           {
            "line": {
             "colorbar": {
              "outlinewidth": 0,
              "ticks": ""
             }
            },
            "type": "parcoords"
           }
          ],
          "pie": [
           {
            "automargin": true,
            "type": "pie"
           }
          ],
          "scatter": [
           {
            "fillpattern": {
             "fillmode": "overlay",
             "size": 10,
             "solidity": 0.2
            },
            "type": "scatter"
           }
          ],
          "scatter3d": [
           {
            "line": {
             "colorbar": {
              "outlinewidth": 0,
              "ticks": ""
             }
            },
            "marker": {
             "colorbar": {
              "outlinewidth": 0,
              "ticks": ""
             }
            },
            "type": "scatter3d"
           }
          ],
          "scattercarpet": [
           {
            "marker": {
             "colorbar": {
              "outlinewidth": 0,
              "ticks": ""
             }
            },
            "type": "scattercarpet"
           }
          ],
          "scattergeo": [
           {
            "marker": {
             "colorbar": {
              "outlinewidth": 0,
              "ticks": ""
             }
            },
            "type": "scattergeo"
           }
          ],
          "scattergl": [
           {
            "marker": {
             "colorbar": {
              "outlinewidth": 0,
              "ticks": ""
             }
            },
            "type": "scattergl"
           }
          ],
          "scattermapbox": [
           {
            "marker": {
             "colorbar": {
              "outlinewidth": 0,
              "ticks": ""
             }
            },
            "type": "scattermapbox"
           }
          ],
          "scatterpolar": [
           {
            "marker": {
             "colorbar": {
              "outlinewidth": 0,
              "ticks": ""
             }
            },
            "type": "scatterpolar"
           }
          ],
          "scatterpolargl": [
           {
            "marker": {
             "colorbar": {
              "outlinewidth": 0,
              "ticks": ""
             }
            },
            "type": "scatterpolargl"
           }
          ],
          "scatterternary": [
           {
            "marker": {
             "colorbar": {
              "outlinewidth": 0,
              "ticks": ""
             }
            },
            "type": "scatterternary"
           }
          ],
          "surface": [
           {
            "colorbar": {
             "outlinewidth": 0,
             "ticks": ""
            },
            "colorscale": [
             [
              0,
              "#0d0887"
             ],
             [
              0.1111111111111111,
              "#46039f"
             ],
             [
              0.2222222222222222,
              "#7201a8"
             ],
             [
              0.3333333333333333,
              "#9c179e"
             ],
             [
              0.4444444444444444,
              "#bd3786"
             ],
             [
              0.5555555555555556,
              "#d8576b"
             ],
             [
              0.6666666666666666,
              "#ed7953"
             ],
             [
              0.7777777777777778,
              "#fb9f3a"
             ],
             [
              0.8888888888888888,
              "#fdca26"
             ],
             [
              1,
              "#f0f921"
             ]
            ],
            "type": "surface"
           }
          ],
          "table": [
           {
            "cells": {
             "fill": {
              "color": "#EBF0F8"
             },
             "line": {
              "color": "white"
             }
            },
            "header": {
             "fill": {
              "color": "#C8D4E3"
             },
             "line": {
              "color": "white"
             }
            },
            "type": "table"
           }
          ]
         },
         "layout": {
          "annotationdefaults": {
           "arrowcolor": "#2a3f5f",
           "arrowhead": 0,
           "arrowwidth": 1
          },
          "autotypenumbers": "strict",
          "coloraxis": {
           "colorbar": {
            "outlinewidth": 0,
            "ticks": ""
           }
          },
          "colorscale": {
           "diverging": [
            [
             0,
             "#8e0152"
            ],
            [
             0.1,
             "#c51b7d"
            ],
            [
             0.2,
             "#de77ae"
            ],
            [
             0.3,
             "#f1b6da"
            ],
            [
             0.4,
             "#fde0ef"
            ],
            [
             0.5,
             "#f7f7f7"
            ],
            [
             0.6,
             "#e6f5d0"
            ],
            [
             0.7,
             "#b8e186"
            ],
            [
             0.8,
             "#7fbc41"
            ],
            [
             0.9,
             "#4d9221"
            ],
            [
             1,
             "#276419"
            ]
           ],
           "sequential": [
            [
             0,
             "#0d0887"
            ],
            [
             0.1111111111111111,
             "#46039f"
            ],
            [
             0.2222222222222222,
             "#7201a8"
            ],
            [
             0.3333333333333333,
             "#9c179e"
            ],
            [
             0.4444444444444444,
             "#bd3786"
            ],
            [
             0.5555555555555556,
             "#d8576b"
            ],
            [
             0.6666666666666666,
             "#ed7953"
            ],
            [
             0.7777777777777778,
             "#fb9f3a"
            ],
            [
             0.8888888888888888,
             "#fdca26"
            ],
            [
             1,
             "#f0f921"
            ]
           ],
           "sequentialminus": [
            [
             0,
             "#0d0887"
            ],
            [
             0.1111111111111111,
             "#46039f"
            ],
            [
             0.2222222222222222,
             "#7201a8"
            ],
            [
             0.3333333333333333,
             "#9c179e"
            ],
            [
             0.4444444444444444,
             "#bd3786"
            ],
            [
             0.5555555555555556,
             "#d8576b"
            ],
            [
             0.6666666666666666,
             "#ed7953"
            ],
            [
             0.7777777777777778,
             "#fb9f3a"
            ],
            [
             0.8888888888888888,
             "#fdca26"
            ],
            [
             1,
             "#f0f921"
            ]
           ]
          },
          "colorway": [
           "#636efa",
           "#EF553B",
           "#00cc96",
           "#ab63fa",
           "#FFA15A",
           "#19d3f3",
           "#FF6692",
           "#B6E880",
           "#FF97FF",
           "#FECB52"
          ],
          "font": {
           "color": "#2a3f5f"
          },
          "geo": {
           "bgcolor": "white",
           "lakecolor": "white",
           "landcolor": "#E5ECF6",
           "showlakes": true,
           "showland": true,
           "subunitcolor": "white"
          },
          "hoverlabel": {
           "align": "left"
          },
          "hovermode": "closest",
          "mapbox": {
           "style": "light"
          },
          "paper_bgcolor": "white",
          "plot_bgcolor": "#E5ECF6",
          "polar": {
           "angularaxis": {
            "gridcolor": "white",
            "linecolor": "white",
            "ticks": ""
           },
           "bgcolor": "#E5ECF6",
           "radialaxis": {
            "gridcolor": "white",
            "linecolor": "white",
            "ticks": ""
           }
          },
          "scene": {
           "xaxis": {
            "backgroundcolor": "#E5ECF6",
            "gridcolor": "white",
            "gridwidth": 2,
            "linecolor": "white",
            "showbackground": true,
            "ticks": "",
            "zerolinecolor": "white"
           },
           "yaxis": {
            "backgroundcolor": "#E5ECF6",
            "gridcolor": "white",
            "gridwidth": 2,
            "linecolor": "white",
            "showbackground": true,
            "ticks": "",
            "zerolinecolor": "white"
           },
           "zaxis": {
            "backgroundcolor": "#E5ECF6",
            "gridcolor": "white",
            "gridwidth": 2,
            "linecolor": "white",
            "showbackground": true,
            "ticks": "",
            "zerolinecolor": "white"
           }
          },
          "shapedefaults": {
           "line": {
            "color": "#2a3f5f"
           }
          },
          "ternary": {
           "aaxis": {
            "gridcolor": "white",
            "linecolor": "white",
            "ticks": ""
           },
           "baxis": {
            "gridcolor": "white",
            "linecolor": "white",
            "ticks": ""
           },
           "bgcolor": "#E5ECF6",
           "caxis": {
            "gridcolor": "white",
            "linecolor": "white",
            "ticks": ""
           }
          },
          "title": {
           "x": 0.05
          },
          "xaxis": {
           "automargin": true,
           "gridcolor": "white",
           "linecolor": "white",
           "ticks": "",
           "title": {
            "standoff": 15
           },
           "zerolinecolor": "white",
           "zerolinewidth": 2
          },
          "yaxis": {
           "automargin": true,
           "gridcolor": "white",
           "linecolor": "white",
           "ticks": "",
           "title": {
            "standoff": 15
           },
           "zerolinecolor": "white",
           "zerolinewidth": 2
          }
         }
        },
        "xaxis": {
         "anchor": "y",
         "autorange": true,
         "constrain": "domain",
         "domain": [
          0.4262114537444934,
          0.5737885462555066
         ],
         "range": [
          -0.5,
          16.5
         ],
         "scaleanchor": "y",
         "type": "category"
        },
        "yaxis": {
         "anchor": "x",
         "autorange": true,
         "constrain": "domain",
         "domain": [
          0,
          1
         ],
         "range": [
          16.5,
          -0.5
         ],
         "type": "category"
        }
       }
      },
      "image/png": "[encoded data removed]",
      "text/html": [
       "<div>                            <div id=\"47e7028b-baf9-4fb0-9cde-2152db30b0f9\" class=\"plotly-graph-div\" style=\"height:525px; width:100%;\"></div>            <script type=\"text/javascript\">                require([\"plotly\"], function(Plotly) {                    window.PLOTLYENV=window.PLOTLYENV || {};                                    if (document.getElementById(\"47e7028b-baf9-4fb0-9cde-2152db30b0f9\")) {                    Plotly.newPlot(                        \"47e7028b-baf9-4fb0-9cde-2152db30b0f9\",                        [{\"coloraxis\":\"coloraxis\",\"name\":\"0\",\"x\":[\"energy_100g\",\"fat_100g\",\"saturated-fat_100g\",\"trans-fat_100g\",\"cholesterol_100g\",\"carbohydrates_100g\",\"sugars_100g\",\"fiber_100g\",\"proteins_100g\",\"salt_100g\",\"sodium_100g\",\"vitamin-a_100g\",\"vitamin-c_100g\",\"calcium_100g\",\"iron_100g\",\"nutrition-score-fr_100g\",\"nutrition-score-uk_100g\"],\"y\":[\"energy_100g\",\"fat_100g\",\"saturated-fat_100g\",\"trans-fat_100g\",\"cholesterol_100g\",\"carbohydrates_100g\",\"sugars_100g\",\"fiber_100g\",\"proteins_100g\",\"salt_100g\",\"sodium_100g\",\"vitamin-a_100g\",\"vitamin-c_100g\",\"calcium_100g\",\"iron_100g\",\"nutrition-score-fr_100g\",\"nutrition-score-uk_100g\"],\"z\":[[1.0,0.0944056434962674,0.07374794495494615,0.02161834367604083,0.005168004252897594,0.06108841304895129,0.056877144753540845,0.07745826766820836,0.04482542263247438,-0.0005794616626366506,-0.000579678177309438,0.0005525909470351873,-0.004290298291431168,0.007234811084420141,0.003874332499533461,0.06776502063641807,0.07029009915905975],[0.0944056434962674,1.0,0.6890511019773606,0.024889903430062386,0.021901740371348153,-0.08780176636852598,-0.04738284124590789,0.13631314420683086,0.229888855811973,-0.004341102572107487,-0.004342455906809418,0.0022380829313394025,-0.009281162080332294,0.009835751478399025,-0.002610137434533744,0.5677268366255596,0.5918110241926873],[0.07374794495494615,0.6890511019773606,1.0,0.013187067945468756,0.04400839441351984,-0.05109913404776511,0.15657737722072426,0.15464423142385264,0.16644880297523704,-0.00220624597286361,-0.0022073273007140815,0.0059106319264608555,-0.009718439613191627,0.020671009305405975,-0.003902173202611039,0.6242223972247074,0.6408108868754868],[0.02161834367604083,0.024889903430062386,0.013187067945468756,1.0,-0.0004626918943967348,0.006583838106259534,0.0036243913530791282,-0.0008532765310590026,-0.010085439760927396,-0.00014455155952262239,-0.00014455089848136167,-0.0019596335104083134,-0.0016975205465821726,-0.0007423879646070007,0.002611546996196664,0.02210097447404471,0.022186910418490982],[0.005168004252897594,0.021901740371348153,0.04400839441351984,-0.0004626918943967348,1.0,-0.03644391057207223,-0.01665697835042872,-0.02385798935030226,0.04734386712917178,0.11265249449488501,0.11265247720240248,0.0035105501341202742,-0.0007270552324543619,0.004672787419150131,-0.0001461061684989218,0.030883862449858426,0.03090345618693808],[0.06108841304895129,-0.08780176636852598,-0.05109913404776511,0.006583838106259534,-0.03644391057207223,1.0,0.6608253517262859,0.2811235830634358,-0.08777653304271998,-0.0009926835790156025,-0.000994637174067432,-0.003953360677700745,0.003814991730231251,-0.010289666414164872,0.008855717094070795,0.26353906133439947,0.2628344725581651],[0.056877144753540845,-0.04738284124590789,0.15657737722072426,0.0036243913530791282,-0.01665697835042872,0.6608253517262859,1.0,0.34459628739730935,-0.21076600444307209,0.00044109547161671337,0.0004401185549558116,-0.014406824448108747,0.0026694112131842936,-0.0042829580020747335,0.007795325179764175,0.44153712738048423,0.4317081706290227],[0.07745826766820836,0.13631314420683086,0.15464423142385264,-0.0008532765310590026,-0.02385798935030226,0.2811235830634358,0.34459628739730935,1.0,0.19225902819372861,-6.597678394665833e-05,-6.84388243965729e-05,0.056382797574801094,0.008326030497612347,0.001166661594890814,0.011038649999093826,-0.04698863843024976,-0.045250145984237544],[0.04482542263247438,0.229888855811973,0.16644880297523704,-0.010085439760927396,0.04734386712917178,-0.08777653304271998,-0.21076600444307209,0.19225902819372861,1.0,-0.0023057046831720706,-0.0023066399027746446,0.004302833668230512,-0.006976191226244681,0.04241988704790782,0.004022834857532494,0.10841399825791712,0.1312454790610799],[-0.0005794616626366506,-0.004341102572107487,-0.00220624597286361,-0.00014455155952262239,0.11265249449488501,-0.0009926835790156025,0.00044109547161671337,-6.597678394665833e-05,-0.0023057046831720706,1.0,0.9999999999452343,0.000473579746125237,0.0029358251602975513,0.0013680970112180603,0.0012881541621240493,0.007295212889761761,0.007388072670444775],[-0.000579678177309438,-0.004342455906809418,-0.0022073273007140815,-0.00014455089848136167,0.11265247720240248,-0.000994637174067432,0.0004401185549558116,-6.84388243965729e-05,-0.0023066399027746446,0.9999999999452343,1.0,0.00047390415163654434,0.002935814297401924,0.001368088410258093,0.0012881229908613906,0.007295210977534888,0.007388070929788885],[0.0005525909470351873,0.0022380829313394025,0.0059106319264608555,-0.0019596335104083134,0.0035105501341202742,-0.003953360677700745,-0.014406824448108747,0.056382797574801094,0.004302833668230512,0.000473579746125237,0.00047390415163654434,1.0,0.0035041452457267937,0.08612355222905822,0.0036760336855944935,-0.006444815737018508,-0.00467251916542382],[-0.004290298291431168,-0.009281162080332294,-0.009718439613191627,-0.0016975205465821726,-0.0007270552324543619,0.003814991730231251,0.0026694112131842936,0.008326030497612347,-0.006976191226244681,0.0029358251602975513,0.002935814297401924,0.0035041452457267937,1.0,0.012216540679947954,0.08368485814333447,-0.010115041700992186,-0.01027249897971088],[0.007234811084420141,0.009835751478399025,0.020671009305405975,-0.0007423879646070007,0.004672787419150131,-0.010289666414164872,-0.0042829580020747335,0.001166661594890814,0.04241988704790782,0.0013680970112180603,0.001368088410258093,0.08612355222905822,0.012216540679947954,1.0,0.0814685360240773,0.01733225238090628,0.017324807645524864],[0.003874332499533461,-0.002610137434533744,-0.003902173202611039,0.002611546996196664,-0.0001461061684989218,0.008855717094070795,0.007795325179764175,0.011038649999093826,0.004022834857532494,0.0012881541621240493,0.0012881229908613906,0.0036760336855944935,0.08368485814333447,0.0814685360240773,1.0,-0.0013643808282725023,-0.001360458481534391],[0.06776502063641807,0.5677268366255596,0.6242223972247074,0.02210097447404471,0.030883862449858426,0.26353906133439947,0.44153712738048423,-0.04698863843024976,0.10841399825791712,0.007295212889761761,0.007295210977534888,-0.006444815737018508,-0.010115041700992186,0.01733225238090628,-0.0013643808282725023,1.0,0.9862203956462817],[0.07029009915905975,0.5918110241926873,0.6408108868754868,0.022186910418490982,0.03090345618693808,0.2628344725581651,0.4317081706290227,-0.045250145984237544,0.1312454790610799,0.007388072670444775,0.007388070929788885,-0.00467251916542382,-0.01027249897971088,0.017324807645524864,-0.001360458481534391,0.9862203956462817,1.0]],\"type\":\"heatmap\",\"xaxis\":\"x\",\"yaxis\":\"y\",\"hovertemplate\":\"x: %{x}\\u003cbr\\u003ey: %{y}\\u003cbr\\u003ecolor: %{z}\\u003cextra\\u003e\\u003c\\u002fextra\\u003e\"}],                        {\"template\":{\"data\":{\"histogram2dcontour\":[{\"type\":\"histogram2dcontour\",\"colorbar\":{\"outlinewidth\":0,\"ticks\":\"\"},\"colorscale\":[[0.0,\"#0d0887\"],[0.1111111111111111,\"#46039f\"],[0.2222222222222222,\"#7201a8\"],[0.3333333333333333,\"#9c179e\"],[0.4444444444444444,\"#bd3786\"],[0.5555555555555556,\"#d8576b\"],[0.6666666666666666,\"#ed7953\"],[0.7777777777777778,\"#fb9f3a\"],[0.8888888888888888,\"#fdca26\"],[1.0,\"#f0f921\"]]}],\"choropleth\":[{\"type\":\"choropleth\",\"colorbar\":{\"outlinewidth\":0,\"ticks\":\"\"}}],\"histogram2d\":[{\"type\":\"histogram2d\",\"colorbar\":{\"outlinewidth\":0,\"ticks\":\"\"},\"colorscale\":[[0.0,\"#0d0887\"],[0.1111111111111111,\"#46039f\"],[0.2222222222222222,\"#7201a8\"],[0.3333333333333333,\"#9c179e\"],[0.4444444444444444,\"#bd3786\"],[0.5555555555555556,\"#d8576b\"],[0.6666666666666666,\"#ed7953\"],[0.7777777777777778,\"#fb9f3a\"],[0.8888888888888888,\"#fdca26\"],[1.0,\"#f0f921\"]]}],\"heatmap\":[{\"type\":\"heatmap\",\"colorbar\":{\"outlinewidth\":0,\"ticks\":\"\"},\"colorscale\":[[0.0,\"#0d0887\"],[0.1111111111111111,\"#46039f\"],[0.2222222222222222,\"#7201a8\"],[0.3333333333333333,\"#9c179e\"],[0.4444444444444444,\"#bd3786\"],[0.5555555555555556,\"#d8576b\"],[0.6666666666666666,\"#ed7953\"],[0.7777777777777778,\"#fb9f3a\"],[0.8888888888888888,\"#fdca26\"],[1.0,\"#f0f921\"]]}],\"heatmapgl\":[{\"type\":\"heatmapgl\",\"colorbar\":{\"outlinewidth\":0,\"ticks\":\"\"},\"colorscale\":[[0.0,\"#0d0887\"],[0.1111111111111111,\"#46039f\"],[0.2222222222222222,\"#7201a8\"],[0.3333333333333333,\"#9c179e\"],[0.4444444444444444,\"#bd3786\"],[0.5555555555555556,\"#d8576b\"],[0.6666666666666666,\"#ed7953\"],[0.7777777777777778,\"#fb9f3a\"],[0.8888888888888888,\"#fdca26\"],[1.0,\"#f0f921\"]]}],\"contourcarpet\":[{\"type\":\"contourcarpet\",\"colorbar\":{\"outlinewidth\":0,\"ticks\":\"\"}}],\"contour\":[{\"type\":\"contour\",\"colorbar\":{\"outlinewidth\":0,\"ticks\":\"\"},\"colorscale\":[[0.0,\"#0d0887\"],[0.1111111111111111,\"#46039f\"],[0.2222222222222222,\"#7201a8\"],[0.3333333333333333,\"#9c179e\"],[0.4444444444444444,\"#bd3786\"],[0.5555555555555556,\"#d8576b\"],[0.6666666666666666,\"#ed7953\"],[0.7777777777777778,\"#fb9f3a\"],[0.8888888888888888,\"#fdca26\"],[1.0,\"#f0f921\"]]}],\"surface\":[{\"type\":\"surface\",\"colorbar\":{\"outlinewidth\":0,\"ticks\":\"\"},\"colorscale\":[[0.0,\"#0d0887\"],[0.1111111111111111,\"#46039f\"],[0.2222222222222222,\"#7201a8\"],[0.3333333333333333,\"#9c179e\"],[0.4444444444444444,\"#bd3786\"],[0.5555555555555556,\"#d8576b\"],[0.6666666666666666,\"#ed7953\"],[0.7777777777777778,\"#fb9f3a\"],[0.8888888888888888,\"#fdca26\"],[1.0,\"#f0f921\"]]}],\"mesh3d\":[{\"type\":\"mesh3d\",\"colorbar\":{\"outlinewidth\":0,\"ticks\":\"\"}}],\"scatter\":[{\"fillpattern\":{\"fillmode\":\"overlay\",\"size\":10,\"solidity\":0.2},\"type\":\"scatter\"}],\"parcoords\":[{\"type\":\"parcoords\",\"line\":{\"colorbar\":{\"outlinewidth\":0,\"ticks\":\"\"}}}],\"scatterpolargl\":[{\"type\":\"scatterpolargl\",\"marker\":{\"colorbar\":{\"outlinewidth\":0,\"ticks\":\"\"}}}],\"bar\":[{\"error_x\":{\"color\":\"#2a3f5f\"},\"error_y\":{\"color\":\"#2a3f5f\"},\"marker\":{\"line\":{\"color\":\"#E5ECF6\",\"width\":0.5},\"pattern\":{\"fillmode\":\"overlay\",\"size\":10,\"solidity\":0.2}},\"type\":\"bar\"}],\"scattergeo\":[{\"type\":\"scattergeo\",\"marker\":{\"colorbar\":{\"outlinewidth\":0,\"ticks\":\"\"}}}],\"scatterpolar\":[{\"type\":\"scatterpolar\",\"marker\":{\"colorbar\":{\"outlinewidth\":0,\"ticks\":\"\"}}}],\"histogram\":[{\"marker\":{\"pattern\":{\"fillmode\":\"overlay\",\"size\":10,\"solidity\":0.2}},\"type\":\"histogram\"}],\"scattergl\":[{\"type\":\"scattergl\",\"marker\":{\"colorbar\":{\"outlinewidth\":0,\"ticks\":\"\"}}}],\"scatter3d\":[{\"type\":\"scatter3d\",\"line\":{\"colorbar\":{\"outlinewidth\":0,\"ticks\":\"\"}},\"marker\":{\"colorbar\":{\"outlinewidth\":0,\"ticks\":\"\"}}}],\"scattermapbox\":[{\"type\":\"scattermapbox\",\"marker\":{\"colorbar\":{\"outlinewidth\":0,\"ticks\":\"\"}}}],\"scatterternary\":[{\"type\":\"scatterternary\",\"marker\":{\"colorbar\":{\"outlinewidth\":0,\"ticks\":\"\"}}}],\"scattercarpet\":[{\"type\":\"scattercarpet\",\"marker\":{\"colorbar\":{\"outlinewidth\":0,\"ticks\":\"\"}}}],\"carpet\":[{\"aaxis\":{\"endlinecolor\":\"#2a3f5f\",\"gridcolor\":\"white\",\"linecolor\":\"white\",\"minorgridcolor\":\"white\",\"startlinecolor\":\"#2a3f5f\"},\"baxis\":{\"endlinecolor\":\"#2a3f5f\",\"gridcolor\":\"white\",\"linecolor\":\"white\",\"minorgridcolor\":\"white\",\"startlinecolor\":\"#2a3f5f\"},\"type\":\"carpet\"}],\"table\":[{\"cells\":{\"fill\":{\"color\":\"#EBF0F8\"},\"line\":{\"color\":\"white\"}},\"header\":{\"fill\":{\"color\":\"#C8D4E3\"},\"line\":{\"color\":\"white\"}},\"type\":\"table\"}],\"barpolar\":[{\"marker\":{\"line\":{\"color\":\"#E5ECF6\",\"width\":0.5},\"pattern\":{\"fillmode\":\"overlay\",\"size\":10,\"solidity\":0.2}},\"type\":\"barpolar\"}],\"pie\":[{\"automargin\":true,\"type\":\"pie\"}]},\"layout\":{\"autotypenumbers\":\"strict\",\"colorway\":[\"#636efa\",\"#EF553B\",\"#00cc96\",\"#ab63fa\",\"#FFA15A\",\"#19d3f3\",\"#FF6692\",\"#B6E880\",\"#FF97FF\",\"#FECB52\"],\"font\":{\"color\":\"#2a3f5f\"},\"hovermode\":\"closest\",\"hoverlabel\":{\"align\":\"left\"},\"paper_bgcolor\":\"white\",\"plot_bgcolor\":\"#E5ECF6\",\"polar\":{\"bgcolor\":\"#E5ECF6\",\"angularaxis\":{\"gridcolor\":\"white\",\"linecolor\":\"white\",\"ticks\":\"\"},\"radialaxis\":{\"gridcolor\":\"white\",\"linecolor\":\"white\",\"ticks\":\"\"}},\"ternary\":{\"bgcolor\":\"#E5ECF6\",\"aaxis\":{\"gridcolor\":\"white\",\"linecolor\":\"white\",\"ticks\":\"\"},\"baxis\":{\"gridcolor\":\"white\",\"linecolor\":\"white\",\"ticks\":\"\"},\"caxis\":{\"gridcolor\":\"white\",\"linecolor\":\"white\",\"ticks\":\"\"}},\"coloraxis\":{\"colorbar\":{\"outlinewidth\":0,\"ticks\":\"\"}},\"colorscale\":{\"sequential\":[[0.0,\"#0d0887\"],[0.1111111111111111,\"#46039f\"],[0.2222222222222222,\"#7201a8\"],[0.3333333333333333,\"#9c179e\"],[0.4444444444444444,\"#bd3786\"],[0.5555555555555556,\"#d8576b\"],[0.6666666666666666,\"#ed7953\"],[0.7777777777777778,\"#fb9f3a\"],[0.8888888888888888,\"#fdca26\"],[1.0,\"#f0f921\"]],\"sequentialminus\":[[0.0,\"#0d0887\"],[0.1111111111111111,\"#46039f\"],[0.2222222222222222,\"#7201a8\"],[0.3333333333333333,\"#9c179e\"],[0.4444444444444444,\"#bd3786\"],[0.5555555555555556,\"#d8576b\"],[0.6666666666666666,\"#ed7953\"],[0.7777777777777778,\"#fb9f3a\"],[0.8888888888888888,\"#fdca26\"],[1.0,\"#f0f921\"]],\"diverging\":[[0,\"#8e0152\"],[0.1,\"#c51b7d\"],[0.2,\"#de77ae\"],[0.3,\"#f1b6da\"],[0.4,\"#fde0ef\"],[0.5,\"#f7f7f7\"],[0.6,\"#e6f5d0\"],[0.7,\"#b8e186\"],[0.8,\"#7fbc41\"],[0.9,\"#4d9221\"],[1,\"#276419\"]]},\"xaxis\":{\"gridcolor\":\"white\",\"linecolor\":\"white\",\"ticks\":\"\",\"title\":{\"standoff\":15},\"zerolinecolor\":\"white\",\"automargin\":true,\"zerolinewidth\":2},\"yaxis\":{\"gridcolor\":\"white\",\"linecolor\":\"white\",\"ticks\":\"\",\"title\":{\"standoff\":15},\"zerolinecolor\":\"white\",\"automargin\":true,\"zerolinewidth\":2},\"scene\":{\"xaxis\":{\"backgroundcolor\":\"#E5ECF6\",\"gridcolor\":\"white\",\"linecolor\":\"white\",\"showbackground\":true,\"ticks\":\"\",\"zerolinecolor\":\"white\",\"gridwidth\":2},\"yaxis\":{\"backgroundcolor\":\"#E5ECF6\",\"gridcolor\":\"white\",\"linecolor\":\"white\",\"showbackground\":true,\"ticks\":\"\",\"zerolinecolor\":\"white\",\"gridwidth\":2},\"zaxis\":{\"backgroundcolor\":\"#E5ECF6\",\"gridcolor\":\"white\",\"linecolor\":\"white\",\"showbackground\":true,\"ticks\":\"\",\"zerolinecolor\":\"white\",\"gridwidth\":2}},\"shapedefaults\":{\"line\":{\"color\":\"#2a3f5f\"}},\"annotationdefaults\":{\"arrowcolor\":\"#2a3f5f\",\"arrowhead\":0,\"arrowwidth\":1},\"geo\":{\"bgcolor\":\"white\",\"landcolor\":\"#E5ECF6\",\"subunitcolor\":\"white\",\"showland\":true,\"showlakes\":true,\"lakecolor\":\"white\"},\"title\":{\"x\":0.05},\"mapbox\":{\"style\":\"light\"}}},\"xaxis\":{\"anchor\":\"y\",\"domain\":[0.0,1.0],\"scaleanchor\":\"y\",\"constrain\":\"domain\"},\"yaxis\":{\"anchor\":\"x\",\"domain\":[0.0,1.0],\"autorange\":\"reversed\",\"constrain\":\"domain\"},\"coloraxis\":{\"colorscale\":[[0.0,\"#0d0887\"],[0.1111111111111111,\"#46039f\"],[0.2222222222222222,\"#7201a8\"],[0.3333333333333333,\"#9c179e\"],[0.4444444444444444,\"#bd3786\"],[0.5555555555555556,\"#d8576b\"],[0.6666666666666666,\"#ed7953\"],[0.7777777777777778,\"#fb9f3a\"],[0.8888888888888888,\"#fdca26\"],[1.0,\"#f0f921\"]]},\"margin\":{\"t\":60}},                        {\"responsive\": true}                    ).then(function(){\n",
       "                            \n",
       "var gd = document.getElementById('47e7028b-baf9-4fb0-9cde-2152db30b0f9');\n",
       "var x = new MutationObserver(function (mutations, observer) {{\n",
       "        var display = window.getComputedStyle(gd).display;\n",
       "        if (!display || display === 'none') {{\n",
       "            console.log([gd, 'removed!']);\n",
       "            Plotly.purge(gd);\n",
       "            observer.disconnect();\n",
       "        }}\n",
       "}});\n",
       "\n",
       "// Listen for the removal of the full notebook cells\n",
       "var notebookContainer = gd.closest('#notebook-container');\n",
       "if (notebookContainer) {{\n",
       "    x.observe(notebookContainer, {childList: true});\n",
       "}}\n",
       "\n",
       "// Listen for the clearing of the current output cell\n",
       "var outputEl = gd.closest('.output');\n",
       "if (outputEl) {{\n",
       "    x.observe(outputEl, {childList: true});\n",
       "}}\n",
       "\n",
       "                        })                };                });            </script>        </div>"
      ]
     },
     "metadata": {},
     "output_type": "display_data"
    }
   ],
   "source": [
    "mask = (df.dtypes == 'float64') & (df.columns.str.contains('100g'))\n",
    "corr_matrix = df.loc[:, mask].corr()\n",
    "heatmap = px.imshow(corr_matrix)\n",
    "heatmap.show()"
   ]
  },
  {
   "cell_type": "code",
   "execution_count": 109,
   "id": "a5c928b7-0a22-4efc-8087-e580cc67b5ac",
   "metadata": {
    "scrolled": true
   },
   "outputs": [
    {
     "name": "stdout",
     "output_type": "stream",
     "text": [
      "723\n",
      "21153\n"
     ]
    }
   ],
   "source": [
    "print(len(df['countries_fr'].unique()))\n",
    "print(len(df['categories_fr'].unique()))"
   ]
  },
  {
   "cell_type": "code",
   "execution_count": 110,
   "id": "81168b2f-062b-4398-93a0-5c2cc32ee954",
   "metadata": {
    "scrolled": true
   },
   "outputs": [
    {
     "data": {
      "text/html": [
       "<div>\n",
       "<style scoped>\n",
       "    .dataframe tbody tr th:only-of-type {\n",
       "        vertical-align: middle;\n",
       "    }\n",
       "\n",
       "    .dataframe tbody tr th {\n",
       "        vertical-align: top;\n",
       "    }\n",
       "\n",
       "    .dataframe thead th {\n",
       "        text-align: right;\n",
       "    }\n",
       "</style>\n",
       "<table border=\"1\" class=\"dataframe\">\n",
       "  <thead>\n",
       "    <tr style=\"text-align: right;\">\n",
       "      <th></th>\n",
       "      <th>product_name</th>\n",
       "      <th>quantity</th>\n",
       "      <th>packaging</th>\n",
       "      <th>brands</th>\n",
       "      <th>categories</th>\n",
       "      <th>categories_fr</th>\n",
       "      <th>countries</th>\n",
       "      <th>countries_fr</th>\n",
       "      <th>ingredients_text</th>\n",
       "      <th>serving_size</th>\n",
       "      <th>...</th>\n",
       "      <th>fiber_100g</th>\n",
       "      <th>proteins_100g</th>\n",
       "      <th>salt_100g</th>\n",
       "      <th>sodium_100g</th>\n",
       "      <th>vitamin-a_100g</th>\n",
       "      <th>vitamin-c_100g</th>\n",
       "      <th>calcium_100g</th>\n",
       "      <th>iron_100g</th>\n",
       "      <th>nutrition-score-fr_100g</th>\n",
       "      <th>nutrition-score-uk_100g</th>\n",
       "    </tr>\n",
       "  </thead>\n",
       "  <tbody>\n",
       "    <tr>\n",
       "      <th>0</th>\n",
       "      <td>Farine de blé noir</td>\n",
       "      <td>1kg</td>\n",
       "      <td>NaN</td>\n",
       "      <td>Ferme t'y R'nao</td>\n",
       "      <td>NaN</td>\n",
       "      <td>NaN</td>\n",
       "      <td>en:FR</td>\n",
       "      <td>France</td>\n",
       "      <td>NaN</td>\n",
       "      <td>NaN</td>\n",
       "      <td>...</td>\n",
       "      <td>NaN</td>\n",
       "      <td>NaN</td>\n",
       "      <td>NaN</td>\n",
       "      <td>NaN</td>\n",
       "      <td>NaN</td>\n",
       "      <td>NaN</td>\n",
       "      <td>NaN</td>\n",
       "      <td>NaN</td>\n",
       "      <td>NaN</td>\n",
       "      <td>NaN</td>\n",
       "    </tr>\n",
       "    <tr>\n",
       "      <th>1</th>\n",
       "      <td>Banana Chips Sweetened (Whole)</td>\n",
       "      <td>NaN</td>\n",
       "      <td>NaN</td>\n",
       "      <td>NaN</td>\n",
       "      <td>NaN</td>\n",
       "      <td>NaN</td>\n",
       "      <td>US</td>\n",
       "      <td>États-Unis</td>\n",
       "      <td>Bananas, vegetable oil (coconut oil, corn oil ...</td>\n",
       "      <td>28 g (1 ONZ)</td>\n",
       "      <td>...</td>\n",
       "      <td>3.6</td>\n",
       "      <td>3.57</td>\n",
       "      <td>0.00000</td>\n",
       "      <td>0.000</td>\n",
       "      <td>0.0</td>\n",
       "      <td>0.0214</td>\n",
       "      <td>0.000</td>\n",
       "      <td>0.00129</td>\n",
       "      <td>14.0</td>\n",
       "      <td>14.0</td>\n",
       "    </tr>\n",
       "    <tr>\n",
       "      <th>2</th>\n",
       "      <td>Peanuts</td>\n",
       "      <td>NaN</td>\n",
       "      <td>NaN</td>\n",
       "      <td>Torn &amp; Glasser</td>\n",
       "      <td>NaN</td>\n",
       "      <td>NaN</td>\n",
       "      <td>US</td>\n",
       "      <td>États-Unis</td>\n",
       "      <td>Peanuts, wheat flour, sugar, rice flour, tapio...</td>\n",
       "      <td>28 g (0.25 cup)</td>\n",
       "      <td>...</td>\n",
       "      <td>7.1</td>\n",
       "      <td>17.86</td>\n",
       "      <td>0.63500</td>\n",
       "      <td>0.250</td>\n",
       "      <td>0.0</td>\n",
       "      <td>0.0000</td>\n",
       "      <td>0.071</td>\n",
       "      <td>0.00129</td>\n",
       "      <td>0.0</td>\n",
       "      <td>0.0</td>\n",
       "    </tr>\n",
       "    <tr>\n",
       "      <th>3</th>\n",
       "      <td>Organic Salted Nut Mix</td>\n",
       "      <td>NaN</td>\n",
       "      <td>NaN</td>\n",
       "      <td>Grizzlies</td>\n",
       "      <td>NaN</td>\n",
       "      <td>NaN</td>\n",
       "      <td>US</td>\n",
       "      <td>États-Unis</td>\n",
       "      <td>Organic hazelnuts, organic cashews, organic wa...</td>\n",
       "      <td>28 g (0.25 cup)</td>\n",
       "      <td>...</td>\n",
       "      <td>7.1</td>\n",
       "      <td>17.86</td>\n",
       "      <td>1.22428</td>\n",
       "      <td>0.482</td>\n",
       "      <td>NaN</td>\n",
       "      <td>NaN</td>\n",
       "      <td>0.143</td>\n",
       "      <td>0.00514</td>\n",
       "      <td>12.0</td>\n",
       "      <td>12.0</td>\n",
       "    </tr>\n",
       "    <tr>\n",
       "      <th>4</th>\n",
       "      <td>Organic Polenta</td>\n",
       "      <td>NaN</td>\n",
       "      <td>NaN</td>\n",
       "      <td>Bob's Red Mill</td>\n",
       "      <td>NaN</td>\n",
       "      <td>NaN</td>\n",
       "      <td>US</td>\n",
       "      <td>États-Unis</td>\n",
       "      <td>Organic polenta</td>\n",
       "      <td>35 g (0.25 cup)</td>\n",
       "      <td>...</td>\n",
       "      <td>5.7</td>\n",
       "      <td>8.57</td>\n",
       "      <td>NaN</td>\n",
       "      <td>NaN</td>\n",
       "      <td>NaN</td>\n",
       "      <td>NaN</td>\n",
       "      <td>NaN</td>\n",
       "      <td>NaN</td>\n",
       "      <td>NaN</td>\n",
       "      <td>NaN</td>\n",
       "    </tr>\n",
       "  </tbody>\n",
       "</table>\n",
       "<p>5 rows × 39 columns</p>\n",
       "</div>"
      ],
      "text/plain": [
       "                     product_name quantity packaging           brands  \\\n",
       "0              Farine de blé noir      1kg       NaN  Ferme t'y R'nao   \n",
       "1  Banana Chips Sweetened (Whole)      NaN       NaN              NaN   \n",
       "2                         Peanuts      NaN       NaN   Torn & Glasser   \n",
       "3          Organic Salted Nut Mix      NaN       NaN        Grizzlies   \n",
       "4                 Organic Polenta      NaN       NaN   Bob's Red Mill   \n",
       "\n",
       "  categories categories_fr countries countries_fr  \\\n",
       "0        NaN           NaN     en:FR       France   \n",
       "1        NaN           NaN        US   États-Unis   \n",
       "2        NaN           NaN        US   États-Unis   \n",
       "3        NaN           NaN        US   États-Unis   \n",
       "4        NaN           NaN        US   États-Unis   \n",
       "\n",
       "                                    ingredients_text     serving_size  ...  \\\n",
       "0                                                NaN              NaN  ...   \n",
       "1  Bananas, vegetable oil (coconut oil, corn oil ...     28 g (1 ONZ)  ...   \n",
       "2  Peanuts, wheat flour, sugar, rice flour, tapio...  28 g (0.25 cup)  ...   \n",
       "3  Organic hazelnuts, organic cashews, organic wa...  28 g (0.25 cup)  ...   \n",
       "4                                    Organic polenta  35 g (0.25 cup)  ...   \n",
       "\n",
       "   fiber_100g proteins_100g salt_100g  sodium_100g  vitamin-a_100g  \\\n",
       "0         NaN           NaN       NaN          NaN             NaN   \n",
       "1         3.6          3.57   0.00000        0.000             0.0   \n",
       "2         7.1         17.86   0.63500        0.250             0.0   \n",
       "3         7.1         17.86   1.22428        0.482             NaN   \n",
       "4         5.7          8.57       NaN          NaN             NaN   \n",
       "\n",
       "  vitamin-c_100g calcium_100g iron_100g nutrition-score-fr_100g  \\\n",
       "0            NaN          NaN       NaN                     NaN   \n",
       "1         0.0214        0.000   0.00129                    14.0   \n",
       "2         0.0000        0.071   0.00129                     0.0   \n",
       "3            NaN        0.143   0.00514                    12.0   \n",
       "4            NaN          NaN       NaN                     NaN   \n",
       "\n",
       "  nutrition-score-uk_100g  \n",
       "0                     NaN  \n",
       "1                    14.0  \n",
       "2                     0.0  \n",
       "3                    12.0  \n",
       "4                     NaN  \n",
       "\n",
       "[5 rows x 39 columns]"
      ]
     },
     "execution_count": 110,
     "metadata": {},
     "output_type": "execute_result"
    }
   ],
   "source": [
    "df.head()"
   ]
  },
  {
   "cell_type": "code",
   "execution_count": 111,
   "id": "9a0dbecf-2c1c-453b-b6d1-3ea2a80f8bf7",
   "metadata": {
    "scrolled": true
   },
   "outputs": [
    {
     "data": {
      "text/plain": [
       "0                        NaN\n",
       "1                        NaN\n",
       "2                        NaN\n",
       "3                        NaN\n",
       "4                        NaN\n",
       "                 ...        \n",
       "320767                   NaN\n",
       "320768                   NaN\n",
       "320769    en:chips-and-fries\n",
       "320770                   NaN\n",
       "320771                   NaN\n",
       "Name: main_category, Length: 320772, dtype: object"
      ]
     },
     "execution_count": 111,
     "metadata": {},
     "output_type": "execute_result"
    }
   ],
   "source": [
    "df['main_category']"
   ]
  },
  {
   "cell_type": "code",
   "execution_count": 112,
   "id": "8e7379b2-069e-417c-8dd1-cfd0e02ed96e",
   "metadata": {},
   "outputs": [
    {
     "data": {
      "text/plain": [
       "Index(['product_name', 'quantity', 'packaging', 'brands', 'categories',\n",
       "       'categories_fr', 'countries', 'countries_fr', 'ingredients_text',\n",
       "       'serving_size', 'additives_n', 'additives', 'additives_fr',\n",
       "       'ingredients_from_palm_oil_n',\n",
       "       'ingredients_that_may_be_from_palm_oil_n', 'nutrition_grade_fr',\n",
       "       'pnns_groups_1', 'pnns_groups_2', 'states', 'states_fr',\n",
       "       'main_category', 'main_category_fr', 'energy_100g', 'fat_100g',\n",
       "       'saturated-fat_100g', 'trans-fat_100g', 'cholesterol_100g',\n",
       "       'carbohydrates_100g', 'sugars_100g', 'fiber_100g', 'proteins_100g',\n",
       "       'salt_100g', 'sodium_100g', 'vitamin-a_100g', 'vitamin-c_100g',\n",
       "       'calcium_100g', 'iron_100g', 'nutrition-score-fr_100g',\n",
       "       'nutrition-score-uk_100g'],\n",
       "      dtype='object')"
      ]
     },
     "execution_count": 112,
     "metadata": {},
     "output_type": "execute_result"
    }
   ],
   "source": [
    "df.columns"
   ]
  },
  {
   "cell_type": "code",
   "execution_count": 113,
   "id": "be4def95-d3b3-49ac-9f61-d4b39274383c",
   "metadata": {
    "scrolled": true
   },
   "outputs": [
    {
     "data": {
      "text/html": [
       "<div>\n",
       "<style scoped>\n",
       "    .dataframe tbody tr th:only-of-type {\n",
       "        vertical-align: middle;\n",
       "    }\n",
       "\n",
       "    .dataframe tbody tr th {\n",
       "        vertical-align: top;\n",
       "    }\n",
       "\n",
       "    .dataframe thead th {\n",
       "        text-align: right;\n",
       "    }\n",
       "</style>\n",
       "<table border=\"1\" class=\"dataframe\">\n",
       "  <thead>\n",
       "    <tr style=\"text-align: right;\">\n",
       "      <th></th>\n",
       "      <th>product_name</th>\n",
       "      <th>brands</th>\n",
       "      <th>categories_fr</th>\n",
       "      <th>main_category_fr</th>\n",
       "      <th>countries_fr</th>\n",
       "      <th>energy_100g</th>\n",
       "      <th>fat_100g</th>\n",
       "      <th>saturated-fat_100g</th>\n",
       "      <th>sugars_100g</th>\n",
       "      <th>fiber_100g</th>\n",
       "      <th>proteins_100g</th>\n",
       "      <th>salt_100g</th>\n",
       "      <th>sodium_100g</th>\n",
       "      <th>nutrition-score-fr_100g</th>\n",
       "    </tr>\n",
       "  </thead>\n",
       "  <tbody>\n",
       "    <tr>\n",
       "      <th>0</th>\n",
       "      <td>Farine de blé noir</td>\n",
       "      <td>Ferme t'y R'nao</td>\n",
       "      <td>NaN</td>\n",
       "      <td>NaN</td>\n",
       "      <td>France</td>\n",
       "      <td>NaN</td>\n",
       "      <td>NaN</td>\n",
       "      <td>NaN</td>\n",
       "      <td>NaN</td>\n",
       "      <td>NaN</td>\n",
       "      <td>NaN</td>\n",
       "      <td>NaN</td>\n",
       "      <td>NaN</td>\n",
       "      <td>NaN</td>\n",
       "    </tr>\n",
       "    <tr>\n",
       "      <th>1</th>\n",
       "      <td>Banana Chips Sweetened (Whole)</td>\n",
       "      <td>NaN</td>\n",
       "      <td>NaN</td>\n",
       "      <td>NaN</td>\n",
       "      <td>États-Unis</td>\n",
       "      <td>2243.0</td>\n",
       "      <td>28.57</td>\n",
       "      <td>28.57</td>\n",
       "      <td>14.29</td>\n",
       "      <td>3.6</td>\n",
       "      <td>3.57</td>\n",
       "      <td>0.00000</td>\n",
       "      <td>0.000</td>\n",
       "      <td>14.0</td>\n",
       "    </tr>\n",
       "    <tr>\n",
       "      <th>2</th>\n",
       "      <td>Peanuts</td>\n",
       "      <td>Torn &amp; Glasser</td>\n",
       "      <td>NaN</td>\n",
       "      <td>NaN</td>\n",
       "      <td>États-Unis</td>\n",
       "      <td>1941.0</td>\n",
       "      <td>17.86</td>\n",
       "      <td>0.00</td>\n",
       "      <td>17.86</td>\n",
       "      <td>7.1</td>\n",
       "      <td>17.86</td>\n",
       "      <td>0.63500</td>\n",
       "      <td>0.250</td>\n",
       "      <td>0.0</td>\n",
       "    </tr>\n",
       "    <tr>\n",
       "      <th>3</th>\n",
       "      <td>Organic Salted Nut Mix</td>\n",
       "      <td>Grizzlies</td>\n",
       "      <td>NaN</td>\n",
       "      <td>NaN</td>\n",
       "      <td>États-Unis</td>\n",
       "      <td>2540.0</td>\n",
       "      <td>57.14</td>\n",
       "      <td>5.36</td>\n",
       "      <td>3.57</td>\n",
       "      <td>7.1</td>\n",
       "      <td>17.86</td>\n",
       "      <td>1.22428</td>\n",
       "      <td>0.482</td>\n",
       "      <td>12.0</td>\n",
       "    </tr>\n",
       "    <tr>\n",
       "      <th>4</th>\n",
       "      <td>Organic Polenta</td>\n",
       "      <td>Bob's Red Mill</td>\n",
       "      <td>NaN</td>\n",
       "      <td>NaN</td>\n",
       "      <td>États-Unis</td>\n",
       "      <td>1552.0</td>\n",
       "      <td>1.43</td>\n",
       "      <td>NaN</td>\n",
       "      <td>NaN</td>\n",
       "      <td>5.7</td>\n",
       "      <td>8.57</td>\n",
       "      <td>NaN</td>\n",
       "      <td>NaN</td>\n",
       "      <td>NaN</td>\n",
       "    </tr>\n",
       "  </tbody>\n",
       "</table>\n",
       "</div>"
      ],
      "text/plain": [
       "                     product_name           brands categories_fr  \\\n",
       "0              Farine de blé noir  Ferme t'y R'nao           NaN   \n",
       "1  Banana Chips Sweetened (Whole)              NaN           NaN   \n",
       "2                         Peanuts   Torn & Glasser           NaN   \n",
       "3          Organic Salted Nut Mix        Grizzlies           NaN   \n",
       "4                 Organic Polenta   Bob's Red Mill           NaN   \n",
       "\n",
       "  main_category_fr countries_fr  energy_100g  fat_100g  saturated-fat_100g  \\\n",
       "0              NaN       France          NaN       NaN                 NaN   \n",
       "1              NaN   États-Unis       2243.0     28.57               28.57   \n",
       "2              NaN   États-Unis       1941.0     17.86                0.00   \n",
       "3              NaN   États-Unis       2540.0     57.14                5.36   \n",
       "4              NaN   États-Unis       1552.0      1.43                 NaN   \n",
       "\n",
       "   sugars_100g  fiber_100g  proteins_100g  salt_100g  sodium_100g  \\\n",
       "0          NaN         NaN            NaN        NaN          NaN   \n",
       "1        14.29         3.6           3.57    0.00000        0.000   \n",
       "2        17.86         7.1          17.86    0.63500        0.250   \n",
       "3         3.57         7.1          17.86    1.22428        0.482   \n",
       "4          NaN         5.7           8.57        NaN          NaN   \n",
       "\n",
       "   nutrition-score-fr_100g  \n",
       "0                      NaN  \n",
       "1                     14.0  \n",
       "2                      0.0  \n",
       "3                     12.0  \n",
       "4                      NaN  "
      ]
     },
     "execution_count": 113,
     "metadata": {},
     "output_type": "execute_result"
    }
   ],
   "source": [
    "relevant_variables = ['product_name',\n",
    "                      'brands',\n",
    "                      'categories_fr',\n",
    "                      'main_category_fr',\n",
    "                      'countries_fr',\n",
    "                      'energy_100g',\n",
    "                      'fat_100g',\n",
    "                      'saturated-fat_100g',\n",
    "                      'sugars_100g',\n",
    "                      'fiber_100g',\n",
    "                      'proteins_100g',\n",
    "                      'salt_100g',\n",
    "                      'sodium_100g',\n",
    "                      'nutrition-score-fr_100g'\n",
    "                     ]\n",
    "\n",
    "df = df[relevant_variables]\n",
    "df.head()"
   ]
  },
  {
   "cell_type": "code",
   "execution_count": 114,
   "id": "109fc37a-49b7-4584-a2c3-2ec5446f670a",
   "metadata": {},
   "outputs": [
    {
     "data": {
      "text/plain": [
       "product_name                object\n",
       "brands                      object\n",
       "categories_fr               object\n",
       "main_category_fr            object\n",
       "countries_fr                object\n",
       "energy_100g                float64\n",
       "fat_100g                   float64\n",
       "saturated-fat_100g         float64\n",
       "sugars_100g                float64\n",
       "fiber_100g                 float64\n",
       "proteins_100g              float64\n",
       "salt_100g                  float64\n",
       "sodium_100g                float64\n",
       "nutrition-score-fr_100g    float64\n",
       "dtype: object"
      ]
     },
     "execution_count": 114,
     "metadata": {},
     "output_type": "execute_result"
    }
   ],
   "source": [
    "df.dtypes"
   ]
  },
  {
   "cell_type": "markdown",
   "id": "10b3e586-ab73-4e1d-9f38-6b7e351e3211",
   "metadata": {},
   "source": [
    "#### F. Data dictionary"
   ]
  },
  {
   "cell_type": "code",
   "execution_count": 115,
   "id": "4757b6bf-14c4-4b4c-8363-1df5b8fa068d",
   "metadata": {
    "scrolled": true
   },
   "outputs": [
    {
     "data": {
      "text/html": [
       "<div>\n",
       "<style scoped>\n",
       "    .dataframe tbody tr th:only-of-type {\n",
       "        vertical-align: middle;\n",
       "    }\n",
       "\n",
       "    .dataframe tbody tr th {\n",
       "        vertical-align: top;\n",
       "    }\n",
       "\n",
       "    .dataframe thead th {\n",
       "        text-align: right;\n",
       "    }\n",
       "</style>\n",
       "<table border=\"1\" class=\"dataframe\">\n",
       "  <thead>\n",
       "    <tr style=\"text-align: right;\">\n",
       "      <th></th>\n",
       "      <th>variable</th>\n",
       "      <th>exact_name</th>\n",
       "      <th>description</th>\n",
       "      <th>dtype</th>\n",
       "      <th>values_range</th>\n",
       "      <th>possible_values</th>\n",
       "      <th>nullable</th>\n",
       "      <th>unique</th>\n",
       "      <th>unique_combinations</th>\n",
       "      <th>regex</th>\n",
       "    </tr>\n",
       "  </thead>\n",
       "  <tbody>\n",
       "    <tr>\n",
       "      <th>0</th>\n",
       "      <td>product_name</td>\n",
       "      <td>True</td>\n",
       "      <td>Name of the product</td>\n",
       "      <td>string</td>\n",
       "      <td>[]</td>\n",
       "      <td>[]</td>\n",
       "      <td>True</td>\n",
       "      <td>False</td>\n",
       "      <td>[product_name, brand]</td>\n",
       "      <td></td>\n",
       "    </tr>\n",
       "    <tr>\n",
       "      <th>1</th>\n",
       "      <td>brands</td>\n",
       "      <td>True</td>\n",
       "      <td>Name of the brand</td>\n",
       "      <td>string</td>\n",
       "      <td>[]</td>\n",
       "      <td>[]</td>\n",
       "      <td>True</td>\n",
       "      <td>False</td>\n",
       "      <td>[product_name, brand]</td>\n",
       "      <td></td>\n",
       "    </tr>\n",
       "    <tr>\n",
       "      <th>2</th>\n",
       "      <td>categories_fr</td>\n",
       "      <td>True</td>\n",
       "      <td>Name of the category of the product</td>\n",
       "      <td>string</td>\n",
       "      <td>[]</td>\n",
       "      <td>[]</td>\n",
       "      <td>True</td>\n",
       "      <td>False</td>\n",
       "      <td>[]</td>\n",
       "      <td></td>\n",
       "    </tr>\n",
       "    <tr>\n",
       "      <th>3</th>\n",
       "      <td>countries_fr</td>\n",
       "      <td>True</td>\n",
       "      <td>Name of the country of origin</td>\n",
       "      <td>string</td>\n",
       "      <td>[]</td>\n",
       "      <td>[]</td>\n",
       "      <td>True</td>\n",
       "      <td>False</td>\n",
       "      <td>[]</td>\n",
       "      <td></td>\n",
       "    </tr>\n",
       "    <tr>\n",
       "      <th>4</th>\n",
       "      <td>main_category_fr</td>\n",
       "      <td>True</td>\n",
       "      <td>Name of the main category of the product</td>\n",
       "      <td>string</td>\n",
       "      <td>[]</td>\n",
       "      <td>[]</td>\n",
       "      <td>True</td>\n",
       "      <td>False</td>\n",
       "      <td>[]</td>\n",
       "      <td></td>\n",
       "    </tr>\n",
       "    <tr>\n",
       "      <th>5</th>\n",
       "      <td>100g</td>\n",
       "      <td>False</td>\n",
       "      <td>Nutritional values</td>\n",
       "      <td>float64</td>\n",
       "      <td>[0.0, 100.0]</td>\n",
       "      <td>[]</td>\n",
       "      <td>True</td>\n",
       "      <td>False</td>\n",
       "      <td>[]</td>\n",
       "      <td></td>\n",
       "    </tr>\n",
       "  </tbody>\n",
       "</table>\n",
       "</div>"
      ],
      "text/plain": [
       "           variable  exact_name                               description  \\\n",
       "0      product_name        True                       Name of the product   \n",
       "1            brands        True                         Name of the brand   \n",
       "2     categories_fr        True       Name of the category of the product   \n",
       "3      countries_fr        True             Name of the country of origin   \n",
       "4  main_category_fr        True  Name of the main category of the product   \n",
       "5              100g       False                        Nutritional values   \n",
       "\n",
       "     dtype  values_range possible_values  nullable  unique  \\\n",
       "0   string            []              []      True   False   \n",
       "1   string            []              []      True   False   \n",
       "2   string            []              []      True   False   \n",
       "3   string            []              []      True   False   \n",
       "4   string            []              []      True   False   \n",
       "5  float64  [0.0, 100.0]              []      True   False   \n",
       "\n",
       "     unique_combinations regex  \n",
       "0  [product_name, brand]        \n",
       "1  [product_name, brand]        \n",
       "2                     []        \n",
       "3                     []        \n",
       "4                     []        \n",
       "5                     []        "
      ]
     },
     "execution_count": 115,
     "metadata": {},
     "output_type": "execute_result"
    }
   ],
   "source": [
    "data_dict = pd.read_json('cleaning/data_dict.json')\n",
    "data_dict"
   ]
  },
  {
   "cell_type": "markdown",
   "id": "ba306ffa-c824-4457-9a13-8c1db5feb5be",
   "metadata": {},
   "source": [
    "### 2. Data inspection"
   ]
  },
  {
   "cell_type": "code",
   "execution_count": 116,
   "id": "fa1a3423-9bb0-430b-84a3-aecf40223dc3",
   "metadata": {},
   "outputs": [
    {
     "data": {
      "text/html": [
       "<div>\n",
       "<style scoped>\n",
       "    .dataframe tbody tr th:only-of-type {\n",
       "        vertical-align: middle;\n",
       "    }\n",
       "\n",
       "    .dataframe tbody tr th {\n",
       "        vertical-align: top;\n",
       "    }\n",
       "\n",
       "    .dataframe thead th {\n",
       "        text-align: right;\n",
       "    }\n",
       "</style>\n",
       "<table border=\"1\" class=\"dataframe\">\n",
       "  <thead>\n",
       "    <tr style=\"text-align: right;\">\n",
       "      <th></th>\n",
       "      <th>energy_100g</th>\n",
       "      <th>fat_100g</th>\n",
       "      <th>saturated-fat_100g</th>\n",
       "      <th>sugars_100g</th>\n",
       "      <th>fiber_100g</th>\n",
       "      <th>proteins_100g</th>\n",
       "      <th>salt_100g</th>\n",
       "      <th>sodium_100g</th>\n",
       "      <th>nutrition-score-fr_100g</th>\n",
       "    </tr>\n",
       "  </thead>\n",
       "  <tbody>\n",
       "    <tr>\n",
       "      <th>count</th>\n",
       "      <td>2.611130e+05</td>\n",
       "      <td>243891.000000</td>\n",
       "      <td>229554.000000</td>\n",
       "      <td>244971.000000</td>\n",
       "      <td>200886.000000</td>\n",
       "      <td>259922.000000</td>\n",
       "      <td>255510.000000</td>\n",
       "      <td>255463.000000</td>\n",
       "      <td>221210.000000</td>\n",
       "    </tr>\n",
       "    <tr>\n",
       "      <th>mean</th>\n",
       "      <td>1.141915e+03</td>\n",
       "      <td>12.730379</td>\n",
       "      <td>5.129932</td>\n",
       "      <td>16.003484</td>\n",
       "      <td>2.862111</td>\n",
       "      <td>7.075940</td>\n",
       "      <td>2.028624</td>\n",
       "      <td>0.798815</td>\n",
       "      <td>9.165535</td>\n",
       "    </tr>\n",
       "    <tr>\n",
       "      <th>std</th>\n",
       "      <td>6.447154e+03</td>\n",
       "      <td>17.578747</td>\n",
       "      <td>8.014238</td>\n",
       "      <td>22.327284</td>\n",
       "      <td>12.867578</td>\n",
       "      <td>8.409054</td>\n",
       "      <td>128.269454</td>\n",
       "      <td>50.504428</td>\n",
       "      <td>9.055903</td>\n",
       "    </tr>\n",
       "    <tr>\n",
       "      <th>min</th>\n",
       "      <td>0.000000e+00</td>\n",
       "      <td>0.000000</td>\n",
       "      <td>0.000000</td>\n",
       "      <td>-17.860000</td>\n",
       "      <td>-6.700000</td>\n",
       "      <td>-800.000000</td>\n",
       "      <td>0.000000</td>\n",
       "      <td>0.000000</td>\n",
       "      <td>-15.000000</td>\n",
       "    </tr>\n",
       "    <tr>\n",
       "      <th>25%</th>\n",
       "      <td>3.770000e+02</td>\n",
       "      <td>0.000000</td>\n",
       "      <td>0.000000</td>\n",
       "      <td>1.300000</td>\n",
       "      <td>0.000000</td>\n",
       "      <td>0.700000</td>\n",
       "      <td>0.063500</td>\n",
       "      <td>0.025000</td>\n",
       "      <td>1.000000</td>\n",
       "    </tr>\n",
       "    <tr>\n",
       "      <th>50%</th>\n",
       "      <td>1.100000e+03</td>\n",
       "      <td>5.000000</td>\n",
       "      <td>1.790000</td>\n",
       "      <td>5.710000</td>\n",
       "      <td>1.500000</td>\n",
       "      <td>4.760000</td>\n",
       "      <td>0.581660</td>\n",
       "      <td>0.229000</td>\n",
       "      <td>10.000000</td>\n",
       "    </tr>\n",
       "    <tr>\n",
       "      <th>75%</th>\n",
       "      <td>1.674000e+03</td>\n",
       "      <td>20.000000</td>\n",
       "      <td>7.140000</td>\n",
       "      <td>24.000000</td>\n",
       "      <td>3.600000</td>\n",
       "      <td>10.000000</td>\n",
       "      <td>1.374140</td>\n",
       "      <td>0.541000</td>\n",
       "      <td>16.000000</td>\n",
       "    </tr>\n",
       "    <tr>\n",
       "      <th>max</th>\n",
       "      <td>3.251373e+06</td>\n",
       "      <td>714.290000</td>\n",
       "      <td>550.000000</td>\n",
       "      <td>3520.000000</td>\n",
       "      <td>5380.000000</td>\n",
       "      <td>430.000000</td>\n",
       "      <td>64312.800000</td>\n",
       "      <td>25320.000000</td>\n",
       "      <td>40.000000</td>\n",
       "    </tr>\n",
       "  </tbody>\n",
       "</table>\n",
       "</div>"
      ],
      "text/plain": [
       "        energy_100g       fat_100g  saturated-fat_100g    sugars_100g  \\\n",
       "count  2.611130e+05  243891.000000       229554.000000  244971.000000   \n",
       "mean   1.141915e+03      12.730379            5.129932      16.003484   \n",
       "std    6.447154e+03      17.578747            8.014238      22.327284   \n",
       "min    0.000000e+00       0.000000            0.000000     -17.860000   \n",
       "25%    3.770000e+02       0.000000            0.000000       1.300000   \n",
       "50%    1.100000e+03       5.000000            1.790000       5.710000   \n",
       "75%    1.674000e+03      20.000000            7.140000      24.000000   \n",
       "max    3.251373e+06     714.290000          550.000000    3520.000000   \n",
       "\n",
       "          fiber_100g  proteins_100g      salt_100g    sodium_100g  \\\n",
       "count  200886.000000  259922.000000  255510.000000  255463.000000   \n",
       "mean        2.862111       7.075940       2.028624       0.798815   \n",
       "std        12.867578       8.409054     128.269454      50.504428   \n",
       "min        -6.700000    -800.000000       0.000000       0.000000   \n",
       "25%         0.000000       0.700000       0.063500       0.025000   \n",
       "50%         1.500000       4.760000       0.581660       0.229000   \n",
       "75%         3.600000      10.000000       1.374140       0.541000   \n",
       "max      5380.000000     430.000000   64312.800000   25320.000000   \n",
       "\n",
       "       nutrition-score-fr_100g  \n",
       "count            221210.000000  \n",
       "mean                  9.165535  \n",
       "std                   9.055903  \n",
       "min                 -15.000000  \n",
       "25%                   1.000000  \n",
       "50%                  10.000000  \n",
       "75%                  16.000000  \n",
       "max                  40.000000  "
      ]
     },
     "execution_count": 116,
     "metadata": {},
     "output_type": "execute_result"
    }
   ],
   "source": [
    "df.describe()"
   ]
  },
  {
   "cell_type": "code",
   "execution_count": 117,
   "id": "f7d12103-0d37-4347-98e6-583fca5cc018",
   "metadata": {
    "scrolled": true
   },
   "outputs": [
    {
     "name": "stdout",
     "output_type": "stream",
     "text": [
      "product_name Null: 17762 5.54%\n",
      "product_name Unique: 221347 69.0%\n",
      "brands Null: 28412 8.86%\n",
      "brands Unique: 58784 18.33%\n",
      "categories_fr Null: 236361 73.69%\n",
      "categories_fr Unique: 21152 6.59%\n",
      "countries_fr Null: 280 0.09%\n",
      "countries_fr Unique: 722 0.23%\n",
      "main_category_fr Null: 236406 73.7%\n",
      "main_category_fr Unique: 3543 1.1%\n"
     ]
    }
   ],
   "source": [
    "for variable in data_dict['variable'].loc[data_dict['exact_name']]:\n",
    "    null_n = df[variable].isnull().sum()\n",
    "    null_pct = round(null_n / len(df) * 100, 2)\n",
    "    unique_n = df[variable].nunique()\n",
    "    unique_pct = round(unique_n / len(df) * 100, 2)\n",
    "    print(variable, \"Null:\", str(null_n), str(null_pct) + \"%\")\n",
    "    print(variable, \"Unique:\", str(unique_n), str(unique_pct) + \"%\")"
   ]
  },
  {
   "cell_type": "code",
   "execution_count": 118,
   "id": "6f0f39d6-95ef-4d94-8f7b-99dc8c85bae4",
   "metadata": {},
   "outputs": [
    {
     "data": {
      "text/plain": [
       "array(['France', 'États-Unis', 'Royaume-Uni', 'France,États-Unis',\n",
       "       'Canada', 'Suisse', 'Espagne', 'Allemagne', 'Slovénie', 'Italie',\n",
       "       'Roumanie', 'Australie', 'Portugal', 'France,Royaume-Uni',\n",
       "       'Belgique,France,Pays-Bas,Royaume-Uni', 'Guadeloupe', nan,\n",
       "       'Royaume-Uni,États-Unis', 'Canada,États-Unis', 'Pays-Bas',\n",
       "       'Australie,France', 'Canada,France,Suisse,États-Unis',\n",
       "       'France,États-Unis,en:Etats-unis', 'Irlande', 'France,La Réunion',\n",
       "       'Taiwan', 'Australie,Suisse', 'France,Allemagne', 'Brésil',\n",
       "       'Belgique,France', 'République dominicaine',\n",
       "       'États-Unis,en:Australie', 'Arabie saoudite',\n",
       "       'Émirats arabes unis', 'Irak', 'Koweït', 'Moldavie', 'Belgique',\n",
       "       'Nouvelle-Calédonie', 'Singapour', 'Finlande',\n",
       "       'Australie,États-Unis', 'France,Suisse',\n",
       "       'Australie,Nouvelle-Zélande,Singapour,Thaïlande,États-Unis',\n",
       "       'Polynésie française', 'Panama', 'Costa Rica', 'Mexique',\n",
       "       'États-Unis,en:Pays-bas', 'Espagne,Royaume-Uni,en:Scotland',\n",
       "       'Polynésie française,États-Unis', 'Thaïlande', 'Chine',\n",
       "       'Luxembourg', 'Liban', 'Suisse,États-Unis', 'Allemagne,États-Unis',\n",
       "       'États-Unis,en:Deutschland', 'France,Suisse,États-Unis',\n",
       "       'Belgique,Suisse,États-Unis', 'Danemark,États-Unis,en:Spanien',\n",
       "       'États-Unis,en:Belgie,en:Nederland', 'Belgique,Suisse',\n",
       "       'Malaisie,États-Unis', 'Guyana,États-Unis', 'Serbie', 'Martinique',\n",
       "       'Barbade', 'Aruba', 'Hong Kong', 'Norvège', 'Haïti', 'Salvador',\n",
       "       'Bahreïn,États-Unis', 'France,Italie', 'Taiwan,États-Unis',\n",
       "       'La Réunion', 'Maroc', 'Oman', 'Corée du Sud', 'Trinité-et-Tobago',\n",
       "       'États-Unis,en:Niederlande', 'Chili', 'Cuba',\n",
       "       'France,Royaume-Uni,États-Unis', 'Italie,États-Unis',\n",
       "       'Suisse,Royaume-Uni', 'Philippines', 'Espagne,États-Unis',\n",
       "       'Panama,États-Unis', 'en:United-states-of-america',\n",
       "       'Australie,France,Royaume-Uni', 'Autriche', 'Suède', 'Guinée',\n",
       "       'Costa Rica,États-Unis', 'Israël,États-Unis', 'Chine,Suisse',\n",
       "       'Russie', 'Saint-Pierre-et-Miquelon', 'Canada,France', 'Algérie',\n",
       "       'Pays-Bas,États-Unis', 'Quebec', 'République tchèque',\n",
       "       'Canada,Quebec', 'Canada,France,Suisse',\n",
       "       'Belgique,Canada,France,Suisse', 'Royaume-Uni,en:Czech',\n",
       "       'France,Saint-Pierre-et-Miquelon', 'Canada,Portugal',\n",
       "       'Allemagne,Suisse', 'France,Russie,Espagne,Royaume-Uni', 'Maurice',\n",
       "       'Indonésie', 'Arménie', 'France,Suisse,Royaume-Uni',\n",
       "       'France,Nouvelle-Zélande', \"Côte d'Ivoire\", 'Autriche,Suisse',\n",
       "       'Pologne', 'Grèce', 'Mexique,États-Unis', 'Espagne,Royaume-Uni',\n",
       "       'Inde,Royaume-Uni,États-Unis', 'Belgique,France,Royaume-Uni',\n",
       "       'Singapour,États-Unis', 'Inde', 'Équateur', 'Turquie', 'Cambodge',\n",
       "       'Chili,États-Unis', 'Nouvelle-Calédonie,États-Unis',\n",
       "       'Hong Kong,États-Unis', 'États-Unis,en:香港',\n",
       "       'Canada,France,États-Unis', 'Grèce,États-Unis', 'Argentine',\n",
       "       'France,Pays-Bas', 'France,Pays-Bas,Royaume-Uni',\n",
       "       'République tchèque,Royaume-Uni', 'Union européenne', 'Jordanie',\n",
       "       'Australie,Indonésie,États-Unis', 'Australie,Indonésie', 'Japon',\n",
       "       'Israël', 'Colombie', 'Burundi', 'France,Qatar', 'Tunisie',\n",
       "       'Danemark,Norvège,Suède', 'Danemark', 'Algérie,France',\n",
       "       'France,Guyane', 'Belgique,France,Pays-Bas', 'Bulgarie', 'Hongrie',\n",
       "       'Pérou', 'France,Tunisie', 'Porto Rico', 'Belgique,France,Suisse',\n",
       "       'Belgique,États-Unis', 'Monaco', 'Nigeria', 'Guyane', 'Honduras',\n",
       "       'Belgique,France,Saint-Pierre-et-Miquelon', 'Égypte',\n",
       "       'Chypre,Royaume-Uni', 'Venezuela', 'France,en:An',\n",
       "       'Afrique du Sud', 'Autriche,États-Unis', 'Australie,Philippines',\n",
       "       'Espagne,Suisse', 'France,Japon', \"Côte d'Ivoire,États-Unis\",\n",
       "       'Mongolie', 'Birmanie', 'France,Inde', 'Bahreïn',\n",
       "       'France,Portugal,Royaume-Uni',\n",
       "       'France,Guyane,Grèce,Guadeloupe,Suriname,Royaume-Uni', 'Pakistan',\n",
       "       'Qatar', 'Chili,France,Espagne,Suisse,Royaume-Uni',\n",
       "       'Belgique,France,États-Unis', 'Cameroun',\n",
       "       'États-Unis,Îles Vierges des États-Unis',\n",
       "       'France,États-Unis,en:Royaume-uni', 'Danemark,France,Royaume-Uni',\n",
       "       'Finlande,Portugal,Espagne,Suède,Royaume-Uni', 'Slovaquie',\n",
       "       'Lituanie,Royaume-Uni', 'Portugal,Espagne,Royaume-Uni', 'Sénégal',\n",
       "       'France,Sénégal', 'France,Luxembourg', 'Allemagne,Espagne',\n",
       "       'Other-العراق', 'Togo', 'Islande', 'Belgique,Allemagne',\n",
       "       'Belgique,France,Allemagne,Suisse',\n",
       "       'Allemagne,Royaume-Uni,États-Unis', 'Autriche,Allemagne,Pays-Bas',\n",
       "       'Australie,Allemagne', 'Hongrie,Roumanie,Royaume-Uni',\n",
       "       'Allemagne,de:Weltweit,en:Worldwide',\n",
       "       'France,Royaume-Uni,en:Angleterre',\n",
       "       'Russie,Union des républiques socialistes soviétiques',\n",
       "       'en:Deutschland', 'en:Global-market',\n",
       "       'en:الإمارات-العربية-المتحدة',\n",
       "       'Colombie,Ukraine,en:Czech,en:All-over-the-world', 'en:Island',\n",
       "       'World',\n",
       "       'Danemark,France,Italie,Pays-Bas,Pologne,Portugal,Espagne',\n",
       "       'en:Gulf-countries,en:السعودية', 'en:Turkiye', 'Chili,France',\n",
       "       'en:السعودية', 'France,Allemagne,Espagne', 'France,Espagne',\n",
       "       'France,Allemagne,Roumanie,Royaume-Uni,Scotland',\n",
       "       'Allemagne,Portugal,Espagne', 'Allemagne,Italie',\n",
       "       'Allemagne,Portugal', 'France,Allemagne,Suisse',\n",
       "       'France,Portugal,Espagne',\n",
       "       'Danemark,Finlande,Allemagne,Italie,Portugal,Espagne,Suède,Royaume-Uni',\n",
       "       'France,Maroc', 'France,La Réunion,Suisse',\n",
       "       'République tchèque,France', 'Ukraine', 'Portugal,Espagne',\n",
       "       'France,Portugal', 'France,en:Allemagne',\n",
       "       'France,Allemagne,Italie', 'en:Scotland,Royaume-Uni',\n",
       "       'France,Slovénie', 'Autriche,Espagne', 'France,Suède',\n",
       "       'Autriche,Allemagne', 'Belgique,France,Allemagne',\n",
       "       'France,Royaume-Uni,en:Scotland', 'France,Allemagne,Italie,Suisse',\n",
       "       'France,Allemagne,Vereinigtes-konigreich',\n",
       "       'France,Allemagne,Portugal,Espagne', 'en:Belgie',\n",
       "       'Autriche,République tchèque,France,Allemagne',\n",
       "       'Allemagne,Royaume-Uni', 'Autriche,France,Allemagne',\n",
       "       'France,en:Scotland',\n",
       "       'Belgique,France,Allemagne,Italie,Pays-Bas,Portugal,Espagne',\n",
       "       'Autriche,France,Allemagne,Italie,Suisse',\n",
       "       'Belgique,France,Allemagne,Irlande,Pays-Bas,Portugal,Espagne,Royaume-Uni',\n",
       "       'Albanie', 'France,Allemagne,Royaume-Uni', 'Pologne,Royaume-Uni',\n",
       "       'Belgique,France,Allemagne,Italie,Pays-Bas',\n",
       "       'France,Italie,Suisse', 'Royaume-Uni,en:Scotland',\n",
       "       'France,Allemagne,Pays-Bas,Espagne', 'France,77-provins',\n",
       "       'France,Irlande,Royaume-Uni', 'Malte', 'Croatie',\n",
       "       'Belgique,France,Allemagne,Pays-Bas,Portugal,Espagne',\n",
       "       'France,Irlande', 'Belgique,République tchèque,France',\n",
       "       'Danemark,Pologne,Portugal,Espagne', 'Belgique,Pays-Bas',\n",
       "       'Portugal,Suède', 'Belgique,Luxembourg',\n",
       "       'République tchèque,Allemagne', 'Malawi', 'France,Guadeloupe',\n",
       "       'France,Nouvelle-Calédonie',\n",
       "       'Belgique,Brésil,Canada,France,Suisse',\n",
       "       'Belgique,France,Italie,Maroc,Suisse,Royaume-Uni',\n",
       "       'Algérie,Belgique,Canada,France,Polynésie française,Allemagne,Irlande,Italie,Liban,Luxembourg,Mali,Martinique,Maroc,Pays-Bas,Nouvelle-Calédonie,Portugal,La Réunion,Espagne,Suisse,Tunisie,Royaume-Uni,États-Unis',\n",
       "       'Algérie,Belgique,Canada,France,Allemagne,Italie,Mali,Martinique,Espagne,Suisse',\n",
       "       'Belgique,Danemark,France,Suisse', 'Polynésie française,Suisse',\n",
       "       'Belgique,France,La Réunion,Suisse', 'France,Monaco,Suisse',\n",
       "       'Belgique,France,Polynésie française,Martinique,Suisse', 'Gabon',\n",
       "       'France,Saint-Pierre-et-Miquelon,Suisse',\n",
       "       'Suisse,Deutschland,Frankreich', 'Danemark,France', 'Kazakhstan',\n",
       "       'Belgique,France,Luxembourg', 'en:whole-milk-yogurts',\n",
       "       'en:stirred-yogurts', 'en:yogurts', 'en:fruit-yogurts',\n",
       "       'en:dairies', 'France,Mali', 'France,Gabon',\n",
       "       'Belgique,France,Espagne,Suisse',\n",
       "       'Danemark,France,Suisse,Royaume-Uni', 'République du Congo',\n",
       "       'France,Allemagne,Portugal,Suisse', 'France,Espagne,Suisse',\n",
       "       'Malaisie', 'Autriche,France,Allemagne,Italie,Pays-Bas,Suisse',\n",
       "       'Danemark,Suisse,es:Franciaorszag,es:Magyarorszag,es:Nagy-britannia,es:Portugalia,es:Spanyolorszag',\n",
       "       'Belgique,Danemark,Suisse,es:Franciaorszag,es:Magyarorszag,es:Nagy-britannia,es:Nemetorszag,es:Portugalia,es:Spanyolorszag',\n",
       "       'Danemark,France,Suisse,Magyarorszag,Nagy-britannia,Svajc',\n",
       "       'Belgique,Danemark,France,Suisse,Royaume-Uni',\n",
       "       'France,Allemagne,Maurice,de:Espagne,de:Royaume-uni',\n",
       "       'Danemark,France,Espagne,Suisse', 'Suisse,Émirats arabes unis',\n",
       "       'Belgique,France,Guyane',\n",
       "       'Belgique,France,Mali,La Réunion,Suisse,Royaume-Uni',\n",
       "       'France,Russie', 'Belgique,France,Suisse,Royaume-Uni',\n",
       "       'France,Pays-Bas,Suisse',\n",
       "       'Belgique,France,Maroc,La Réunion,Suisse',\n",
       "       'Belgique,France,Maroc,Espagne,Suisse', 'Danemark,Portugal',\n",
       "       'Italie,Suisse', 'Danemark,Espagne,Suisse',\n",
       "       'France,Aix-en-provence,Bouches-du-rhone,Paca',\n",
       "       'Belgique,France,Portugal,Suisse', 'France,Monaco',\n",
       "       'Belgique,France,Allemagne,Italie,Pays-Bas,Portugal,Espagne,Suisse,Royaume-Uni',\n",
       "       'Iran', 'Belgique,France,Maroc,Suisse', 'France,Martinique',\n",
       "       'France,Guyane,Guadeloupe,Martinique',\n",
       "       'France,Allemagne,États-Unis', 'Danemark,Suisse', 'Pologne,Suisse',\n",
       "       'France,Guadeloupe,Suisse', 'Danemark,Allemagne', 'Saint-Martin',\n",
       "       'Belgique,Danemark,France,Allemagne',\n",
       "       'Suisse,Deutschland,Frankreich,Spanien', 'Suisse,Frankrijk',\n",
       "       'Danemark,Royaume-Uni', 'France,Vanuatu',\n",
       "       'Belgique,France,Grèce,Espagne', 'Belgique,France,Espagne',\n",
       "       'Danemark,France,Suisse', 'Belgique,France,Portugal',\n",
       "       'France,en:Belgique', 'Belgique,France,Pologne,Portugal',\n",
       "       'France,Italie,Portugal,Espagne', 'France,Cora',\n",
       "       'Canada,France,Grèce,Pays-Bas,Espagne,Royaume-Uni,États-Unis',\n",
       "       'Guadeloupe,Martinique', 'France,Portugal,Espagne,Royaume-Uni',\n",
       "       'France,Espagne,Royaume-Uni', 'Mayotte',\n",
       "       'Belgique,France,Mali,Suisse,Royaume-Uni',\n",
       "       'Suisse,Belgien,Deutschland,Frankreich',\n",
       "       'Belgique,France,Pays-Bas,Suisse',\n",
       "       'Belgique,France,Italie,Luxembourg,Mali,Martinique,Suisse',\n",
       "       'Belgique,France,Allemagne,Pays-Bas',\n",
       "       'Guyane,Guadeloupe,Martinique',\n",
       "       'France,Bourgogne-aube-nogent-sur-seine',\n",
       "       'France,Guadeloupe,Martinique',\n",
       "       'Belgique,France,Allemagne,Italie,Pays-Bas,Espagne,Royaume-Uni',\n",
       "       'Autriche,France', 'Belgique,France,Luxembourg,Suisse',\n",
       "       'Chine,France',\n",
       "       'Belgique,France,Allemagne,Italie,Pays-Bas,Royaume-Uni', 'Andorre',\n",
       "       'Danemark,France,Guadeloupe', 'France,Puyricard',\n",
       "       'France,Italie,Espagne', 'France,Émirats arabes unis',\n",
       "       'Wallis-et-Futuna', 'Belgique,France,Grèce', 'France,Belgie',\n",
       "       'Belgique,France,Guadeloupe',\n",
       "       'Algérie,Belgique,Canada,France,Maroc,Suisse',\n",
       "       'France,Polynésie française', 'France,Grèce,Espagne',\n",
       "       'France,Polynésie française,Espagne', 'France,Grèce,Pays-Bas',\n",
       "       'Estonie,France', 'Niger', 'Belgique,France,Italie,Royaume-Uni',\n",
       "       'France,Italie,Pays-Bas,Royaume-Uni',\n",
       "       'Autriche,Danemark,France,Allemagne,Pays-Bas,Espagne,Suisse',\n",
       "       'Serbie,Suisse', 'Bosnie-Herzégovine,Serbie', 'Bosnie-Herzégovine',\n",
       "       'Belgique,France,Allemagne,Roumanie', 'Danemark,France,Allemagne',\n",
       "       'Australie,République tchèque,France,Allemagne,Hongrie',\n",
       "       'Danemark,France,Allemagne,Russie,Espagne,Royaume-Uni',\n",
       "       'République tchèque,Danemark,France,Allemagne',\n",
       "       'Danemark,France,Allemagne,Inde',\n",
       "       'Arménie,France,Allemagne,Italie,Roumanie,Russie',\n",
       "       'Chine,France,Allemagne', 'France,Hongrie',\n",
       "       'Allemagne,Pays-Bas,Espagne,Royaume-Uni',\n",
       "       'Danemark,Suisse,Royaume-Uni',\n",
       "       'Danemark,Allemagne,Suisse,Royaume-Uni', 'Biélorussie',\n",
       "       'Chine,Allemagne', 'Australie,Belgique,France,Suisse',\n",
       "       'France,Allemagne,Suisse,Australien',\n",
       "       'France,Allemagne,Suisse,Australien,Niederlande',\n",
       "       'Allemagne,Pays-Bas', 'Allemagne,Suède',\n",
       "       'Biélorussie,République tchèque', 'Mauritanie',\n",
       "       'Portugal,Roumanie,Espagne', 'Allemagne,Luxembourg',\n",
       "       'République tchèque,France,Suisse', 'Suisse,Magyarorszag',\n",
       "       'Allemagne,Pologne', 'France,Russie,Suisse', 'Chypre',\n",
       "       'France,Roumanie', 'Allemagne,Hongrie',\n",
       "       'Autriche,République tchèque,Allemagne',\n",
       "       'France,Luxembourg,Suisse',\n",
       "       'Danemark,Suisse,en:Deutschland,en:Frankreich',\n",
       "       'Belgique,France,Allemagne,Arabie saoudite,Suisse',\n",
       "       'Danemark,France,Allemagne,Suisse', 'Luxembourg,en:Allemagne',\n",
       "       'Allemagne,Maroc', 'Viêt Nam', 'France,Allemagne,Grèce,Espagne',\n",
       "       'Allemagne,Tunisie', 'Allemagne,Grèce', 'Azerbaïdjan',\n",
       "       'Luxembourg,Suisse', 'Lituanie', 'Belgique,France,World',\n",
       "       'Finlande,France,Grèce,Italie,Espagne,Suède',\n",
       "       'Suisse,Deutschland,Republik-china',\n",
       "       'Belgique,France,Pologne,Suisse',\n",
       "       'Danemark,France,Allemagne,Suède', 'en:日本', 'Japon,en:日本',\n",
       "       'Finlande,France', 'Russie,Royaume-Uni', 'France,Taiwan',\n",
       "       'Other-japon', 'Tchad', 'en:Republique-de-chine', 'Estonie',\n",
       "       'Lettonie', 'Lituanie,Suède', 'Sri Lanka', 'France,Sri Lanka',\n",
       "       'Biélorussie,Géorgie,Kazakhstan,Russie,Ukraine', 'Géorgie,Russie',\n",
       "       'en:香港', 'Singapour,Thaïlande', 'Other-日本', 'Macao',\n",
       "       'Hong Kong,Japon', 'Allemagne,Japon',\n",
       "       'États-Unis,en:Other-日本,en:日本', 'Belgique,Danemark,France',\n",
       "       'Suisse,Royaume-Uni,États-Unis', 'France,Mozambique',\n",
       "       'Australie,Royaume-Uni,États-Unis', 'Union européenne,États-Unis',\n",
       "       'Algérie,Belgique,Égypte,France,Maroc,Qatar,Suisse,Tunisie,Émirats arabes unis',\n",
       "       'Australie,France,Suisse', 'Irlande,Royaume-Uni',\n",
       "       'Belgique,France,Allemagne,Italie,Maroc,Portugal,Serbie,Suisse',\n",
       "       'Belgique,Danemark,France,Allemagne,Luxembourg,Maroc,Portugal,Suisse,Royaume-Uni,États-Unis',\n",
       "       'France,Allemagne,Pays-Bas', 'Suisse,Nederland',\n",
       "       'Pays-Bas,Royaume-Uni', 'Libye', 'France,États-Unis,en:Belgique',\n",
       "       'Union européenne,Suisse', 'Australie,Royaume-Uni',\n",
       "       'Autriche,France,Suisse', 'France,Allemagne,Pays-Bas,Royaume-Uni',\n",
       "       'Bosnie-Herzégovine,Monténégro,Serbie', 'Monténégro,Serbie',\n",
       "       'Pérou,États-Unis', 'Allemagne,Suisse,Royaume-Uni', 'Jersey',\n",
       "       'Danemark,Italie,Norvège,Portugal,Suède,Royaume-Uni',\n",
       "       'Canada,France,Royaume-Uni', 'France,Singapour',\n",
       "       'Espagne,Suisse,Royaume-Uni', 'Danemark,France,États-Unis',\n",
       "       'Belgique,France,Allemagne,Grèce,Pays-Bas,Espagne',\n",
       "       'Belgique,France,Grèce,Pays-Bas,Espagne',\n",
       "       'Autriche,Belgique,Danemark,France,Allemagne,Pays-Bas,Suède,Suisse',\n",
       "       'Belgique,France,Italie,La Réunion,Suisse',\n",
       "       'Belgique,France,Suède,Suisse',\n",
       "       'en:Denemarken,en:Finand,en:Frankrijk,en:Italiaans,en:Zwitserland',\n",
       "       'France,en:Deutschland',\n",
       "       'Estonie,Finlande,France,Allemagne,Irlande,Espagne,Suisse,Royaume-Uni',\n",
       "       'Australie,France,Royaume-Uni,en:Scotland',\n",
       "       'France,Italie,Royaume-Uni', 'République démocratique du Congo',\n",
       "       'France,Serbie', 'Belgique,Serbie', 'Ghana', 'Guinée-Bissau',\n",
       "       'Belgique,France,Allemagne,Italie,Espagne',\n",
       "       'Italie,en:Denemarken,en:Nederland,en:Noorwegen,en:Zweden,en:Belgie,en:Duitsland,en:Frankrijk',\n",
       "       'Belgique,Danemark,Finlande,France,Italie,Maroc,Espagne,Suède,Suisse',\n",
       "       'Danemark,France,Portugal,Suisse',\n",
       "       'France,Allemagne,Italie,Norvège,Espagne,Suède,Royaume-Uni',\n",
       "       'Belgique,République tchèque,Danemark,France,Allemagne,Italie,Pays-Bas,Nouvelle-Zélande,Espagne,Suède,Royaume-Uni',\n",
       "       'Belgique,Portugal', 'Belgique,France,Italie,Espagne',\n",
       "       'Belgique,Danemark',\n",
       "       'Belgique,France,Italie,Pays-Bas,Espagne,Royaume-Uni',\n",
       "       'Belgique,France,Allemagne,Hongrie,Italie,Pays-Bas,Espagne',\n",
       "       'France,Italien,Schweiz', 'Roumanie,Suisse',\n",
       "       'Suisse,en:Deutschland', 'Suisse,en:Belgien,en:Deutschland',\n",
       "       'France,Italie,Luxembourg,Pays-Bas,Espagne',\n",
       "       'Belgique,France,Pays-Bas,Espagne,Royaume-Uni',\n",
       "       'Belgique,France,Allemagne,Pays-Bas,Espagne,Suisse,Royaume-Uni',\n",
       "       'Belgique,France,Allemagne,Hongrie,Suisse',\n",
       "       'Belgique,France,Hongrie,Italie,en:Quebec',\n",
       "       'Belgique,France,Russie', 'Belgique,France,Italie',\n",
       "       'Belgique,Canada,France', 'République centrafricaine',\n",
       "       'République tchèque,Slovaquie,Suisse',\n",
       "       'Belgique,République tchèque,France,Irak,La Réunion,Suisse',\n",
       "       'Algérie,Belgique,Brésil,Cameroun,Canada,France,Allemagne,Inde,Italie,Luxembourg,Mali,Martinique,Maroc,Pays-Bas,Nouvelle-Calédonie,Portugal,La Réunion,Arabie saoudite,Sénégal,Espagne,Suisse,Royaume-Uni,États-Unis',\n",
       "       'Belgique,France,Espagne,Suisse,Royaume-Uni',\n",
       "       'Belgique,France,Koweït', 'France,Pologne',\n",
       "       'Belgique,France,La Réunion,Espagne,Suisse', 'La Réunion,Suisse',\n",
       "       'Belgique,France,Serbie,Suisse', 'Autriche,Belgique,France',\n",
       "       'France,en:العراق,en:المملكة-المتحدة',\n",
       "       'Algérie,Belgique,France,Allemagne,Guadeloupe,Italie,Liban,Luxembourg,Martinique,Maroc,Pays-Bas,Portugal,La Réunion,Sénégal,Espagne,Suisse,Royaume-Uni',\n",
       "       'Belgique,France,Italie,Suisse', 'France,Portugal,Suisse',\n",
       "       'Portugal,Suisse', 'Brésil,Suisse', 'Angola',\n",
       "       'France,Allemagne,Portugal,Royaume-Uni', 'Danemark,Suède',\n",
       "       'en:Azərbaycan', 'en:البحرين', 'Danemark,Finlande,France',\n",
       "       'Belgique,Danemark,France,Pologne',\n",
       "       'Belgique,France,Grèce,Italie,Espagne,Suisse,Royaume-Uni',\n",
       "       'Pologne,en:Szczecin', 'Pologne,États-Unis,en:Szczecin',\n",
       "       'Moldavie,États-Unis', 'Monténégro,Serbie,Slovénie',\n",
       "       'Hongrie,Serbie', 'Bulgarie,République tchèque,Roumanie,Slovaquie',\n",
       "       'France,Malawi', 'Burkina Faso', 'Mozambique', 'Kenya', 'Tanzanie',\n",
       "       'République du Congo,Sénégal', 'France,Maurice', 'Rwanda',\n",
       "       \"Côte d'Ivoire,France\", 'Tunisie,ar:Tunisie', 'en:Tunisie,en:تونس',\n",
       "       'Brunei', 'Qatar,Arabie saoudite,Émirats arabes unis', 'Somalie',\n",
       "       'en:سلطنة-عمان', 'Liban,Qatar,Syrie,Tunisie,Yémen', 'Oman,Qatar',\n",
       "       'Vanuatu', 'France,Norvège', 'Grèce,Israël', 'France,Israël',\n",
       "       'Danemark,Allemagne,Norvège,Suède',\n",
       "       'Finlande,France,Allemagne,Pays-Bas,Norvège,Espagne,Suède,Royaume-Uni',\n",
       "       'France,Guadeloupe,Italie,Pays-Bas,Norvège,Suède,Suisse,Royaume-Uni',\n",
       "       'Guatemala', 'France,Mexique', 'Algérie,Suisse',\n",
       "       'France,Suisse,en:Allemagne', 'France,nl:Pays-bas',\n",
       "       'République centrafricaine,France',\n",
       "       'Belgique,France,Portugal,Espagne', 'Croatie,Monténégro,Serbie',\n",
       "       'Andorre,France', 'France,Suisse,de:Allemagne',\n",
       "       'Croatie,Monténégro,Serbie,Slovénie',\n",
       "       'Bosnie-Herzégovine,Monténégro,République de Macédoine,Serbie',\n",
       "       'Bulgarie,France', 'France,Marseille-6',\n",
       "       'France,Allemagne,Suisse,Tunisie',\n",
       "       'Italie,Pays-Bas,Portugal,Espagne', 'Croatie,Serbie,Slovénie',\n",
       "       'Finlande,en:Belgie,en:Denemarken,en:Frankrijk,en:Spanje,en:Zweden,en:Zwitserland',\n",
       "       'Brésil,France',\n",
       "       'Belgique,Danemark,Finlande,France,Italie,Pays-Bas,Portugal,Espagne,Suède',\n",
       "       'Autriche,France,Suisse,Royaume-Uni', 'Uruguay', 'Paraguay',\n",
       "       'Argentine,France,Suisse', 'Argentine,France', 'Chili,Colombie',\n",
       "       'Argentine,Arabie saoudite', 'Albanie,Italie',\n",
       "       'Danemark,La Réunion',\n",
       "       'Belgique,Danemark,Suisse,Deutschland,Frankreich',\n",
       "       'Belgique,France,Allemagne,Italie', 'Union européenne,France',\n",
       "       'Belgique,France,Hongrie',\n",
       "       'Bulgarie,Allemagne,Irlande,Monténégro,Portugal,Roumanie,Serbie,Royaume-Uni',\n",
       "       'Danemark,France,Italie,Suisse,Royaume-Uni',\n",
       "       'Danemark,France,Italie', 'Suisse,Deutschland,Tschechien',\n",
       "       'France,Portugal,en:Croacia', 'Albanie,Danemark,Italie',\n",
       "       'Italie,Roumanie', 'Belgique,Italie', 'Géorgie',\n",
       "       'France,Italie,Monaco', 'Italie,Espagne',\n",
       "       'France,Allemagne,Grèce,Suède,Royaume-Uni', 'Suisse,Deutschland',\n",
       "       'Danemark,Finlande,France,Allemagne,Hongrie,Italie,Pays-Bas,Norvège,Portugal,Russie,Slovénie,Espagne,Suède,Royaume-Uni',\n",
       "       'France,Italie,Espagne,Suisse', 'Danemark,Suisse,Deutschland',\n",
       "       'Danemark,Italie', 'Belgique,France,Hongrie,Suisse,Royaume-Uni',\n",
       "       'Hongrie,Espagne', 'en:Nederland',\n",
       "       'France,Guadeloupe,Hongrie,Slovénie,Royaume-Uni',\n",
       "       'Danemark,Espagne,en:Frankrike,en:Kina,en:Sverige',\n",
       "       'Italie,Lituanie', 'République tchèque,Italie', 'en:Quebec',\n",
       "       'Éthiopie', 'Italie,Espagne,Suisse', 'République tchèque,Suisse',\n",
       "       'France,Italie,Pays-Bas', 'France,Nouvelle-Zélande,Suisse',\n",
       "       'France,Italie,Serbie,Espagne', 'Suisse,Frankrijk,Nederland',\n",
       "       'Belgique,France,Grèce,Espagne,Suisse',\n",
       "       'Allemagne,Suisse,Frankreich', 'Îles Cook',\n",
       "       'Belgique,Canada,Danemark,France,Allemagne,Maroc,Espagne,Suisse',\n",
       "       'Allemagne,Émirats arabes unis', 'Andorre,Espagne',\n",
       "       'France,es:Espagne', 'Pays-Bas,Suisse',\n",
       "       'France,Allemagne,Grèce,Italie,Portugal,Roumanie,Espagne,Royaume-Uni',\n",
       "       'Danemark,Espagne',\n",
       "       'Autriche,France,Allemagne,Maroc,Pays-Bas,Royaume-Uni',\n",
       "       'Maroc,Espagne', 'Danemark,Portugal,Suisse', 'Cuba,Suisse',\n",
       "       'République tchèque,Hongrie,Slovaquie',\n",
       "       'Chine,République tchèque,France,Grèce,Koweït,Maldives,Pologne,Slovaquie,Afrique du Sud,Corée du Sud',\n",
       "       'Croatie,Hongrie,Serbie', 'Hongrie,Serbie,Suisse',\n",
       "       'République de Macédoine,Serbie',\n",
       "       'Bosnie-Herzégovine,Croatie,République de Macédoine,Serbie,Slovénie',\n",
       "       'Bosnie-Herzégovine,Croatie,Monténégro,Serbie',\n",
       "       'Bosnie-Herzégovine,Croatie,Monténégro,République de Macédoine,Serbie',\n",
       "       'Bosnie-Herzégovine,Croatie,République de Macédoine,Serbie',\n",
       "       'Allemagne,Turquie', 'Mozambique,Suisse', 'Other-turquie',\n",
       "       'Pays-Bas,en:Nederland', 'États-Unis,en:Nederland',\n",
       "       'Nouvelle-Zélande', 'Belgique,Espagne',\n",
       "       'France,Pays-Bas,Espagne,Royaume-Uni', 'Allemagne,Grèce,Espagne',\n",
       "       'Belgique,France,Martinique,Suisse', 'France,Grèce',\n",
       "       'Autriche,Belgique,France,Allemagne,Pays-Bas,Suisse',\n",
       "       'Autriche,Allemagne,Suisse', 'France,Nouvelle-Zélande,Singapour',\n",
       "       'Suisse,es:Deutschland,es:Danemark,es:Spanien',\n",
       "       'Danemark,France,Suisse,Belgien,Sverige',\n",
       "       'France,Allemagne,Espagne,Suisse',\n",
       "       'Belgique,France,Suisse,xx:Danemark',\n",
       "       'Belgique,France,Nouvelle-Calédonie,Espagne,Suisse',\n",
       "       'Belgique,France,Serbie', 'Norvège,Suède',\n",
       "       'Italie,Pays-Bas,Portugal', 'France,Deutschland',\n",
       "       'Portugal,en:Belgie,en:Duitsland,en:Frankrijk,en:Nederland,en:Spanje,en:Zwitserland',\n",
       "       'France,Pays-Bas,Portugal', 'Canada,France,Allemagne,Royaume-Uni',\n",
       "       'États-Unis,en:Казахстан', 'Australie,Inde',\n",
       "       'États-Unis,en:ประเทศออสเตรเลีย,en:ประเทศไทย,en:สหราชอาณาจักร',\n",
       "       'Belgique,Chili', 'France,Suisse,Thaïlande,Royaume-Uni',\n",
       "       'Cambodge,Thaïlande', 'Chine,France,Viêt Nam',\n",
       "       'France,Hongrie,Royaume-Uni', 'Thaïlande,Royaume-Uni', 'en:भारत',\n",
       "       'Croatie,France', 'Égypte,Royaume-Uni,États-Unis',\n",
       "       'Autriche,Croatie,Estonie,Allemagne,Grèce,Italie,Pays-Bas,Pologne,Serbie,Slovénie',\n",
       "       'Autriche,Allemagne,Espagne',\n",
       "       'France,Polynésie française,Nouvelle-Calédonie',\n",
       "       'Australie,Nouvelle-Zélande', 'Australie,Vanuatu', 'Bangladesh',\n",
       "       'Australie,Japon', 'Maldives', 'Australie,Malaisie',\n",
       "       'France,Hong Kong', 'Chine,Hong Kong'], dtype=object)"
      ]
     },
     "execution_count": 118,
     "metadata": {},
     "output_type": "execute_result"
    }
   ],
   "source": [
    "df['countries_fr'].unique()"
   ]
  },
  {
   "cell_type": "code",
   "execution_count": 119,
   "id": "e3bc82a7-48cf-41a4-837d-3b84d6f76fcd",
   "metadata": {},
   "outputs": [
    {
     "data": {
      "text/plain": [
       "1.5765091716234585"
      ]
     },
     "execution_count": 119,
     "metadata": {},
     "output_type": "execute_result"
    }
   ],
   "source": [
    "df['countries_fr'].str.contains(\",\").sum() / len(df) * 100"
   ]
  },
  {
   "cell_type": "code",
   "execution_count": 120,
   "id": "c991d024-fb19-4579-b2d6-df6fd2f9a01d",
   "metadata": {
    "scrolled": true
   },
   "outputs": [
    {
     "name": "stdout",
     "output_type": "stream",
     "text": [
      "energy_100g Null: 59659 18.6%\n",
      "energy_100g Unique: 3997 1.25%\n",
      "fat_100g Null: 76881 23.97%\n",
      "fat_100g Unique: 3378 1.05%\n",
      "saturated-fat_100g Null: 91218 28.44%\n",
      "saturated-fat_100g Unique: 2197 0.68%\n",
      "sugars_100g Null: 75801 23.63%\n",
      "sugars_100g Unique: 4068 1.27%\n",
      "fiber_100g Null: 119886 37.37%\n",
      "fiber_100g Unique: 1016 0.32%\n",
      "proteins_100g Null: 60850 18.97%\n",
      "proteins_100g Unique: 2503 0.78%\n",
      "salt_100g Null: 65262 20.35%\n",
      "salt_100g Unique: 5586 1.74%\n",
      "sodium_100g Null: 65309 20.36%\n",
      "sodium_100g Unique: 5291 1.65%\n",
      "nutrition-score-fr_100g Null: 99562 31.04%\n",
      "nutrition-score-fr_100g Unique: 55 0.02%\n"
     ]
    }
   ],
   "source": [
    "for variable in df.filter(like='100g'):\n",
    "    null_n = df[variable].isnull().sum()\n",
    "    null_pct = round(null_n / len(df) * 100, 2)\n",
    "    unique_n = df[variable].nunique()\n",
    "    unique_pct = round(unique_n / len(df) * 100, 2)\n",
    "    print(variable, \"Null:\", str(null_n), str(null_pct) + \"%\")\n",
    "    print(variable, \"Unique:\", str(unique_n), str(unique_pct) + \"%\")"
   ]
  },
  {
   "cell_type": "code",
   "execution_count": 148,
   "id": "d7b52683-78b4-45bc-8042-2e1ea602072e",
   "metadata": {
    "scrolled": true
   },
   "outputs": [
    {
     "data": {
      "text/plain": [
       "51427"
      ]
     },
     "execution_count": 148,
     "metadata": {},
     "output_type": "execute_result"
    }
   ],
   "source": [
    "df[['product_name', 'brands']].duplicated(keep=False).sum()"
   ]
  },
  {
   "cell_type": "code",
   "execution_count": 149,
   "id": "ff0a2f71-3ff5-4157-b60b-2b0d0dfca76a",
   "metadata": {},
   "outputs": [
    {
     "ename": "KeyError",
     "evalue": "'column_name'",
     "output_type": "error",
     "traceback": [
      "\u001b[0;31m---------------------------------------------------------------------------\u001b[0m",
      "\u001b[0;31mKeyError\u001b[0m                                  Traceback (most recent call last)",
      "File \u001b[0;32m~/repos/oc_p2/myenv/lib/python3.11/site-packages/pandas/core/indexes/base.py:3790\u001b[0m, in \u001b[0;36mIndex.get_loc\u001b[0;34m(self, key)\u001b[0m\n\u001b[1;32m   3789\u001b[0m \u001b[38;5;28;01mtry\u001b[39;00m:\n\u001b[0;32m-> 3790\u001b[0m     \u001b[38;5;28;01mreturn\u001b[39;00m \u001b[38;5;28;43mself\u001b[39;49m\u001b[38;5;241;43m.\u001b[39;49m\u001b[43m_engine\u001b[49m\u001b[38;5;241;43m.\u001b[39;49m\u001b[43mget_loc\u001b[49m\u001b[43m(\u001b[49m\u001b[43mcasted_key\u001b[49m\u001b[43m)\u001b[49m\n\u001b[1;32m   3791\u001b[0m \u001b[38;5;28;01mexcept\u001b[39;00m \u001b[38;5;167;01mKeyError\u001b[39;00m \u001b[38;5;28;01mas\u001b[39;00m err:\n",
      "File \u001b[0;32mindex.pyx:152\u001b[0m, in \u001b[0;36mpandas._libs.index.IndexEngine.get_loc\u001b[0;34m()\u001b[0m\n",
      "File \u001b[0;32mindex.pyx:181\u001b[0m, in \u001b[0;36mpandas._libs.index.IndexEngine.get_loc\u001b[0;34m()\u001b[0m\n",
      "File \u001b[0;32mpandas/_libs/hashtable_class_helper.pxi:7080\u001b[0m, in \u001b[0;36mpandas._libs.hashtable.PyObjectHashTable.get_item\u001b[0;34m()\u001b[0m\n",
      "File \u001b[0;32mpandas/_libs/hashtable_class_helper.pxi:7088\u001b[0m, in \u001b[0;36mpandas._libs.hashtable.PyObjectHashTable.get_item\u001b[0;34m()\u001b[0m\n",
      "\u001b[0;31mKeyError\u001b[0m: 'column_name'",
      "\nThe above exception was the direct cause of the following exception:\n",
      "\u001b[0;31mKeyError\u001b[0m                                  Traceback (most recent call last)",
      "Cell \u001b[0;32mIn[149], line 1\u001b[0m\n\u001b[0;32m----> 1\u001b[0m mask \u001b[38;5;241m=\u001b[39m (\u001b[43mdf\u001b[49m\u001b[43m[\u001b[49m\u001b[38;5;124;43m'\u001b[39;49m\u001b[38;5;124;43mcolumn_name\u001b[39;49m\u001b[38;5;124;43m'\u001b[39;49m\u001b[43m]\u001b[49m \u001b[38;5;241m<\u001b[39m lower_bound) \u001b[38;5;241m|\u001b[39m (df[\u001b[38;5;124m'\u001b[39m\u001b[38;5;124mcolumn_name\u001b[39m\u001b[38;5;124m'\u001b[39m] \u001b[38;5;241m>\u001b[39m upper_bound)\n\u001b[1;32m      2\u001b[0m mask\n",
      "File \u001b[0;32m~/repos/oc_p2/myenv/lib/python3.11/site-packages/pandas/core/frame.py:3896\u001b[0m, in \u001b[0;36mDataFrame.__getitem__\u001b[0;34m(self, key)\u001b[0m\n\u001b[1;32m   3894\u001b[0m \u001b[38;5;28;01mif\u001b[39;00m \u001b[38;5;28mself\u001b[39m\u001b[38;5;241m.\u001b[39mcolumns\u001b[38;5;241m.\u001b[39mnlevels \u001b[38;5;241m>\u001b[39m \u001b[38;5;241m1\u001b[39m:\n\u001b[1;32m   3895\u001b[0m     \u001b[38;5;28;01mreturn\u001b[39;00m \u001b[38;5;28mself\u001b[39m\u001b[38;5;241m.\u001b[39m_getitem_multilevel(key)\n\u001b[0;32m-> 3896\u001b[0m indexer \u001b[38;5;241m=\u001b[39m \u001b[38;5;28;43mself\u001b[39;49m\u001b[38;5;241;43m.\u001b[39;49m\u001b[43mcolumns\u001b[49m\u001b[38;5;241;43m.\u001b[39;49m\u001b[43mget_loc\u001b[49m\u001b[43m(\u001b[49m\u001b[43mkey\u001b[49m\u001b[43m)\u001b[49m\n\u001b[1;32m   3897\u001b[0m \u001b[38;5;28;01mif\u001b[39;00m is_integer(indexer):\n\u001b[1;32m   3898\u001b[0m     indexer \u001b[38;5;241m=\u001b[39m [indexer]\n",
      "File \u001b[0;32m~/repos/oc_p2/myenv/lib/python3.11/site-packages/pandas/core/indexes/base.py:3797\u001b[0m, in \u001b[0;36mIndex.get_loc\u001b[0;34m(self, key)\u001b[0m\n\u001b[1;32m   3792\u001b[0m     \u001b[38;5;28;01mif\u001b[39;00m \u001b[38;5;28misinstance\u001b[39m(casted_key, \u001b[38;5;28mslice\u001b[39m) \u001b[38;5;129;01mor\u001b[39;00m (\n\u001b[1;32m   3793\u001b[0m         \u001b[38;5;28misinstance\u001b[39m(casted_key, abc\u001b[38;5;241m.\u001b[39mIterable)\n\u001b[1;32m   3794\u001b[0m         \u001b[38;5;129;01mand\u001b[39;00m \u001b[38;5;28many\u001b[39m(\u001b[38;5;28misinstance\u001b[39m(x, \u001b[38;5;28mslice\u001b[39m) \u001b[38;5;28;01mfor\u001b[39;00m x \u001b[38;5;129;01min\u001b[39;00m casted_key)\n\u001b[1;32m   3795\u001b[0m     ):\n\u001b[1;32m   3796\u001b[0m         \u001b[38;5;28;01mraise\u001b[39;00m InvalidIndexError(key)\n\u001b[0;32m-> 3797\u001b[0m     \u001b[38;5;28;01mraise\u001b[39;00m \u001b[38;5;167;01mKeyError\u001b[39;00m(key) \u001b[38;5;28;01mfrom\u001b[39;00m \u001b[38;5;21;01merr\u001b[39;00m\n\u001b[1;32m   3798\u001b[0m \u001b[38;5;28;01mexcept\u001b[39;00m \u001b[38;5;167;01mTypeError\u001b[39;00m:\n\u001b[1;32m   3799\u001b[0m     \u001b[38;5;66;03m# If we have a listlike key, _check_indexing_error will raise\u001b[39;00m\n\u001b[1;32m   3800\u001b[0m     \u001b[38;5;66;03m#  InvalidIndexError. Otherwise we fall through and re-raise\u001b[39;00m\n\u001b[1;32m   3801\u001b[0m     \u001b[38;5;66;03m#  the TypeError.\u001b[39;00m\n\u001b[1;32m   3802\u001b[0m     \u001b[38;5;28mself\u001b[39m\u001b[38;5;241m.\u001b[39m_check_indexing_error(key)\n",
      "\u001b[0;31mKeyError\u001b[0m: 'column_name'"
     ]
    }
   ],
   "source": []
  },
  {
   "cell_type": "code",
   "execution_count": 150,
   "id": "801c2ec5-9529-4a02-996a-04121b6afd6d",
   "metadata": {},
   "outputs": [
    {
     "ename": "KeyError",
     "evalue": "'column_name'",
     "output_type": "error",
     "traceback": [
      "\u001b[0;31m---------------------------------------------------------------------------\u001b[0m",
      "\u001b[0;31mKeyError\u001b[0m                                  Traceback (most recent call last)",
      "File \u001b[0;32m~/repos/oc_p2/myenv/lib/python3.11/site-packages/pandas/core/indexes/base.py:3790\u001b[0m, in \u001b[0;36mIndex.get_loc\u001b[0;34m(self, key)\u001b[0m\n\u001b[1;32m   3789\u001b[0m \u001b[38;5;28;01mtry\u001b[39;00m:\n\u001b[0;32m-> 3790\u001b[0m     \u001b[38;5;28;01mreturn\u001b[39;00m \u001b[38;5;28;43mself\u001b[39;49m\u001b[38;5;241;43m.\u001b[39;49m\u001b[43m_engine\u001b[49m\u001b[38;5;241;43m.\u001b[39;49m\u001b[43mget_loc\u001b[49m\u001b[43m(\u001b[49m\u001b[43mcasted_key\u001b[49m\u001b[43m)\u001b[49m\n\u001b[1;32m   3791\u001b[0m \u001b[38;5;28;01mexcept\u001b[39;00m \u001b[38;5;167;01mKeyError\u001b[39;00m \u001b[38;5;28;01mas\u001b[39;00m err:\n",
      "File \u001b[0;32mindex.pyx:152\u001b[0m, in \u001b[0;36mpandas._libs.index.IndexEngine.get_loc\u001b[0;34m()\u001b[0m\n",
      "File \u001b[0;32mindex.pyx:181\u001b[0m, in \u001b[0;36mpandas._libs.index.IndexEngine.get_loc\u001b[0;34m()\u001b[0m\n",
      "File \u001b[0;32mpandas/_libs/hashtable_class_helper.pxi:7080\u001b[0m, in \u001b[0;36mpandas._libs.hashtable.PyObjectHashTable.get_item\u001b[0;34m()\u001b[0m\n",
      "File \u001b[0;32mpandas/_libs/hashtable_class_helper.pxi:7088\u001b[0m, in \u001b[0;36mpandas._libs.hashtable.PyObjectHashTable.get_item\u001b[0;34m()\u001b[0m\n",
      "\u001b[0;31mKeyError\u001b[0m: 'column_name'",
      "\nThe above exception was the direct cause of the following exception:\n",
      "\u001b[0;31mKeyError\u001b[0m                                  Traceback (most recent call last)",
      "Cell \u001b[0;32mIn[150], line 2\u001b[0m\n\u001b[1;32m      1\u001b[0m \u001b[38;5;28;01mfor\u001b[39;00m variable \u001b[38;5;129;01min\u001b[39;00m df\u001b[38;5;241m.\u001b[39mfilter(like\u001b[38;5;241m=\u001b[39m\u001b[38;5;124m'\u001b[39m\u001b[38;5;124m100g\u001b[39m\u001b[38;5;124m'\u001b[39m):\n\u001b[0;32m----> 2\u001b[0m     mask \u001b[38;5;241m=\u001b[39m (\u001b[43mdf\u001b[49m\u001b[43m[\u001b[49m\u001b[38;5;124;43m'\u001b[39;49m\u001b[38;5;124;43mcolumn_name\u001b[39;49m\u001b[38;5;124;43m'\u001b[39;49m\u001b[43m]\u001b[49m \u001b[38;5;241m<\u001b[39m lower_bound) \u001b[38;5;241m|\u001b[39m (df[\u001b[38;5;124m'\u001b[39m\u001b[38;5;124mcolumn_name\u001b[39m\u001b[38;5;124m'\u001b[39m] \u001b[38;5;241m>\u001b[39m upper_bound)\n\u001b[1;32m      3\u001b[0m     mask\n",
      "File \u001b[0;32m~/repos/oc_p2/myenv/lib/python3.11/site-packages/pandas/core/frame.py:3896\u001b[0m, in \u001b[0;36mDataFrame.__getitem__\u001b[0;34m(self, key)\u001b[0m\n\u001b[1;32m   3894\u001b[0m \u001b[38;5;28;01mif\u001b[39;00m \u001b[38;5;28mself\u001b[39m\u001b[38;5;241m.\u001b[39mcolumns\u001b[38;5;241m.\u001b[39mnlevels \u001b[38;5;241m>\u001b[39m \u001b[38;5;241m1\u001b[39m:\n\u001b[1;32m   3895\u001b[0m     \u001b[38;5;28;01mreturn\u001b[39;00m \u001b[38;5;28mself\u001b[39m\u001b[38;5;241m.\u001b[39m_getitem_multilevel(key)\n\u001b[0;32m-> 3896\u001b[0m indexer \u001b[38;5;241m=\u001b[39m \u001b[38;5;28;43mself\u001b[39;49m\u001b[38;5;241;43m.\u001b[39;49m\u001b[43mcolumns\u001b[49m\u001b[38;5;241;43m.\u001b[39;49m\u001b[43mget_loc\u001b[49m\u001b[43m(\u001b[49m\u001b[43mkey\u001b[49m\u001b[43m)\u001b[49m\n\u001b[1;32m   3897\u001b[0m \u001b[38;5;28;01mif\u001b[39;00m is_integer(indexer):\n\u001b[1;32m   3898\u001b[0m     indexer \u001b[38;5;241m=\u001b[39m [indexer]\n",
      "File \u001b[0;32m~/repos/oc_p2/myenv/lib/python3.11/site-packages/pandas/core/indexes/base.py:3797\u001b[0m, in \u001b[0;36mIndex.get_loc\u001b[0;34m(self, key)\u001b[0m\n\u001b[1;32m   3792\u001b[0m     \u001b[38;5;28;01mif\u001b[39;00m \u001b[38;5;28misinstance\u001b[39m(casted_key, \u001b[38;5;28mslice\u001b[39m) \u001b[38;5;129;01mor\u001b[39;00m (\n\u001b[1;32m   3793\u001b[0m         \u001b[38;5;28misinstance\u001b[39m(casted_key, abc\u001b[38;5;241m.\u001b[39mIterable)\n\u001b[1;32m   3794\u001b[0m         \u001b[38;5;129;01mand\u001b[39;00m \u001b[38;5;28many\u001b[39m(\u001b[38;5;28misinstance\u001b[39m(x, \u001b[38;5;28mslice\u001b[39m) \u001b[38;5;28;01mfor\u001b[39;00m x \u001b[38;5;129;01min\u001b[39;00m casted_key)\n\u001b[1;32m   3795\u001b[0m     ):\n\u001b[1;32m   3796\u001b[0m         \u001b[38;5;28;01mraise\u001b[39;00m InvalidIndexError(key)\n\u001b[0;32m-> 3797\u001b[0m     \u001b[38;5;28;01mraise\u001b[39;00m \u001b[38;5;167;01mKeyError\u001b[39;00m(key) \u001b[38;5;28;01mfrom\u001b[39;00m \u001b[38;5;21;01merr\u001b[39;00m\n\u001b[1;32m   3798\u001b[0m \u001b[38;5;28;01mexcept\u001b[39;00m \u001b[38;5;167;01mTypeError\u001b[39;00m:\n\u001b[1;32m   3799\u001b[0m     \u001b[38;5;66;03m# If we have a listlike key, _check_indexing_error will raise\u001b[39;00m\n\u001b[1;32m   3800\u001b[0m     \u001b[38;5;66;03m#  InvalidIndexError. Otherwise we fall through and re-raise\u001b[39;00m\n\u001b[1;32m   3801\u001b[0m     \u001b[38;5;66;03m#  the TypeError.\u001b[39;00m\n\u001b[1;32m   3802\u001b[0m     \u001b[38;5;28mself\u001b[39m\u001b[38;5;241m.\u001b[39m_check_indexing_error(key)\n",
      "\u001b[0;31mKeyError\u001b[0m: 'column_name'"
     ]
    }
   ],
   "source": [
    "for variable in df.filter(like='100g'):\n",
    "    mask = (df[variable] < 100) | (df[variable] > 0)\n",
    "    mask"
   ]
  },
  {
   "cell_type": "markdown",
   "id": "ef001d56-abc1-4f03-b436-7c02ad476eb0",
   "metadata": {},
   "source": [
    "### 3. Data cleaning"
   ]
  },
  {
   "cell_type": "code",
   "execution_count": 130,
   "id": "efb542e8-e926-4c5c-9ebe-81ca389dfc84",
   "metadata": {},
   "outputs": [
    {
     "data": {
      "text/plain": [
       "185"
      ]
     },
     "execution_count": 130,
     "metadata": {},
     "output_type": "execute_result"
    }
   ],
   "source": [
    "mask = df['countries_fr'].str.contains(',', na=False)\n",
    "df.loc[mask, 'countries_fr'] = df.loc[mask, 'countries_fr'].str.split(\",\").str[0]\n",
    "len(df['countries_fr'].unique())"
   ]
  },
  {
   "cell_type": "markdown",
   "id": "b813aade-6f3f-4465-9dd3-cd494ebbd09c",
   "metadata": {},
   "source": [
    "### 4. Evaluation"
   ]
  }
 ],
 "metadata": {
  "kernelspec": {
   "display_name": "Python 3 (ipykernel)",
   "language": "python",
   "name": "python3"
  },
  "language_info": {
   "codemirror_mode": {
    "name": "ipython",
    "version": 3
   },
   "file_extension": ".py",
   "mimetype": "text/x-python",
   "name": "python",
   "nbconvert_exporter": "python",
   "pygments_lexer": "ipython3",
   "version": "3.11.5"
  }
 },
 "nbformat": 4,
 "nbformat_minor": 5
}
